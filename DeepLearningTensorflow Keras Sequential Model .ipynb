{
 "cells": [
  {
   "cell_type": "markdown",
   "id": "30cfd785",
   "metadata": {},
   "source": [
    "# Data Preparing & Processing"
   ]
  },
  {
   "cell_type": "markdown",
   "id": "2d4e0d47",
   "metadata": {},
   "source": [
    "## Importing Libraries"
   ]
  },
  {
   "cell_type": "code",
   "execution_count": 32,
   "id": "9985b5ae",
   "metadata": {},
   "outputs": [],
   "source": [
    "import tensorflow as tf\n",
    "from tensorflow import keras\n",
    "from tensorflow.keras.models import Sequential\n",
    "from tensorflow.keras.layers import Dense, Activation\n",
    "from tensorflow.keras.optimizers import Adam\n",
    "from tensorflow.keras.metrics import categorical_crossentropy"
   ]
  },
  {
   "cell_type": "code",
   "execution_count": 155,
   "id": "2f4b48c2",
   "metadata": {},
   "outputs": [],
   "source": [
    "import numpy as np\n",
    "from random import randint\n",
    "from sklearn.utils import shuffle\n",
    "from sklearn.preprocessing import MinMaxScaler\n",
    "from sklearn.metrics import confusion_matrix\n",
    "import itertools\n",
    "import seaborn as sns\n",
    "import matplotlib.pyplot as plt\n",
    "%matplotlib inline"
   ]
  },
  {
   "cell_type": "code",
   "execution_count": 129,
   "id": "64a374e0",
   "metadata": {},
   "outputs": [],
   "source": [
    "## Initialising Dataset\n",
    "train_samples = []\n",
    "train_labels = []"
   ]
  },
  {
   "cell_type": "markdown",
   "id": "13d90af8",
   "metadata": {},
   "source": [
    "## Data Creation\n",
    "\n",
    "We will be creating our own data set.\n",
    "\n",
    "Hypothetical an experimental drug was tested on individuals ranging from age 18 to 80 in a clinical trial. The trial had 4000 participants. 60% of the participants were under 50 years old, and the others were above 50 years.\n",
    "\n",
    "The trial showed that around 85% of patients 65 or older experienced side effects from the drug, and around 90% of patients under 65 experienced no side effects, generally showing that elderly individuals were more likely to experience side effects.\n",
    "\n",
    "We want to build a model to tell us whether or not a patient will experience side effects solely based on the patient's age."
   ]
  },
  {
   "cell_type": "code",
   "execution_count": 130,
   "id": "2b89a6f1",
   "metadata": {},
   "outputs": [],
   "source": [
    "#Unaffected young population\n",
    "for i in range(int(4000*0.6*0.9)):\n",
    "    train_samples.append(randint(18,50))\n",
    "    train_labels.append(0)\n",
    "    \n",
    "#Affected young population\n",
    "for i in range(int(4000*0.6*0.1)):\n",
    "    train_samples.append(randint(18,50))\n",
    "    train_labels.append(1)\n",
    "\n",
    "#Affected old population\n",
    "for i in range(int(4000*0.4*0.85)):\n",
    "    train_samples.append(randint(50,75))\n",
    "    train_labels.append(1)\n",
    "    \n",
    "#Unaffected old population\n",
    "for i in range(int(4000*0.4*0.15)):\n",
    "    train_samples.append(randint(50,75))\n",
    "    train_labels.append(0)"
   ]
  },
  {
   "cell_type": "code",
   "execution_count": 131,
   "id": "4132f194",
   "metadata": {},
   "outputs": [],
   "source": [
    "train_samples = np.array(train_samples)\n",
    "train_labels = np.array(train_labels)"
   ]
  },
  {
   "cell_type": "markdown",
   "id": "fee7e18e",
   "metadata": {},
   "source": [
    "### Shuffling data to remove any order during data creation"
   ]
  },
  {
   "cell_type": "code",
   "execution_count": 132,
   "id": "0e7c09a8",
   "metadata": {},
   "outputs": [],
   "source": [
    "train_samples, train_labels = shuffle(train_samples, train_labels, random_state = 10)"
   ]
  },
  {
   "cell_type": "markdown",
   "id": "293208c4",
   "metadata": {},
   "source": [
    "### Scaling Data"
   ]
  },
  {
   "cell_type": "code",
   "execution_count": 133,
   "id": "c5589edf",
   "metadata": {},
   "outputs": [],
   "source": [
    "scaler = MinMaxScaler(feature_range=(0,1))"
   ]
  },
  {
   "cell_type": "code",
   "execution_count": 134,
   "id": "3edad427",
   "metadata": {},
   "outputs": [
    {
     "data": {
      "text/plain": [
       "array([[0.31578947],\n",
       "       [0.14035088],\n",
       "       [0.10526316],\n",
       "       ...,\n",
       "       [0.29824561],\n",
       "       [0.89473684],\n",
       "       [0.29824561]])"
      ]
     },
     "execution_count": 134,
     "metadata": {},
     "output_type": "execute_result"
    }
   ],
   "source": [
    "train_samples_scaled = scaler.fit_transform(train_samples.reshape(-1,1))\n",
    "train_samples_scaled"
   ]
  },
  {
   "cell_type": "markdown",
   "id": "0dcfa365",
   "metadata": {},
   "source": [
    "### Device Check: CPU & GPU"
   ]
  },
  {
   "cell_type": "code",
   "execution_count": 135,
   "id": "8733bf3e",
   "metadata": {},
   "outputs": [
    {
     "data": {
      "text/plain": [
       "[PhysicalDevice(name='/physical_device:CPU:0', device_type='CPU')]"
      ]
     },
     "execution_count": 135,
     "metadata": {},
     "output_type": "execute_result"
    }
   ],
   "source": [
    "tf.config.experimental.list_physical_devices()"
   ]
  },
  {
   "cell_type": "markdown",
   "id": "b18b6a2f",
   "metadata": {},
   "source": [
    "### For running in GPU\n",
    "\n",
    "physical_devices = tf.config.experimental.list_physical_devices('GPU')\n",
    "\n",
    "print(\"Num GPUs Available: \", len(physical_devices))\n",
    "\n",
    "tf.config.experimental.set_memory_growth(physical_devices[0], True)"
   ]
  },
  {
   "cell_type": "markdown",
   "id": "394e0197",
   "metadata": {},
   "source": [
    "### ANN Model creation"
   ]
  },
  {
   "cell_type": "code",
   "execution_count": 136,
   "id": "6290752a",
   "metadata": {},
   "outputs": [],
   "source": [
    "model = Sequential([\n",
    "    Dense(units = 16, input_shape = (1,), activation ='relu'),\n",
    "    Dense(units = 32, activation ='relu'),\n",
    "    Dense(units = 2, activation ='softmax')\n",
    "])"
   ]
  },
  {
   "cell_type": "code",
   "execution_count": 137,
   "id": "a5521514",
   "metadata": {},
   "outputs": [
    {
     "name": "stdout",
     "output_type": "stream",
     "text": [
      "Model: \"sequential_22\"\n",
      "_________________________________________________________________\n",
      "Layer (type)                 Output Shape              Param #   \n",
      "=================================================================\n",
      "dense_68 (Dense)             (None, 16)                32        \n",
      "_________________________________________________________________\n",
      "dense_69 (Dense)             (None, 32)                544       \n",
      "_________________________________________________________________\n",
      "dense_70 (Dense)             (None, 2)                 66        \n",
      "=================================================================\n",
      "Total params: 642\n",
      "Trainable params: 642\n",
      "Non-trainable params: 0\n",
      "_________________________________________________________________\n"
     ]
    }
   ],
   "source": [
    "model.summary()"
   ]
  },
  {
   "cell_type": "markdown",
   "id": "123eb003",
   "metadata": {},
   "source": [
    "### Training ANN Model"
   ]
  },
  {
   "cell_type": "code",
   "execution_count": 138,
   "id": "f4940701",
   "metadata": {},
   "outputs": [],
   "source": [
    "model.compile(optimizer = Adam(learning_rate = 0.0001), \n",
    "              loss = 'sparse_categorical_crossentropy', \n",
    "              metrics=['accuracy'])"
   ]
  },
  {
   "cell_type": "code",
   "execution_count": 139,
   "id": "877079f8",
   "metadata": {},
   "outputs": [
    {
     "name": "stdout",
     "output_type": "stream",
     "text": [
      "Epoch 1/25\n",
      "216/216 - 0s - loss: 0.6890 - accuracy: 0.6157 - val_loss: 0.6817 - val_accuracy: 0.6842\n",
      "Epoch 2/25\n",
      "216/216 - 0s - loss: 0.6743 - accuracy: 0.7787 - val_loss: 0.6681 - val_accuracy: 0.8116\n",
      "Epoch 3/25\n",
      "216/216 - 0s - loss: 0.6584 - accuracy: 0.8614 - val_loss: 0.6528 - val_accuracy: 0.8449\n",
      "Epoch 4/25\n",
      "216/216 - 0s - loss: 0.6407 - accuracy: 0.8599 - val_loss: 0.6359 - val_accuracy: 0.8476\n",
      "Epoch 5/25\n",
      "216/216 - 0s - loss: 0.6210 - accuracy: 0.8586 - val_loss: 0.6173 - val_accuracy: 0.8449\n",
      "Epoch 6/25\n",
      "216/216 - 0s - loss: 0.5998 - accuracy: 0.8515 - val_loss: 0.5976 - val_accuracy: 0.8449\n",
      "Epoch 7/25\n",
      "216/216 - 0s - loss: 0.5777 - accuracy: 0.8460 - val_loss: 0.5775 - val_accuracy: 0.8476\n",
      "Epoch 8/25\n",
      "216/216 - 0s - loss: 0.5561 - accuracy: 0.8667 - val_loss: 0.5585 - val_accuracy: 0.8476\n",
      "Epoch 9/25\n",
      "216/216 - 0s - loss: 0.5352 - accuracy: 0.8648 - val_loss: 0.5405 - val_accuracy: 0.8476\n",
      "Epoch 10/25\n",
      "216/216 - 0s - loss: 0.5156 - accuracy: 0.8698 - val_loss: 0.5240 - val_accuracy: 0.8476\n",
      "Epoch 11/25\n",
      "216/216 - 0s - loss: 0.4977 - accuracy: 0.8685 - val_loss: 0.5094 - val_accuracy: 0.8476\n",
      "Epoch 12/25\n",
      "216/216 - 0s - loss: 0.4801 - accuracy: 0.8722 - val_loss: 0.4946 - val_accuracy: 0.8449\n",
      "Epoch 13/25\n",
      "216/216 - 0s - loss: 0.4647 - accuracy: 0.8670 - val_loss: 0.4842 - val_accuracy: 0.8449\n",
      "Epoch 14/25\n",
      "216/216 - 0s - loss: 0.4530 - accuracy: 0.8707 - val_loss: 0.4755 - val_accuracy: 0.8338\n",
      "Epoch 15/25\n",
      "216/216 - 0s - loss: 0.4435 - accuracy: 0.8657 - val_loss: 0.4694 - val_accuracy: 0.8449\n",
      "Epoch 16/25\n",
      "216/216 - 0s - loss: 0.4361 - accuracy: 0.8651 - val_loss: 0.4647 - val_accuracy: 0.8449\n",
      "Epoch 17/25\n",
      "216/216 - 0s - loss: 0.4302 - accuracy: 0.8645 - val_loss: 0.4610 - val_accuracy: 0.8338\n",
      "Epoch 18/25\n",
      "216/216 - 0s - loss: 0.4253 - accuracy: 0.8630 - val_loss: 0.4584 - val_accuracy: 0.8338\n",
      "Epoch 19/25\n",
      "216/216 - 0s - loss: 0.4214 - accuracy: 0.8627 - val_loss: 0.4564 - val_accuracy: 0.8338\n",
      "Epoch 20/25\n",
      "216/216 - 0s - loss: 0.4182 - accuracy: 0.8611 - val_loss: 0.4550 - val_accuracy: 0.8338\n",
      "Epoch 21/25\n",
      "216/216 - 0s - loss: 0.4158 - accuracy: 0.8630 - val_loss: 0.4541 - val_accuracy: 0.8338\n",
      "Epoch 22/25\n",
      "216/216 - 0s - loss: 0.4138 - accuracy: 0.8611 - val_loss: 0.4532 - val_accuracy: 0.8338\n",
      "Epoch 23/25\n",
      "216/216 - 0s - loss: 0.4119 - accuracy: 0.8623 - val_loss: 0.4527 - val_accuracy: 0.8338\n",
      "Epoch 24/25\n",
      "216/216 - 0s - loss: 0.4105 - accuracy: 0.8627 - val_loss: 0.4522 - val_accuracy: 0.8338\n",
      "Epoch 25/25\n",
      "216/216 - 0s - loss: 0.4092 - accuracy: 0.8627 - val_loss: 0.4518 - val_accuracy: 0.8338\n"
     ]
    },
    {
     "data": {
      "text/plain": [
       "<tensorflow.python.keras.callbacks.History at 0x2d1caf9b0a0>"
      ]
     },
     "execution_count": 139,
     "metadata": {},
     "output_type": "execute_result"
    }
   ],
   "source": [
    "model.fit(x= train_samples_scaled[:3601], \n",
    "          y= train_labels[:3601], \n",
    "          epochs = 25,\n",
    "          validation_split=0.1,\n",
    "          batch_size = 15, \n",
    "          shuffle=True, \n",
    "          verbose = 2)"
   ]
  },
  {
   "cell_type": "markdown",
   "id": "82d91731",
   "metadata": {},
   "source": [
    "### ANN Model Predictions"
   ]
  },
  {
   "cell_type": "code",
   "execution_count": 144,
   "id": "39f8503b",
   "metadata": {},
   "outputs": [],
   "source": [
    "predictions = model.predict(train_samples_scaled[3601:])"
   ]
  },
  {
   "cell_type": "code",
   "execution_count": 149,
   "id": "1a2bf4a2",
   "metadata": {},
   "outputs": [
    {
     "data": {
      "text/plain": [
       "array([1, 1, 0, 1, 0, 0, 1, 0, 0, 0, 0, 0, 1, 0, 0, 0, 1, 1, 0, 1, 0, 0,\n",
       "       1, 0, 0, 1, 1, 1, 0, 0, 0, 0, 0, 0, 0, 1, 0, 0, 0, 0, 0, 0, 0, 1,\n",
       "       1, 0, 1, 1, 1, 1, 0, 0, 1, 0, 1, 0, 1, 0, 1, 1, 1, 1, 1, 0, 0, 1,\n",
       "       0, 0, 0, 0, 0, 0, 0, 0, 1, 0, 0, 0, 0, 0, 0, 1, 1, 0, 0, 0, 1, 1,\n",
       "       1, 0, 1, 0, 1, 0, 0, 0, 1, 0, 0, 0, 0, 1, 1, 1, 0, 0, 1, 0, 1, 0,\n",
       "       0, 0, 1, 0, 0, 0, 0, 1, 1, 0, 0, 0, 0, 0, 0, 0, 1, 1, 1, 0, 0, 1,\n",
       "       0, 1, 0, 0, 1, 1, 0, 0, 1, 0, 0, 0, 0, 0, 0, 0, 1, 0, 0, 0, 0, 0,\n",
       "       1, 1, 1, 0, 1, 1, 0, 0, 0, 0, 0, 0, 0, 0, 0, 1, 0, 0, 0, 0, 0, 0,\n",
       "       0, 0, 0, 0, 0, 1, 1, 1, 1, 0, 0, 1, 0, 1, 0, 0, 1, 0, 0, 0, 0, 1,\n",
       "       1, 0, 0, 1, 1, 0, 1, 0, 1, 1, 0, 0, 0, 1, 1, 0, 0, 0, 0, 0, 0, 0,\n",
       "       0, 0, 0, 0, 0, 0, 0, 1, 0, 1, 1, 0, 0, 1, 0, 0, 0, 0, 0, 0, 0, 1,\n",
       "       0, 0, 1, 0, 0, 0, 0, 1, 1, 1, 1, 1, 1, 0, 0, 0, 1, 0, 0, 1, 0, 1,\n",
       "       1, 0, 0, 1, 1, 1, 0, 1, 0, 1, 1, 1, 0, 0, 1, 0, 0, 0, 1, 1, 0, 1,\n",
       "       0, 0, 0, 0, 0, 1, 0, 0, 0, 1, 1, 1, 0, 0, 1, 0, 1, 1, 1, 0, 0, 1,\n",
       "       0, 0, 0, 1, 0, 0, 1, 0, 1, 0, 0, 1, 0, 1, 0, 0, 0, 0, 1, 0, 0, 1,\n",
       "       1, 0, 1, 0, 1, 0, 0, 1, 1, 1, 1, 1, 0, 1, 0, 0, 1, 1, 1, 1, 0, 1,\n",
       "       1, 0, 1, 0, 0, 0, 1, 0, 1, 0, 1, 1, 0, 0, 1, 0, 1, 0, 1, 1, 1, 0,\n",
       "       1, 0, 0, 0, 1, 1, 1, 0, 1, 0, 0, 0, 0, 1, 0, 0, 0, 0, 0, 1, 1, 0,\n",
       "       0, 1, 0], dtype=int64)"
      ]
     },
     "execution_count": 149,
     "metadata": {},
     "output_type": "execute_result"
    }
   ],
   "source": [
    "predict = np.argmax(predictions, axis = -1)\n",
    "predict"
   ]
  },
  {
   "cell_type": "markdown",
   "id": "a0aa4b7c",
   "metadata": {},
   "source": [
    "### Confusion matrix"
   ]
  },
  {
   "cell_type": "code",
   "execution_count": 150,
   "id": "94596144",
   "metadata": {},
   "outputs": [],
   "source": [
    "cm = confusion_matrix(y_true = train_labels[3601:],\n",
    "                     y_pred = predict)"
   ]
  },
  {
   "cell_type": "code",
   "execution_count": 151,
   "id": "c0fcac8a",
   "metadata": {},
   "outputs": [
    {
     "data": {
      "text/plain": [
       "<AxesSubplot:>"
      ]
     },
     "execution_count": 151,
     "metadata": {},
     "output_type": "execute_result"
    },
    {
     "data": {
      "image/png": "[encoded data removed]",
      "text/plain": [
       "<Figure size 432x288 with 2 Axes>"
      ]
     },
     "metadata": {
      "needs_background": "light"
     },
     "output_type": "display_data"
    }
   ],
   "source": [
    "sns.heatmap(cm, annot=True)"
   ]
  },
  {
   "cell_type": "code",
   "execution_count": 156,
   "id": "3f5de7c5",
   "metadata": {},
   "outputs": [],
   "source": [
    "def plot_confusion_matrix(cm, classes,\n",
    "                        normalize=False,\n",
    "                        title='Confusion matrix',\n",
    "                        cmap=plt.cm.Blues):\n",
    "    \"\"\"\n",
    "    This function prints and plots the confusion matrix.\n",
    "    Normalization can be applied by setting `normalize=True`.\n",
    "    \"\"\"\n",
    "    plt.imshow(cm, interpolation='nearest', cmap=cmap)\n",
    "    plt.title(title)\n",
    "    plt.colorbar()\n",
    "    tick_marks = np.arange(len(classes))\n",
    "    plt.xticks(tick_marks, classes, rotation=45)\n",
    "    plt.yticks(tick_marks, classes)\n",
    "\n",
    "    if normalize:\n",
    "        cm = cm.astype('float') / cm.sum(axis=1)[:, np.newaxis]\n",
    "        print(\"Normalized confusion matrix\")\n",
    "    else:\n",
    "        print('Confusion matrix, without normalization')\n",
    "\n",
    "    print(cm)\n",
    "\n",
    "    thresh = cm.max() / 2.\n",
    "    for i, j in itertools.product(range(cm.shape[0]), range(cm.shape[1])):\n",
    "        plt.text(j, i, cm[i, j],\n",
    "            horizontalalignment=\"center\",\n",
    "            color=\"white\" if cm[i, j] > thresh else \"black\")\n",
    "\n",
    "    plt.tight_layout()\n",
    "    plt.ylabel('True label')\n",
    "    plt.xlabel('Predicted label')"
   ]
  },
  {
   "cell_type": "code",
   "execution_count": 157,
   "id": "436f81fc",
   "metadata": {},
   "outputs": [],
   "source": [
    "cm_plot_labels = ['no_side_effects','had_side_effects']"
   ]
  },
  {
   "cell_type": "code",
   "execution_count": 158,
   "id": "fbc818a4",
   "metadata": {},
   "outputs": [
    {
     "name": "stdout",
     "output_type": "stream",
     "text": [
      "Confusion matrix, without normalization\n",
      "[[214  21]\n",
      " [ 32 132]]\n"
     ]
    },
    {
     "data": {
      "image/png": "[encoded data removed]",
      "text/plain": [
       "<Figure size 432x288 with 2 Axes>"
      ]
     },
     "metadata": {
      "needs_background": "light"
     },
     "output_type": "display_data"
    }
   ],
   "source": [
    "plot_confusion_matrix(cm=cm, classes=cm_plot_labels, title='Confusion Matrix')"
   ]
  },
  {
   "cell_type": "markdown",
   "id": "4cf46080",
   "metadata": {},
   "source": [
    "### Saving Model"
   ]
  },
  {
   "cell_type": "code",
   "execution_count": 162,
   "id": "d9dea2d6",
   "metadata": {},
   "outputs": [],
   "source": [
    "import os.path\n",
    "if os.path.isfile('medical_trial_model.h5') is False:\n",
    "    model.save('medical_trial_model.h5')"
   ]
  },
  {
   "cell_type": "markdown",
   "id": "3aeda684",
   "metadata": {},
   "source": [
    "### Loading Model"
   ]
  },
  {
   "cell_type": "code",
   "execution_count": 163,
   "id": "b5fbd613",
   "metadata": {},
   "outputs": [],
   "source": [
    "from tensorflow.keras.models import load_model"
   ]
  },
  {
   "cell_type": "code",
   "execution_count": 164,
   "id": "0fa795af",
   "metadata": {},
   "outputs": [
    {
     "data": {
      "text/plain": [
       "<tensorflow.python.keras.engine.sequential.Sequential at 0x2d1ce4c0970>"
      ]
     },
     "execution_count": 164,
     "metadata": {},
     "output_type": "execute_result"
    }
   ],
   "source": [
    "new_model = load_model('medical_trial_model.h5')\n",
    "new_model"
   ]
  },
  {
   "cell_type": "code",
   "execution_count": 165,
   "id": "8b744fd7",
   "metadata": {},
   "outputs": [
    {
     "name": "stdout",
     "output_type": "stream",
     "text": [
      "Model: \"sequential_22\"\n",
      "_________________________________________________________________\n",
      "Layer (type)                 Output Shape              Param #   \n",
      "=================================================================\n",
      "dense_68 (Dense)             (None, 16)                32        \n",
      "_________________________________________________________________\n",
      "dense_69 (Dense)             (None, 32)                544       \n",
      "_________________________________________________________________\n",
      "dense_70 (Dense)             (None, 2)                 66        \n",
      "=================================================================\n",
      "Total params: 642\n",
      "Trainable params: 642\n",
      "Non-trainable params: 0\n",
      "_________________________________________________________________\n"
     ]
    }
   ],
   "source": [
    "new_model.summary()"
   ]
  },
  {
   "cell_type": "code",
   "execution_count": 166,
   "id": "8a0f305c",
   "metadata": {},
   "outputs": [
    {
     "data": {
      "text/plain": [
       "[<tf.Variable 'dense_68/kernel:0' shape=(1, 16) dtype=float32, numpy=\n",
       " array([[-0.04832333,  0.33401257,  0.48139626, -0.5505654 , -0.3442818 ,\n",
       "         -0.10689732,  0.26356652,  0.6180371 ,  0.6171073 ,  0.3057858 ,\n",
       "          0.32311723, -0.1783567 , -0.3345493 , -0.36795184, -0.21546444,\n",
       "         -0.3102338 ]], dtype=float32)>,\n",
       " <tf.Variable 'dense_68/bias:0' shape=(16,) dtype=float32, numpy=\n",
       " array([ 0.        , -0.06594667, -0.13038078,  0.        ,  0.        ,\n",
       "         0.        , -0.08268191, -0.11123779, -0.04104938, -0.09430768,\n",
       "         0.24724591,  0.        ,  0.        ,  0.        ,  0.        ,\n",
       "         0.        ], dtype=float32)>,\n",
       " <tf.Variable 'dense_69/kernel:0' shape=(16, 32) dtype=float32, numpy=\n",
       " array([[-0.115078  ,  0.2968398 ,  0.2889389 ,  0.32050636,  0.29175547,\n",
       "         -0.20405868,  0.00854704,  0.3239403 ,  0.16677406, -0.02198294,\n",
       "          0.07286483, -0.3278193 , -0.09296986,  0.01112449,  0.2292737 ,\n",
       "          0.24668202,  0.34277692, -0.20776583, -0.17707248, -0.03964198,\n",
       "         -0.07793272, -0.08358553,  0.26820144,  0.07904506, -0.10120663,\n",
       "         -0.32905418, -0.18136589,  0.18698111,  0.18180683,  0.16505483,\n",
       "          0.1823766 ,  0.03850737],\n",
       "        [ 0.15144965, -0.33619183,  0.29881644,  0.01435588, -0.13871312,\n",
       "         -0.00567508, -0.3141394 ,  0.34236467,  0.33882824, -0.22574338,\n",
       "          0.2835478 ,  0.28736612, -0.24490911,  0.5149398 , -0.12935747,\n",
       "          0.2673793 , -0.03854571,  0.2647405 , -0.1516398 , -0.00550704,\n",
       "         -0.1825343 ,  0.33541843,  0.29163918, -0.02374139, -0.29104432,\n",
       "          0.10844176, -0.2331121 ,  0.1674137 , -0.2831156 , -0.32444718,\n",
       "         -0.05728626, -0.15179743],\n",
       "        [-0.27341157,  0.05946845,  0.4632184 , -0.3027499 ,  0.30502424,\n",
       "          0.14471373, -0.01350297, -0.02184877,  0.25069937,  0.13555792,\n",
       "          0.17896107,  0.33651462, -0.08780494,  0.5654666 , -0.43283665,\n",
       "         -0.00241144, -0.18048507,  0.4036489 ,  0.39233226, -0.5922996 ,\n",
       "          0.4260688 ,  0.21347967,  0.3571719 ,  0.20016387, -0.53865707,\n",
       "         -0.02678052,  0.13989323, -0.04616843, -0.37662935, -0.26478478,\n",
       "          0.2153162 , -0.17982459],\n",
       "        [-0.03226939,  0.09482744,  0.10303059,  0.0384472 ,  0.2241951 ,\n",
       "          0.11712694, -0.22297049,  0.24715266, -0.21614614,  0.21341655,\n",
       "         -0.17788659, -0.32306367,  0.19036558, -0.02993286,  0.34216234,\n",
       "          0.31279656, -0.14842603, -0.2831213 , -0.1450778 , -0.12104338,\n",
       "          0.34850654,  0.03579742, -0.19933209,  0.03473735, -0.02699092,\n",
       "          0.3337334 , -0.19579074,  0.3107482 ,  0.21710321,  0.26965168,\n",
       "          0.34568653,  0.2769949 ],\n",
       "        [ 0.27406248, -0.04096285, -0.19593379,  0.34573254,  0.07918203,\n",
       "          0.06552175,  0.02911791,  0.3040751 , -0.04434404, -0.05670133,\n",
       "         -0.19404519,  0.07734925, -0.10501957, -0.22787014, -0.08387214,\n",
       "         -0.33763164, -0.31933832,  0.12686741,  0.3107312 ,  0.05717424,\n",
       "          0.20124611,  0.08892345, -0.29629612, -0.09247887,  0.10093638,\n",
       "         -0.1128583 ,  0.3291768 ,  0.29341546,  0.24263993, -0.24904287,\n",
       "         -0.18509209, -0.1453054 ],\n",
       "        [ 0.27702114, -0.00277486, -0.27827927,  0.18066904, -0.2186597 ,\n",
       "         -0.24007022,  0.21980515, -0.15891097, -0.23731558,  0.34206435,\n",
       "          0.2983363 , -0.06461793, -0.22697873, -0.00086519,  0.16805801,\n",
       "         -0.06320316, -0.21216959, -0.02126518, -0.09384584, -0.1484299 ,\n",
       "          0.3467193 ,  0.1468564 , -0.0884847 , -0.24853548, -0.32245255,\n",
       "          0.18974248,  0.16841939,  0.04613277,  0.15325102, -0.05559802,\n",
       "         -0.01804847, -0.14281224],\n",
       "        [-0.10562506,  0.157536  ,  0.510333  , -0.03302556, -0.2571047 ,\n",
       "         -0.18523286,  0.12834102,  0.4337872 ,  0.46679804, -0.06531826,\n",
       "          0.28959367, -0.3339316 ,  0.01956415,  0.45770925,  0.01213923,\n",
       "          0.5852499 , -0.31207994,  0.41353783,  0.5308035 , -0.0823659 ,\n",
       "          0.39254993,  0.03653845, -0.0306477 ,  0.28688517, -0.50125486,\n",
       "          0.01642564,  0.09378719, -0.30347168, -0.6120044 , -0.1849826 ,\n",
       "          0.16955289, -0.14594197],\n",
       "        [-0.2186447 , -0.06369957,  0.561828  , -0.02778197,  0.01093525,\n",
       "          0.24946675,  0.0414748 ,  0.31314144,  0.34855795,  0.10465643,\n",
       "         -0.3422646 , -0.28492308, -0.02020478,  0.46560353, -0.22537373,\n",
       "          0.48234144, -0.2357232 ,  0.2991217 ,  0.47152668,  0.12850948,\n",
       "          0.43936548, -0.00436237,  0.43792656, -0.34798267, -0.33727208,\n",
       "         -0.13966934,  0.22050205,  0.16872899, -0.23762184,  0.1726093 ,\n",
       "         -0.23025715, -0.25091916],\n",
       "        [-0.22791515,  0.0037058 , -0.12878896,  0.24337545, -0.2939842 ,\n",
       "         -0.25475562, -0.34043866,  0.4036552 ,  0.01906138, -0.3559248 ,\n",
       "         -0.2807088 , -0.10145774, -0.01813031,  0.46142116, -0.03264411,\n",
       "          0.31574214,  0.10843764, -0.05038579,  0.2190677 , -0.03952088,\n",
       "          0.07834645, -0.25757968,  0.12802415, -0.31755087, -0.14469959,\n",
       "         -0.33645114, -0.24977082, -0.36450928,  0.01294679, -0.09999618,\n",
       "         -0.08579007, -0.12248127],\n",
       "        [-0.03569567,  0.35315183,  0.35284954, -0.45952672, -0.34798527,\n",
       "          0.34666964, -0.46994734,  0.36190364,  0.5040774 ,  0.03040567,\n",
       "          0.26262167,  0.308508  ,  0.03928062,  0.5770887 , -0.5394095 ,\n",
       "          0.2730168 , -0.5685173 ,  0.10103132,  0.45545655, -0.33973673,\n",
       "          0.47654942,  0.04010493,  0.07204269, -0.04348078,  0.02128302,\n",
       "         -0.01891828,  0.28187028, -0.34468812, -0.228318  ,  0.07940501,\n",
       "          0.14943233, -0.16786195],\n",
       "        [-0.33110714, -0.15696684, -0.05464114, -0.06357937, -0.2834743 ,\n",
       "         -0.21314293,  0.13564637, -0.07334092,  0.1638112 ,  0.08053759,\n",
       "         -0.03422663, -0.23321065,  0.09824992, -0.06968201,  0.07319692,\n",
       "         -0.01069313,  0.30178362,  0.397691  , -0.01774427, -0.09223531,\n",
       "          0.2821217 , -0.22149786,  0.3606369 , -0.17287533,  0.33438435,\n",
       "          0.18133052, -0.29306987,  0.2800948 ,  0.1330459 , -0.35121307,\n",
       "         -0.17873256, -0.3493017 ],\n",
       "        [-0.02972314, -0.23448357, -0.15754643,  0.09340104,  0.22152326,\n",
       "         -0.3286785 , -0.2070995 , -0.30107728, -0.31409097, -0.13355745,\n",
       "          0.03534916, -0.31176993,  0.08920279, -0.20817727, -0.22961098,\n",
       "         -0.03149995,  0.3227791 ,  0.21912357,  0.3401719 ,  0.13826796,\n",
       "         -0.0095143 , -0.12160167, -0.07117802,  0.23438731,  0.10689867,\n",
       "          0.33726993, -0.04610655,  0.01511404,  0.07811961, -0.31357515,\n",
       "         -0.0974007 , -0.21832405],\n",
       "        [-0.31961757,  0.33935288, -0.01491156, -0.07522091,  0.1823254 ,\n",
       "         -0.01069248, -0.3072727 , -0.17692244,  0.03790486, -0.19894113,\n",
       "         -0.33055207,  0.2953711 ,  0.15838185,  0.03780773,  0.13662389,\n",
       "         -0.1963544 , -0.13122371,  0.30665568, -0.19571698,  0.14594889,\n",
       "          0.15376005,  0.05694115,  0.1437752 ,  0.32188466, -0.27642703,\n",
       "         -0.1162807 , -0.3492503 ,  0.1407741 , -0.10795975, -0.25791916,\n",
       "         -0.30457848, -0.2829805 ],\n",
       "        [ 0.06052211,  0.15324786,  0.31558332,  0.2819555 ,  0.16700974,\n",
       "          0.00476831,  0.03595033,  0.25629482,  0.30458632, -0.21924259,\n",
       "         -0.31761637, -0.2810802 , -0.05874488,  0.2522042 , -0.14271294,\n",
       "         -0.27841526, -0.04702458, -0.03739986,  0.20667759,  0.3045949 ,\n",
       "          0.03759599,  0.22748044,  0.25258556, -0.25898683, -0.09548587,\n",
       "          0.32969078, -0.06305295, -0.18171293, -0.33069116, -0.05858809,\n",
       "          0.10123917,  0.20214763],\n",
       "        [-0.03026599,  0.21965608,  0.19010237, -0.14509213, -0.05989918,\n",
       "          0.2721785 ,  0.08347917,  0.29324403,  0.10556933, -0.098041  ,\n",
       "         -0.29466102,  0.31957492, -0.32608366,  0.33667502, -0.32301378,\n",
       "          0.19259694, -0.2035783 ,  0.06025651, -0.05122015, -0.24301147,\n",
       "          0.10960868,  0.17407456,  0.15582743,  0.17054453, -0.05378503,\n",
       "         -0.31048387, -0.30169168, -0.25222486, -0.20644546, -0.01345488,\n",
       "          0.09505481,  0.02547947],\n",
       "        [ 0.11420631, -0.17662673,  0.1039584 , -0.23249474, -0.01714063,\n",
       "         -0.14757407,  0.14691892,  0.30603972,  0.29544875,  0.29499432,\n",
       "         -0.34972587, -0.3331677 , -0.02732423, -0.2892572 , -0.00964522,\n",
       "         -0.01899162, -0.13966773, -0.15978333,  0.26871344,  0.18368414,\n",
       "          0.20864275,  0.23671332,  0.17033216, -0.3148468 , -0.32917488,\n",
       "          0.02646729,  0.15709564,  0.16947207,  0.09275535, -0.2874903 ,\n",
       "         -0.21180958,  0.16668025]], dtype=float32)>,\n",
       " <tf.Variable 'dense_69/bias:0' shape=(32,) dtype=float32, numpy=\n",
       " array([ 0.        ,  0.        , -0.04591612,  0.23495947,  0.        ,\n",
       "         0.        ,  0.16851114, -0.09356587, -0.09878363, -0.02154399,\n",
       "         0.        ,  0.        , -0.02934149, -0.12842044,  0.2662151 ,\n",
       "        -0.1044769 ,  0.21652582, -0.14019738, -0.07230241,  0.23983532,\n",
       "        -0.11847823,  0.        , -0.15993829,  0.        ,  0.30170307,\n",
       "        -0.04869447,  0.        ,  0.21324947,  0.27177858,  0.        ,\n",
       "         0.        ,  0.        ], dtype=float32)>,\n",
       " <tf.Variable 'dense_70/kernel:0' shape=(32, 2) dtype=float32, numpy=\n",
       " array([[-2.8214961e-01, -2.0780914e-01],\n",
       "        [-1.4149216e-01, -1.6217294e-01],\n",
       "        [-3.4493977e-01,  3.3557385e-01],\n",
       "        [-3.8560338e-02, -4.2450580e-01],\n",
       "        [-2.8030425e-01,  4.0016493e-01],\n",
       "        [-2.9694313e-01, -1.6254050e-01],\n",
       "        [ 6.7267156e-01, -3.1572255e-01],\n",
       "        [ 3.0955474e-04,  6.2673080e-01],\n",
       "        [-6.2935758e-01,  3.1787783e-01],\n",
       "        [-2.9219010e-01,  4.6177372e-02],\n",
       "        [ 2.9845807e-01, -8.8915646e-02],\n",
       "        [ 8.3874196e-02, -2.3555240e-01],\n",
       "        [-8.0752745e-03,  2.5949529e-01],\n",
       "        [-4.8092972e-03,  4.5267364e-01],\n",
       "        [ 5.0339192e-01, -5.5844659e-01],\n",
       "        [-3.5158697e-01,  1.8842161e-01],\n",
       "        [ 4.3022820e-01, -6.1777937e-01],\n",
       "        [-1.3035876e-01,  3.6614716e-01],\n",
       "        [-4.1890317e-01,  5.5337131e-01],\n",
       "        [ 4.5022929e-01, -2.7209142e-01],\n",
       "        [-7.1000919e-02,  4.9067268e-01],\n",
       "        [ 6.2981099e-02, -3.9445415e-01],\n",
       "        [-4.7937185e-01, -5.3867232e-02],\n",
       "        [ 3.0014011e-01, -2.0393991e-01],\n",
       "        [ 4.2046267e-01, -4.6831489e-01],\n",
       "        [-3.4247470e-01,  2.6380607e-01],\n",
       "        [-9.8283887e-03,  7.5876474e-02],\n",
       "        [ 2.6451561e-01, -3.9844707e-01],\n",
       "        [ 4.8199058e-01, -2.8178030e-01],\n",
       "        [-1.3651532e-01, -3.1664649e-01],\n",
       "        [-3.6615372e-02, -2.7278954e-01],\n",
       "        [ 3.2626423e-01, -1.5228936e-01]], dtype=float32)>,\n",
       " <tf.Variable 'dense_70/bias:0' shape=(2,) dtype=float32, numpy=array([ 0.19870543, -0.19870543], dtype=float32)>]"
      ]
     },
     "execution_count": 166,
     "metadata": {},
     "output_type": "execute_result"
    }
   ],
   "source": [
    "new_model.weights"
   ]
  },
  {
   "cell_type": "code",
   "execution_count": null,
   "id": "3cc91b2e",
   "metadata": {},
   "outputs": [],
   "source": []
  }
 ],
 "metadata": {
  "kernelspec": {
   "display_name": "Python 3 (ipykernel)",
   "language": "python",
   "name": "python3"
  },
  "language_info": {
   "codemirror_mode": {
    "name": "ipython",
    "version": 3
   },
   "file_extension": ".py",
   "mimetype": "text/x-python",
   "name": "python",
   "nbconvert_exporter": "python",
   "pygments_lexer": "ipython3",
   "version": "3.8.13"
  }
 },
 "nbformat": 4,
 "nbformat_minor": 5
}
