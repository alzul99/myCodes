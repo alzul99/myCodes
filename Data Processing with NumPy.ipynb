{
 "cells": [
  {
   "cell_type": "code",
   "execution_count": 1,
   "id": "f9cd27b1",
   "metadata": {},
   "outputs": [],
   "source": [
    "import numpy as np"
   ]
  },
  {
   "cell_type": "code",
   "execution_count": 2,
   "id": "705ad72d",
   "metadata": {},
   "outputs": [],
   "source": [
    "np.set_printoptions(suppress = True, linewidth = 100, precision = 2)"
   ]
  },
  {
   "cell_type": "markdown",
   "id": "694c7234",
   "metadata": {},
   "source": [
    "IMPORT DATA"
   ]
  },
  {
   "cell_type": "code",
   "execution_count": 3,
   "id": "9e23e0ae",
   "metadata": {},
   "outputs": [
    {
     "data": {
      "text/plain": [
       "array([[48010226.  ,         nan,    35000.  , ...,         nan,         nan,     9452.96],\n",
       "       [57693261.  ,         nan,    30000.  , ...,         nan,         nan,     4679.7 ],\n",
       "       [59432726.  ,         nan,    15000.  , ...,         nan,         nan,     1969.83],\n",
       "       ...,\n",
       "       [50415990.  ,         nan,    10000.  , ...,         nan,         nan,     2185.64],\n",
       "       [46154151.  ,         nan,         nan, ...,         nan,         nan,     3199.4 ],\n",
       "       [66055249.  ,         nan,    10000.  , ...,         nan,         nan,      301.9 ]])"
      ]
     },
     "execution_count": 3,
     "metadata": {},
     "output_type": "execute_result"
    }
   ],
   "source": [
    "raw_data=np.genfromtxt('E:\\\\DataScience\\\\Phyton\\\\Numpy\\\\loan-data.csv',delimiter = ';', skip_header =1,autostrip=True)\n",
    "raw_data"
   ]
  },
  {
   "cell_type": "markdown",
   "id": "6a4069c7",
   "metadata": {},
   "source": [
    "Missing Value"
   ]
  },
  {
   "cell_type": "code",
   "execution_count": 4,
   "id": "d5b69c03",
   "metadata": {},
   "outputs": [
    {
     "data": {
      "text/plain": [
       "88005"
      ]
     },
     "execution_count": 4,
     "metadata": {},
     "output_type": "execute_result"
    }
   ],
   "source": [
    "np.isnan(raw_data).sum()"
   ]
  },
  {
   "cell_type": "code",
   "execution_count": 5,
   "id": "5b2f98c8",
   "metadata": {},
   "outputs": [
    {
     "name": "stderr",
     "output_type": "stream",
     "text": [
      "C:\\Users\\Patience\\AppData\\Local\\Temp\\ipykernel_15228\\314499198.py:2: RuntimeWarning: Mean of empty slice\n",
      "  temp_mean = np.nanmean(raw_data, axis = 0)\n"
     ]
    }
   ],
   "source": [
    "temp_fill = np.nanmax(raw_data)+1\n",
    "temp_mean = np.nanmean(raw_data, axis = 0)"
   ]
  },
  {
   "cell_type": "code",
   "execution_count": 6,
   "id": "086e5a8f",
   "metadata": {},
   "outputs": [
    {
     "data": {
      "text/plain": [
       "array([54015809.19,         nan,    15273.46,         nan,    15311.04,         nan,       16.62,\n",
       "            440.92,         nan,         nan,         nan,         nan,         nan,     3143.85])"
      ]
     },
     "execution_count": 6,
     "metadata": {},
     "output_type": "execute_result"
    }
   ],
   "source": [
    "temp_mean"
   ]
  },
  {
   "cell_type": "code",
   "execution_count": 7,
   "id": "5187a0e7",
   "metadata": {},
   "outputs": [
    {
     "name": "stderr",
     "output_type": "stream",
     "text": [
      "C:\\Users\\Patience\\AppData\\Local\\Temp\\ipykernel_15228\\1214094180.py:1: RuntimeWarning: All-NaN slice encountered\n",
      "  temp_stats = np.array([np.nanmin(raw_data,axis =0),\n",
      "C:\\Users\\Patience\\AppData\\Local\\Temp\\ipykernel_15228\\1214094180.py:3: RuntimeWarning: All-NaN slice encountered\n",
      "  np.nanmax(raw_data,axis =0)])\n"
     ]
    },
    {
     "data": {
      "text/plain": [
       "array([[  373332.  ,         nan,     1000.  ,         nan,     1000.  ,         nan,        6.  ,\n",
       "              31.42,         nan,         nan,         nan,         nan,         nan,        0.  ],\n",
       "       [54015809.19,         nan,    15273.46,         nan,    15311.04,         nan,       16.62,\n",
       "             440.92,         nan,         nan,         nan,         nan,         nan,     3143.85],\n",
       "       [68616519.  ,         nan,    35000.  ,         nan,    35000.  ,         nan,       28.99,\n",
       "            1372.97,         nan,         nan,         nan,         nan,         nan,    41913.62]])"
      ]
     },
     "execution_count": 7,
     "metadata": {},
     "output_type": "execute_result"
    }
   ],
   "source": [
    "temp_stats = np.array([np.nanmin(raw_data,axis =0),\n",
    "                  temp_mean,\n",
    "                  np.nanmax(raw_data,axis =0)])\n",
    "temp_stats"
   ]
  },
  {
   "cell_type": "markdown",
   "id": "36d2d31e",
   "metadata": {},
   "source": [
    "Splitting Dataset"
   ]
  },
  {
   "cell_type": "code",
   "execution_count": 8,
   "id": "db8d347b",
   "metadata": {},
   "outputs": [
    {
     "data": {
      "text/plain": [
       "array([ 1,  3,  5,  8,  9, 10, 11, 12], dtype=int64)"
      ]
     },
     "execution_count": 8,
     "metadata": {},
     "output_type": "execute_result"
    }
   ],
   "source": [
    "column_strings=np.argwhere(np.isnan(temp_mean)).squeeze()\n",
    "column_strings"
   ]
  },
  {
   "cell_type": "code",
   "execution_count": 9,
   "id": "9a95e178",
   "metadata": {},
   "outputs": [
    {
     "data": {
      "text/plain": [
       "array([ 0,  2,  4,  6,  7, 13], dtype=int64)"
      ]
     },
     "execution_count": 9,
     "metadata": {},
     "output_type": "execute_result"
    }
   ],
   "source": [
    "column_numerics=np.argwhere(np.isnan(temp_mean)==False).squeeze()\n",
    "column_numerics"
   ]
  },
  {
   "cell_type": "markdown",
   "id": "8a890061",
   "metadata": {},
   "source": [
    "reimporting data"
   ]
  },
  {
   "cell_type": "code",
   "execution_count": 10,
   "id": "4b33c623",
   "metadata": {},
   "outputs": [
    {
     "name": "stderr",
     "output_type": "stream",
     "text": [
      "C:\\Users\\Patience\\AppData\\Local\\Temp\\ipykernel_15228\\3712675865.py:6: DeprecationWarning: `np.str` is a deprecated alias for the builtin `str`. To silence this warning, use `str` by itself. Doing this will not modify any behavior and is safe. If you specifically wanted the numpy scalar type, use `np.str_` here.\n",
      "Deprecated in NumPy 1.20; for more details and guidance: https://numpy.org/devdocs/release/1.20.0-notes.html#deprecations\n",
      "  dtype = np.str)\n"
     ]
    },
    {
     "data": {
      "text/plain": [
       "array([['May-15', 'Current', '36 months', ..., 'Verified',\n",
       "        'https://www.lendingclub.com/browse/loanDetail.action?loan_id=48010226', 'CA'],\n",
       "       ['', 'Current', '36 months', ..., 'Source Verified',\n",
       "        'https://www.lendingclub.com/browse/loanDetail.action?loan_id=57693261', 'NY'],\n",
       "       ['Sep-15', 'Current', '36 months', ..., 'Verified',\n",
       "        'https://www.lendingclub.com/browse/loanDetail.action?loan_id=59432726', 'PA'],\n",
       "       ...,\n",
       "       ['Jun-15', 'Current', '36 months', ..., 'Source Verified',\n",
       "        'https://www.lendingclub.com/browse/loanDetail.action?loan_id=50415990', 'CA'],\n",
       "       ['Apr-15', 'Current', '36 months', ..., 'Source Verified',\n",
       "        'https://www.lendingclub.com/browse/loanDetail.action?loan_id=46154151', 'OH'],\n",
       "       ['Dec-15', 'Current', '36 months', ..., '',\n",
       "        'https://www.lendingclub.com/browse/loanDetail.action?loan_id=66055249', 'IL']],\n",
       "      dtype='<U69')"
      ]
     },
     "execution_count": 10,
     "metadata": {},
     "output_type": "execute_result"
    }
   ],
   "source": [
    "loan_data_strings=np.genfromtxt('E:\\\\DataScience\\\\Phyton\\\\Numpy\\\\loan-data.csv',\n",
    "                               delimiter = ';', \n",
    "                               skip_header =1,\n",
    "                               autostrip=True, \n",
    "                               usecols = column_strings,\n",
    "                               dtype = np.str)\n",
    "loan_data_strings"
   ]
  },
  {
   "cell_type": "code",
   "execution_count": 11,
   "id": "bfcca890",
   "metadata": {},
   "outputs": [
    {
     "data": {
      "text/plain": [
       "array([[48010226.  ,    35000.  ,    35000.  ,       13.33,     1184.86,     9452.96],\n",
       "       [57693261.  ,    30000.  ,    30000.  , 68616520.  ,      938.57,     4679.7 ],\n",
       "       [59432726.  ,    15000.  ,    15000.  , 68616520.  ,      494.86,     1969.83],\n",
       "       ...,\n",
       "       [50415990.  ,    10000.  ,    10000.  , 68616520.  , 68616520.  ,     2185.64],\n",
       "       [46154151.  , 68616520.  ,    10000.  ,       16.55,      354.3 ,     3199.4 ],\n",
       "       [66055249.  ,    10000.  ,    10000.  , 68616520.  ,      309.97,      301.9 ]])"
      ]
     },
     "execution_count": 11,
     "metadata": {},
     "output_type": "execute_result"
    }
   ],
   "source": [
    "loan_data_numerics=np.genfromtxt('E:\\\\DataScience\\\\Phyton\\\\Numpy\\\\loan-data.csv',\n",
    "                               delimiter = ';', \n",
    "                               skip_header =1,\n",
    "                               autostrip=True, \n",
    "                               usecols = column_numerics,\n",
    "                                filling_values = temp_fill)\n",
    "loan_data_numerics"
   ]
  },
  {
   "cell_type": "markdown",
   "id": "00a71f97",
   "metadata": {},
   "source": [
    "Loading Header"
   ]
  },
  {
   "cell_type": "code",
   "execution_count": 12,
   "id": "8129cca9",
   "metadata": {},
   "outputs": [
    {
     "name": "stderr",
     "output_type": "stream",
     "text": [
      "C:\\Users\\Patience\\AppData\\Local\\Temp\\ipykernel_15228\\4071392537.py:4: DeprecationWarning: `np.str` is a deprecated alias for the builtin `str`. To silence this warning, use `str` by itself. Doing this will not modify any behavior and is safe. If you specifically wanted the numpy scalar type, use `np.str_` here.\n",
      "Deprecated in NumPy 1.20; for more details and guidance: https://numpy.org/devdocs/release/1.20.0-notes.html#deprecations\n",
      "  dtype = np.str)\n"
     ]
    },
    {
     "data": {
      "text/plain": [
       "array(['id', 'issue_d', 'loan_amnt', 'loan_status', 'funded_amnt', 'term', 'int_rate',\n",
       "       'installment', 'grade', 'sub_grade', 'verification_status', 'url', 'addr_state',\n",
       "       'total_pymnt'], dtype='<U19')"
      ]
     },
     "execution_count": 12,
     "metadata": {},
     "output_type": "execute_result"
    }
   ],
   "source": [
    "header_full = np.genfromtxt('E:\\\\DataScience\\\\Phyton\\\\Numpy\\\\loan-data.csv',\n",
    "                            delimiter = ';', \n",
    "                            skip_footer =raw_data.shape[0],\n",
    "                            dtype = np.str)\n",
    "header_full"
   ]
  },
  {
   "cell_type": "code",
   "execution_count": 13,
   "id": "a0904eda",
   "metadata": {},
   "outputs": [
    {
     "data": {
      "text/plain": [
       "(array(['issue_d', 'loan_status', 'term', 'grade', 'sub_grade', 'verification_status', 'url',\n",
       "        'addr_state'], dtype='<U19'),\n",
       " array(['id', 'loan_amnt', 'funded_amnt', 'int_rate', 'installment', 'total_pymnt'], dtype='<U19'))"
      ]
     },
     "execution_count": 13,
     "metadata": {},
     "output_type": "execute_result"
    }
   ],
   "source": [
    "header_strings, header_numerics = header_full[column_strings],header_full[column_numerics] \n",
    "header_strings, header_numerics"
   ]
  },
  {
   "cell_type": "markdown",
   "id": "d06f76d3",
   "metadata": {},
   "source": [
    "CheckPoint"
   ]
  },
  {
   "cell_type": "code",
   "execution_count": 14,
   "id": "a510df5e",
   "metadata": {},
   "outputs": [],
   "source": [
    "def checkpoint(filename, checkpoint_header, checkpoint_data):\n",
    "    np.savez(filename, header =checkpoint_header, data =checkpoint_data)\n",
    "    checkpoint_variable = np.load(filename + \".npz\")\n",
    "    return (checkpoint_variable)"
   ]
  },
  {
   "cell_type": "code",
   "execution_count": 15,
   "id": "00fa8b39",
   "metadata": {},
   "outputs": [],
   "source": [
    "checkpoint_test = checkpoint(\"checkpoint_test\",header_strings,loan_data_strings)"
   ]
  },
  {
   "cell_type": "code",
   "execution_count": 16,
   "id": "d719aff9",
   "metadata": {},
   "outputs": [
    {
     "data": {
      "text/plain": [
       "array([['May-15', 'Current', '36 months', ..., 'Verified',\n",
       "        'https://www.lendingclub.com/browse/loanDetail.action?loan_id=48010226', 'CA'],\n",
       "       ['', 'Current', '36 months', ..., 'Source Verified',\n",
       "        'https://www.lendingclub.com/browse/loanDetail.action?loan_id=57693261', 'NY'],\n",
       "       ['Sep-15', 'Current', '36 months', ..., 'Verified',\n",
       "        'https://www.lendingclub.com/browse/loanDetail.action?loan_id=59432726', 'PA'],\n",
       "       ...,\n",
       "       ['Jun-15', 'Current', '36 months', ..., 'Source Verified',\n",
       "        'https://www.lendingclub.com/browse/loanDetail.action?loan_id=50415990', 'CA'],\n",
       "       ['Apr-15', 'Current', '36 months', ..., 'Source Verified',\n",
       "        'https://www.lendingclub.com/browse/loanDetail.action?loan_id=46154151', 'OH'],\n",
       "       ['Dec-15', 'Current', '36 months', ..., '',\n",
       "        'https://www.lendingclub.com/browse/loanDetail.action?loan_id=66055249', 'IL']],\n",
       "      dtype='<U69')"
      ]
     },
     "execution_count": 16,
     "metadata": {},
     "output_type": "execute_result"
    }
   ],
   "source": [
    "checkpoint_test[\"data\"]"
   ]
  },
  {
   "cell_type": "markdown",
   "id": "5993d514",
   "metadata": {},
   "source": [
    "Manipulating Strings"
   ]
  },
  {
   "cell_type": "code",
   "execution_count": 17,
   "id": "5f1cec42",
   "metadata": {},
   "outputs": [
    {
     "data": {
      "text/plain": [
       "array(['issue_d', 'loan_status', 'term', 'grade', 'sub_grade', 'verification_status', 'url',\n",
       "       'addr_state'], dtype='<U19')"
      ]
     },
     "execution_count": 17,
     "metadata": {},
     "output_type": "execute_result"
    }
   ],
   "source": [
    "header_strings"
   ]
  },
  {
   "cell_type": "code",
   "execution_count": 18,
   "id": "e8c9d249",
   "metadata": {},
   "outputs": [],
   "source": [
    "header_strings[0]='issue_date'"
   ]
  },
  {
   "cell_type": "markdown",
   "id": "6c1d2872",
   "metadata": {},
   "source": [
    "Issue Date"
   ]
  },
  {
   "cell_type": "code",
   "execution_count": 19,
   "id": "237d3785",
   "metadata": {},
   "outputs": [
    {
     "data": {
      "text/plain": [
       "array(['May-15', '', 'Sep-15', ..., 'Jun-15', 'Apr-15', 'Dec-15'], dtype='<U69')"
      ]
     },
     "execution_count": 19,
     "metadata": {},
     "output_type": "execute_result"
    }
   ],
   "source": [
    "loan_data_strings[:,0]"
   ]
  },
  {
   "cell_type": "code",
   "execution_count": 20,
   "id": "ee73d96e",
   "metadata": {},
   "outputs": [
    {
     "data": {
      "text/plain": [
       "array(['', 'Apr-15', 'Aug-15', 'Dec-15', 'Feb-15', 'Jan-15', 'Jul-15', 'Jun-15', 'Mar-15',\n",
       "       'May-15', 'Nov-15', 'Oct-15', 'Sep-15'], dtype='<U69')"
      ]
     },
     "execution_count": 20,
     "metadata": {},
     "output_type": "execute_result"
    }
   ],
   "source": [
    "np.unique(loan_data_strings[:,0])"
   ]
  },
  {
   "cell_type": "code",
   "execution_count": 21,
   "id": "8a965d8c",
   "metadata": {},
   "outputs": [],
   "source": [
    "loan_data_strings[:,0]=np.chararray.strip(loan_data_strings[:,0],'-15')"
   ]
  },
  {
   "cell_type": "code",
   "execution_count": 22,
   "id": "b9adc29c",
   "metadata": {},
   "outputs": [],
   "source": [
    "months = np.array(['0','Jan','Feb','Mar','Apr','May','Jun','Jul','Aug','Sep','Oct','Nov','Dec'])"
   ]
  },
  {
   "cell_type": "code",
   "execution_count": 23,
   "id": "30ab4425",
   "metadata": {},
   "outputs": [
    {
     "data": {
      "text/plain": [
       "13"
      ]
     },
     "execution_count": 23,
     "metadata": {},
     "output_type": "execute_result"
    }
   ],
   "source": [
    "np.size(months)"
   ]
  },
  {
   "cell_type": "code",
   "execution_count": 24,
   "id": "32a6c78a",
   "metadata": {},
   "outputs": [
    {
     "data": {
      "text/plain": [
       "array(['5', '', '9', ..., '6', '4', '12'], dtype='<U69')"
      ]
     },
     "execution_count": 24,
     "metadata": {},
     "output_type": "execute_result"
    }
   ],
   "source": [
    "for i in range(13):\n",
    "    loan_data_strings[:,0]= np.where(loan_data_strings[:,0] == months[i],\n",
    "                                    i,\n",
    "                                    loan_data_strings[:,0])\n",
    "loan_data_strings[:,0]"
   ]
  },
  {
   "cell_type": "code",
   "execution_count": 25,
   "id": "aa3341df",
   "metadata": {},
   "outputs": [],
   "source": [
    "loan_data_strings[:,0]=np.where(loan_data_strings[:,0]=='',0,loan_data_strings[:,0])"
   ]
  },
  {
   "cell_type": "code",
   "execution_count": 26,
   "id": "d6becea3",
   "metadata": {},
   "outputs": [
    {
     "data": {
      "text/plain": [
       "array(['0', '1', '10', '11', '12', '2', '3', '4', '5', '6', '7', '8', '9'], dtype='<U69')"
      ]
     },
     "execution_count": 26,
     "metadata": {},
     "output_type": "execute_result"
    }
   ],
   "source": [
    "np.unique(loan_data_strings[:,0])"
   ]
  },
  {
   "cell_type": "code",
   "execution_count": 27,
   "id": "f0612bea",
   "metadata": {},
   "outputs": [
    {
     "data": {
      "text/plain": [
       "array(['5', '0', '9', ..., '6', '4', '12'], dtype='<U69')"
      ]
     },
     "execution_count": 27,
     "metadata": {},
     "output_type": "execute_result"
    }
   ],
   "source": [
    "loan_data_strings[:,0]"
   ]
  },
  {
   "cell_type": "markdown",
   "id": "1187fcb5",
   "metadata": {},
   "source": [
    "Loan Grade"
   ]
  },
  {
   "cell_type": "code",
   "execution_count": 28,
   "id": "78e9daa0",
   "metadata": {},
   "outputs": [
    {
     "data": {
      "text/plain": [
       "array(['issue_date', 'loan_status', 'term', 'grade', 'sub_grade', 'verification_status', 'url',\n",
       "       'addr_state'], dtype='<U19')"
      ]
     },
     "execution_count": 28,
     "metadata": {},
     "output_type": "execute_result"
    }
   ],
   "source": [
    "header_strings"
   ]
  },
  {
   "cell_type": "code",
   "execution_count": 29,
   "id": "4b552a85",
   "metadata": {},
   "outputs": [
    {
     "data": {
      "text/plain": [
       "array(['Current', 'Current', 'Current', ..., 'Current', 'Current', 'Current'], dtype='<U69')"
      ]
     },
     "execution_count": 29,
     "metadata": {},
     "output_type": "execute_result"
    }
   ],
   "source": [
    "loan_data_strings[:,1]"
   ]
  },
  {
   "cell_type": "code",
   "execution_count": 30,
   "id": "f449eb70",
   "metadata": {},
   "outputs": [
    {
     "data": {
      "text/plain": [
       "array(['', 'Charged Off', 'Current', 'Default', 'Fully Paid', 'In Grace Period', 'Issued',\n",
       "       'Late (16-30 days)', 'Late (31-120 days)'], dtype='<U69')"
      ]
     },
     "execution_count": 30,
     "metadata": {},
     "output_type": "execute_result"
    }
   ],
   "source": [
    "np.unique(loan_data_strings[:,1])"
   ]
  },
  {
   "cell_type": "code",
   "execution_count": 31,
   "id": "bcea74d0",
   "metadata": {},
   "outputs": [
    {
     "data": {
      "text/plain": [
       "9"
      ]
     },
     "execution_count": 31,
     "metadata": {},
     "output_type": "execute_result"
    }
   ],
   "source": [
    "np.unique(loan_data_strings[:,1]).size"
   ]
  },
  {
   "cell_type": "code",
   "execution_count": 32,
   "id": "e9ada0c2",
   "metadata": {},
   "outputs": [],
   "source": [
    "status_bad = np.array(['', 'Charged Off', 'Default', 'Late (31-120 days)'])"
   ]
  },
  {
   "cell_type": "code",
   "execution_count": 33,
   "id": "755b9908",
   "metadata": {},
   "outputs": [
    {
     "data": {
      "text/plain": [
       "array(['1', '1', '1', ..., '1', '1', '1'], dtype='<U69')"
      ]
     },
     "execution_count": 33,
     "metadata": {},
     "output_type": "execute_result"
    }
   ],
   "source": [
    "loan_data_strings[:,1] = np.where(np.isin(loan_data_strings[:,1],status_bad),0,1)\n",
    "loan_data_strings[:,1]"
   ]
  },
  {
   "cell_type": "code",
   "execution_count": 34,
   "id": "d8d92cde",
   "metadata": {},
   "outputs": [
    {
     "data": {
      "text/plain": [
       "array(['0', '1'], dtype='<U69')"
      ]
     },
     "execution_count": 34,
     "metadata": {},
     "output_type": "execute_result"
    }
   ],
   "source": [
    "np.unique(loan_data_strings[:,1])"
   ]
  },
  {
   "cell_type": "code",
   "execution_count": 35,
   "id": "705033fa",
   "metadata": {},
   "outputs": [
    {
     "data": {
      "text/plain": [
       "array(['issue_date', 'loan_status', 'term', 'grade', 'sub_grade', 'verification_status', 'url',\n",
       "       'addr_state'], dtype='<U19')"
      ]
     },
     "execution_count": 35,
     "metadata": {},
     "output_type": "execute_result"
    }
   ],
   "source": [
    "header_strings"
   ]
  },
  {
   "cell_type": "markdown",
   "id": "4f426471",
   "metadata": {},
   "source": [
    "Term"
   ]
  },
  {
   "cell_type": "code",
   "execution_count": 36,
   "id": "585cba66",
   "metadata": {},
   "outputs": [
    {
     "data": {
      "text/plain": [
       "array(['36 months', '36 months', '36 months', ..., '36 months', '36 months', '36 months'],\n",
       "      dtype='<U69')"
      ]
     },
     "execution_count": 36,
     "metadata": {},
     "output_type": "execute_result"
    }
   ],
   "source": [
    "loan_data_strings[:,2]"
   ]
  },
  {
   "cell_type": "code",
   "execution_count": 37,
   "id": "52783da9",
   "metadata": {},
   "outputs": [
    {
     "data": {
      "text/plain": [
       "array(['', '36 months', '60 months'], dtype='<U69')"
      ]
     },
     "execution_count": 37,
     "metadata": {},
     "output_type": "execute_result"
    }
   ],
   "source": [
    "np.unique(loan_data_strings[:,2])"
   ]
  },
  {
   "cell_type": "code",
   "execution_count": 38,
   "id": "fedca5bb",
   "metadata": {},
   "outputs": [
    {
     "data": {
      "text/plain": [
       "array(['issue_date', 'loan_status', 'term_months', 'grade', 'sub_grade', 'verification_status',\n",
       "       'url', 'addr_state'], dtype='<U19')"
      ]
     },
     "execution_count": 38,
     "metadata": {},
     "output_type": "execute_result"
    }
   ],
   "source": [
    "header_strings[2]='term_months'\n",
    "header_strings"
   ]
  },
  {
   "cell_type": "code",
   "execution_count": 39,
   "id": "138435cf",
   "metadata": {},
   "outputs": [
    {
     "data": {
      "text/plain": [
       "array(['36', '36', '36', ..., '36', '36', '36'], dtype='<U69')"
      ]
     },
     "execution_count": 39,
     "metadata": {},
     "output_type": "execute_result"
    }
   ],
   "source": [
    "loan_data_strings[:,2]= np.chararray.strip(loan_data_strings[:,2], ' months')\n",
    "loan_data_strings[:,2]"
   ]
  },
  {
   "cell_type": "code",
   "execution_count": 40,
   "id": "3aec5082",
   "metadata": {},
   "outputs": [],
   "source": [
    "loan_data_strings[:,2] = np.where(loan_data_strings[:,2] == '',\n",
    "                                 60,\n",
    "                                 loan_data_strings[:,2])"
   ]
  },
  {
   "cell_type": "code",
   "execution_count": 41,
   "id": "f3e113ac",
   "metadata": {},
   "outputs": [
    {
     "data": {
      "text/plain": [
       "array(['36', '60'], dtype='<U69')"
      ]
     },
     "execution_count": 41,
     "metadata": {},
     "output_type": "execute_result"
    }
   ],
   "source": [
    "np.unique(loan_data_strings[:,2])"
   ]
  },
  {
   "cell_type": "markdown",
   "id": "337e6115",
   "metadata": {},
   "source": [
    "Grading"
   ]
  },
  {
   "cell_type": "code",
   "execution_count": 42,
   "id": "e8adcb53",
   "metadata": {},
   "outputs": [
    {
     "data": {
      "text/plain": [
       "array(['issue_date', 'loan_status', 'term_months', 'grade', 'sub_grade', 'verification_status',\n",
       "       'url', 'addr_state'], dtype='<U19')"
      ]
     },
     "execution_count": 42,
     "metadata": {},
     "output_type": "execute_result"
    }
   ],
   "source": [
    "header_strings"
   ]
  },
  {
   "cell_type": "code",
   "execution_count": 43,
   "id": "a15d54ca",
   "metadata": {},
   "outputs": [
    {
     "data": {
      "text/plain": [
       "array([['C', 'C3'],\n",
       "       ['A', 'A5'],\n",
       "       ['B', 'B5'],\n",
       "       ...,\n",
       "       ['A', 'A5'],\n",
       "       ['D', 'D2'],\n",
       "       ['A', 'A4']], dtype='<U69')"
      ]
     },
     "execution_count": 43,
     "metadata": {},
     "output_type": "execute_result"
    }
   ],
   "source": [
    "loan_data_strings[:,3:5]"
   ]
  },
  {
   "cell_type": "code",
   "execution_count": 44,
   "id": "1bfb6c97",
   "metadata": {},
   "outputs": [
    {
     "data": {
      "text/plain": [
       "array(['', 'A', 'B', 'C', 'D', 'E', 'F', 'G'], dtype='<U69')"
      ]
     },
     "execution_count": 44,
     "metadata": {},
     "output_type": "execute_result"
    }
   ],
   "source": [
    "np.unique(loan_data_strings[:,3])"
   ]
  },
  {
   "cell_type": "code",
   "execution_count": 45,
   "id": "41dd0c84",
   "metadata": {},
   "outputs": [
    {
     "data": {
      "text/plain": [
       "array(['', 'A1', 'A2', 'A3', 'A4', 'A5', 'B1', 'B2', 'B3', 'B4', 'B5', 'C1', 'C2', 'C3', 'C4',\n",
       "       'C5', 'D1', 'D2', 'D3', 'D4', 'D5', 'E1', 'E2', 'E3', 'E4', 'E5', 'F1', 'F2', 'F3', 'F4',\n",
       "       'F5', 'G1', 'G2', 'G3', 'G4', 'G5'], dtype='<U69')"
      ]
     },
     "execution_count": 45,
     "metadata": {},
     "output_type": "execute_result"
    }
   ],
   "source": [
    "np.unique(loan_data_strings[:,4])"
   ]
  },
  {
   "cell_type": "markdown",
   "id": "61879a15",
   "metadata": {},
   "source": [
    "Filling SubGrade"
   ]
  },
  {
   "cell_type": "code",
   "execution_count": 46,
   "id": "eacb4e9a",
   "metadata": {},
   "outputs": [],
   "source": [
    "for i in np.unique(loan_data_strings[:,3])[1:]:\n",
    "    loan_data_strings[:,4] = np.where((loan_data_strings[:,4] == ' ') & (loan_data_strings[:,3] == i),\n",
    "                                      i +'5',\n",
    "                                      loan_data_strings[:,4])"
   ]
  },
  {
   "cell_type": "code",
   "execution_count": 47,
   "id": "bee671e1",
   "metadata": {},
   "outputs": [
    {
     "data": {
      "text/plain": [
       "(array(['', 'A1', 'A2', 'A3', 'A4', 'A5', 'B1', 'B2', 'B3', 'B4', 'B5', 'C1', 'C2', 'C3', 'C4',\n",
       "        'C5', 'D1', 'D2', 'D3', 'D4', 'D5', 'E1', 'E2', 'E3', 'E4', 'E5', 'F1', 'F2', 'F3', 'F4',\n",
       "        'F5', 'G1', 'G2', 'G3', 'G4', 'G5'], dtype='<U69'),\n",
       " array([  31,  102,   23,  190,   19,    1,   44,   21,   59,   33,    2,   11,    9,    0,    5,\n",
       "          83,   10,   85,   30,   55,   15,   93,   76,    4,   16,   37,   34,   50,   86,    6,\n",
       "        1220,  208,  447, 1138, 1732,  602], dtype=int64),\n",
       " array([514, 285, 278, 239, 323, 502, 509, 517, 530, 553, 494, 629, 567, 586, 564, 423, 391, 267,\n",
       "        250, 255, 223, 235, 162, 171, 139, 114,  94,  52,  34,  43,  16,  19,  10,   3,   7,   2],\n",
       "       dtype=int64))"
      ]
     },
     "execution_count": 47,
     "metadata": {},
     "output_type": "execute_result"
    }
   ],
   "source": [
    "np.unique(loan_data_strings[:,4], return_counts = True, return_index = True)"
   ]
  },
  {
   "cell_type": "code",
   "execution_count": 48,
   "id": "94311d06",
   "metadata": {},
   "outputs": [],
   "source": [
    "loan_data_strings[:,4]= np.where(loan_data_strings[:,4] == '',\n",
    "                                'H1',\n",
    "                                loan_data_strings[:,4])"
   ]
  },
  {
   "cell_type": "code",
   "execution_count": 49,
   "id": "b283a2f4",
   "metadata": {
    "scrolled": true
   },
   "outputs": [
    {
     "data": {
      "text/plain": [
       "array(['', 'A', 'B', 'C', 'D', 'E', 'F', 'G'], dtype='<U69')"
      ]
     },
     "execution_count": 49,
     "metadata": {},
     "output_type": "execute_result"
    }
   ],
   "source": [
    "np.unique(loan_data_strings[:,3])"
   ]
  },
  {
   "cell_type": "markdown",
   "id": "4e0ba051",
   "metadata": {},
   "source": [
    "Deleting Column Grade"
   ]
  },
  {
   "cell_type": "code",
   "execution_count": 50,
   "id": "2def7641",
   "metadata": {},
   "outputs": [],
   "source": [
    "loan_data_strings = np.delete(loan_data_strings,3,axis=1)"
   ]
  },
  {
   "cell_type": "code",
   "execution_count": 51,
   "id": "642041c5",
   "metadata": {},
   "outputs": [
    {
     "data": {
      "text/plain": [
       "array(['C3', 'A5', 'B5', ..., 'A5', 'D2', 'A4'], dtype='<U69')"
      ]
     },
     "execution_count": 51,
     "metadata": {},
     "output_type": "execute_result"
    }
   ],
   "source": [
    "loan_data_strings[:,3]"
   ]
  },
  {
   "cell_type": "code",
   "execution_count": 52,
   "id": "fcf64f25",
   "metadata": {},
   "outputs": [],
   "source": [
    "header_strings = np.delete(header_strings,3)"
   ]
  },
  {
   "cell_type": "code",
   "execution_count": 53,
   "id": "e96bd6ae",
   "metadata": {},
   "outputs": [
    {
     "data": {
      "text/plain": [
       "array(['issue_date', 'loan_status', 'term_months', 'sub_grade', 'verification_status', 'url',\n",
       "       'addr_state'], dtype='<U19')"
      ]
     },
     "execution_count": 53,
     "metadata": {},
     "output_type": "execute_result"
    }
   ],
   "source": [
    "header_strings"
   ]
  },
  {
   "cell_type": "markdown",
   "id": "f316374e",
   "metadata": {},
   "source": [
    "Converting SubGrade"
   ]
  },
  {
   "cell_type": "code",
   "execution_count": 54,
   "id": "9f8fd607",
   "metadata": {},
   "outputs": [
    {
     "data": {
      "text/plain": [
       "(36,)"
      ]
     },
     "execution_count": 54,
     "metadata": {},
     "output_type": "execute_result"
    }
   ],
   "source": [
    "np.unique(loan_data_strings[:,3]).shape"
   ]
  },
  {
   "cell_type": "code",
   "execution_count": 55,
   "id": "bb067757",
   "metadata": {},
   "outputs": [
    {
     "data": {
      "text/plain": [
       "{'A1': 1,\n",
       " 'A2': 2,\n",
       " 'A3': 3,\n",
       " 'A4': 4,\n",
       " 'A5': 5,\n",
       " 'B1': 6,\n",
       " 'B2': 7,\n",
       " 'B3': 8,\n",
       " 'B4': 9,\n",
       " 'B5': 10,\n",
       " 'C1': 11,\n",
       " 'C2': 12,\n",
       " 'C3': 13,\n",
       " 'C4': 14,\n",
       " 'C5': 15,\n",
       " 'D1': 16,\n",
       " 'D2': 17,\n",
       " 'D3': 18,\n",
       " 'D4': 19,\n",
       " 'D5': 20,\n",
       " 'E1': 21,\n",
       " 'E2': 22,\n",
       " 'E3': 23,\n",
       " 'E4': 24,\n",
       " 'E5': 25,\n",
       " 'F1': 26,\n",
       " 'F2': 27,\n",
       " 'F3': 28,\n",
       " 'F4': 29,\n",
       " 'F5': 30,\n",
       " 'G1': 31,\n",
       " 'G2': 32,\n",
       " 'G3': 33,\n",
       " 'G4': 34,\n",
       " 'G5': 35,\n",
       " 'H1': 36}"
      ]
     },
     "execution_count": 55,
     "metadata": {},
     "output_type": "execute_result"
    }
   ],
   "source": [
    "keys = list(np.unique(loan_data_strings[:,3]))\n",
    "values = list(range(1,np.unique(loan_data_strings[:,3]).shape[0]+1))\n",
    "dict_subgrade = dict(zip(keys,values))\n",
    "dict_subgrade"
   ]
  },
  {
   "cell_type": "code",
   "execution_count": 56,
   "id": "55fa697e",
   "metadata": {},
   "outputs": [],
   "source": [
    "for i in list(np.unique(loan_data_strings[:,3])):\n",
    "    loan_data_strings[:,3] = np.where(loan_data_strings[:,3] == i,\n",
    "                                    dict_subgrade[i],\n",
    "                                    loan_data_strings[:,3])"
   ]
  },
  {
   "cell_type": "markdown",
   "id": "27830aee",
   "metadata": {},
   "source": [
    "Verification"
   ]
  },
  {
   "cell_type": "code",
   "execution_count": 57,
   "id": "93aed9e9",
   "metadata": {},
   "outputs": [
    {
     "data": {
      "text/plain": [
       "array(['issue_date', 'loan_status', 'term_months', 'sub_grade', 'verification_status', 'url',\n",
       "       'addr_state'], dtype='<U19')"
      ]
     },
     "execution_count": 57,
     "metadata": {},
     "output_type": "execute_result"
    }
   ],
   "source": [
    "header_strings"
   ]
  },
  {
   "cell_type": "code",
   "execution_count": 58,
   "id": "dcc2016d",
   "metadata": {},
   "outputs": [
    {
     "data": {
      "text/plain": [
       "array(['Verified', 'Source Verified', 'Verified', ..., 'Source Verified', 'Source Verified', ''],\n",
       "      dtype='<U69')"
      ]
     },
     "execution_count": 58,
     "metadata": {},
     "output_type": "execute_result"
    }
   ],
   "source": [
    "loan_data_strings[:,4]"
   ]
  },
  {
   "cell_type": "code",
   "execution_count": 59,
   "id": "5fb91ef1",
   "metadata": {},
   "outputs": [
    {
     "data": {
      "text/plain": [
       "array(['', 'Not Verified', 'Source Verified', 'Verified'], dtype='<U69')"
      ]
     },
     "execution_count": 59,
     "metadata": {},
     "output_type": "execute_result"
    }
   ],
   "source": [
    "np.unique(loan_data_strings[:,4])"
   ]
  },
  {
   "cell_type": "code",
   "execution_count": 60,
   "id": "f57ccc35",
   "metadata": {},
   "outputs": [],
   "source": [
    "loan_data_strings[:,4]=np.where((loan_data_strings[:,4] =='') | (loan_data_strings[:,4] == 'Not Verified'),0,1)"
   ]
  },
  {
   "cell_type": "code",
   "execution_count": 61,
   "id": "15c26dfa",
   "metadata": {},
   "outputs": [
    {
     "data": {
      "text/plain": [
       "array(['0', '1'], dtype='<U69')"
      ]
     },
     "execution_count": 61,
     "metadata": {},
     "output_type": "execute_result"
    }
   ],
   "source": [
    "np.unique(loan_data_strings[:,4])"
   ]
  },
  {
   "cell_type": "markdown",
   "id": "58f4006f",
   "metadata": {},
   "source": [
    "URL"
   ]
  },
  {
   "cell_type": "code",
   "execution_count": 62,
   "id": "b141de6d",
   "metadata": {},
   "outputs": [
    {
     "data": {
      "text/plain": [
       "array(['https://www.lendingclub.com/browse/loanDetail.action?loan_id=48010226',\n",
       "       'https://www.lendingclub.com/browse/loanDetail.action?loan_id=57693261',\n",
       "       'https://www.lendingclub.com/browse/loanDetail.action?loan_id=59432726', ...,\n",
       "       'https://www.lendingclub.com/browse/loanDetail.action?loan_id=50415990',\n",
       "       'https://www.lendingclub.com/browse/loanDetail.action?loan_id=46154151',\n",
       "       'https://www.lendingclub.com/browse/loanDetail.action?loan_id=66055249'], dtype='<U69')"
      ]
     },
     "execution_count": 62,
     "metadata": {},
     "output_type": "execute_result"
    }
   ],
   "source": [
    "loan_data_strings[:,5]"
   ]
  },
  {
   "cell_type": "code",
   "execution_count": 63,
   "id": "e972b290",
   "metadata": {},
   "outputs": [],
   "source": [
    "loan_data_strings[:,5] = np.chararray.strip(loan_data_strings[:,5],'https://www.lendingclub.com/browse/loanDetail.action?loan_id=')"
   ]
  },
  {
   "cell_type": "code",
   "execution_count": 64,
   "id": "fd713c80",
   "metadata": {},
   "outputs": [
    {
     "data": {
      "text/plain": [
       "array(['48010226', '57693261', '59432726', ..., '50415990', '46154151', '66055249'], dtype='<U69')"
      ]
     },
     "execution_count": 64,
     "metadata": {},
     "output_type": "execute_result"
    }
   ],
   "source": [
    "loan_data_strings[:,5]"
   ]
  },
  {
   "cell_type": "code",
   "execution_count": 65,
   "id": "c6c8639e",
   "metadata": {},
   "outputs": [
    {
     "data": {
      "text/plain": [
       "array(['id', 'issue_d', 'loan_amnt', 'loan_status', 'funded_amnt', 'term', 'int_rate',\n",
       "       'installment', 'grade', 'sub_grade', 'verification_status', 'url', 'addr_state',\n",
       "       'total_pymnt'], dtype='<U19')"
      ]
     },
     "execution_count": 65,
     "metadata": {},
     "output_type": "execute_result"
    }
   ],
   "source": [
    "header_full"
   ]
  },
  {
   "cell_type": "code",
   "execution_count": 66,
   "id": "073070a6",
   "metadata": {},
   "outputs": [
    {
     "data": {
      "text/plain": [
       "array([48010226., 57693261., 59432726., ..., 50415990., 46154151., 66055249.])"
      ]
     },
     "execution_count": 66,
     "metadata": {},
     "output_type": "execute_result"
    }
   ],
   "source": [
    "loan_data_numerics[:,0]"
   ]
  },
  {
   "cell_type": "code",
   "execution_count": 67,
   "id": "30d90f19",
   "metadata": {},
   "outputs": [
    {
     "data": {
      "text/plain": [
       "array([48010226, 57693261, 59432726, ..., 50415990, 46154151, 66055249])"
      ]
     },
     "execution_count": 67,
     "metadata": {},
     "output_type": "execute_result"
    }
   ],
   "source": [
    "loan_data_strings[:,5].astype(dtype= np.int32)"
   ]
  },
  {
   "cell_type": "code",
   "execution_count": 68,
   "id": "c22e02c0",
   "metadata": {},
   "outputs": [
    {
     "data": {
      "text/plain": [
       "array([48010226, 57693261, 59432726, ..., 50415990, 46154151, 66055249])"
      ]
     },
     "execution_count": 68,
     "metadata": {},
     "output_type": "execute_result"
    }
   ],
   "source": [
    "loan_data_numerics[:,0].astype(dtype= np.int32)"
   ]
  },
  {
   "cell_type": "code",
   "execution_count": 69,
   "id": "c08eb912",
   "metadata": {},
   "outputs": [
    {
     "data": {
      "text/plain": [
       "True"
      ]
     },
     "execution_count": 69,
     "metadata": {},
     "output_type": "execute_result"
    }
   ],
   "source": [
    "np.array_equal(loan_data_strings[:,5].astype(dtype= np.int32),loan_data_numerics[:,0].astype(dtype= np.int32))"
   ]
  },
  {
   "cell_type": "code",
   "execution_count": 70,
   "id": "6c5f9f8b",
   "metadata": {},
   "outputs": [],
   "source": [
    "loan_data_strings = np.delete(loan_data_strings, 5, axis=1)"
   ]
  },
  {
   "cell_type": "code",
   "execution_count": 71,
   "id": "dff99f09",
   "metadata": {},
   "outputs": [
    {
     "data": {
      "text/plain": [
       "array([['5', '1', '36', '13', '1', 'CA'],\n",
       "       ['0', '1', '36', '5', '1', 'NY'],\n",
       "       ['9', '1', '36', '10', '1', 'PA'],\n",
       "       ...,\n",
       "       ['6', '1', '36', '5', '1', 'CA'],\n",
       "       ['4', '1', '36', '17', '1', 'OH'],\n",
       "       ['12', '1', '36', '4', '0', 'IL']], dtype='<U69')"
      ]
     },
     "execution_count": 71,
     "metadata": {},
     "output_type": "execute_result"
    }
   ],
   "source": [
    "loan_data_strings"
   ]
  },
  {
   "cell_type": "code",
   "execution_count": 72,
   "id": "487cb368",
   "metadata": {},
   "outputs": [],
   "source": [
    "header_strings = np.delete(header_strings, 5)"
   ]
  },
  {
   "cell_type": "code",
   "execution_count": 73,
   "id": "94333b30",
   "metadata": {},
   "outputs": [
    {
     "data": {
      "text/plain": [
       "array(['issue_date', 'loan_status', 'term_months', 'sub_grade', 'verification_status',\n",
       "       'addr_state'], dtype='<U19')"
      ]
     },
     "execution_count": 73,
     "metadata": {},
     "output_type": "execute_result"
    }
   ],
   "source": [
    "header_strings"
   ]
  },
  {
   "cell_type": "markdown",
   "id": "ef7762a7",
   "metadata": {},
   "source": [
    "STATE ADDRESSES"
   ]
  },
  {
   "cell_type": "code",
   "execution_count": 74,
   "id": "b8900618",
   "metadata": {},
   "outputs": [
    {
     "data": {
      "text/plain": [
       "array(['CA', 'NY', 'PA', ..., 'CA', 'OH', 'IL'], dtype='<U69')"
      ]
     },
     "execution_count": 74,
     "metadata": {},
     "output_type": "execute_result"
    }
   ],
   "source": [
    "loan_data_strings[:,5]"
   ]
  },
  {
   "cell_type": "code",
   "execution_count": 75,
   "id": "3a4801a1",
   "metadata": {},
   "outputs": [
    {
     "data": {
      "text/plain": [
       "(array(['', 'AK', 'AL', 'AR', 'AZ', 'CA', 'CO', 'CT', 'DC', 'DE', 'FL', 'GA', 'HI', 'IL', 'IN',\n",
       "        'KS', 'KY', 'LA', 'MA', 'MD', 'ME', 'MI', 'MN', 'MO', 'MS', 'MT', 'NC', 'ND', 'NE', 'NH',\n",
       "        'NJ', 'NM', 'NV', 'NY', 'OH', 'OK', 'OR', 'PA', 'RI', 'SC', 'SD', 'TN', 'TX', 'UT', 'VA',\n",
       "        'VT', 'WA', 'WI', 'WV', 'WY'], dtype='<U69'),\n",
       " array([ 500,   26,  119,   74,  220, 1336,  201,  143,   27,   27,  690,  321,   44,  389,  152,\n",
       "          84,   84,  116,  210,  222,   10,  267,  156,  160,   61,   28,  261,   16,   25,   58,\n",
       "         341,   57,  130,  777,  312,   83,  108,  320,   40,  107,   24,  143,  758,   74,  242,\n",
       "          17,  216,  148,   49,   27], dtype=int64))"
      ]
     },
     "execution_count": 75,
     "metadata": {},
     "output_type": "execute_result"
    }
   ],
   "source": [
    "np.unique(loan_data_strings[:,5], return_counts = True)"
   ]
  },
  {
   "cell_type": "code",
   "execution_count": 76,
   "id": "74d5836a",
   "metadata": {},
   "outputs": [
    {
     "data": {
      "text/plain": [
       "(array(['', 'AK', 'AL', 'AR', 'AZ', 'CA', 'CO', 'CT', 'DC', 'DE', 'FL', 'GA', 'HI', 'IL', 'IN',\n",
       "        'KS', 'KY', 'LA', 'MA', 'MD', 'ME', 'MI', 'MN', 'MO', 'MS', 'MT', 'NC', 'ND', 'NE', 'NH',\n",
       "        'NJ', 'NM', 'NV', 'NY', 'OH', 'OK', 'OR', 'PA', 'RI', 'SC', 'SD', 'TN', 'TX', 'UT', 'VA',\n",
       "        'VT', 'WA', 'WI', 'WV', 'WY'], dtype='<U69'),\n",
       " array([ 500,   26,  119,   74,  220, 1336,  201,  143,   27,   27,  690,  321,   44,  389,  152,\n",
       "          84,   84,  116,  210,  222,   10,  267,  156,  160,   61,   28,  261,   16,   25,   58,\n",
       "         341,   57,  130,  777,  312,   83,  108,  320,   40,  107,   24,  143,  758,   74,  242,\n",
       "          17,  216,  148,   49,   27], dtype=int64))"
      ]
     },
     "execution_count": 76,
     "metadata": {},
     "output_type": "execute_result"
    }
   ],
   "source": [
    "states_names, states_count = np.unique(loan_data_strings[:,5], return_counts = True)\n",
    "states_names, states_count"
   ]
  },
  {
   "cell_type": "code",
   "execution_count": 77,
   "id": "974c828c",
   "metadata": {},
   "outputs": [],
   "source": [
    "states_count_sorted = np.argsort(-states_count)"
   ]
  },
  {
   "cell_type": "code",
   "execution_count": 78,
   "id": "419d6fd8",
   "metadata": {},
   "outputs": [
    {
     "data": {
      "text/plain": [
       "(array(['CA', 'NY', 'TX', 'FL', '', 'IL', 'NJ', 'GA', 'PA', 'OH', 'MI', 'NC', 'VA', 'MD', 'AZ',\n",
       "        'WA', 'MA', 'CO', 'MO', 'MN', 'IN', 'WI', 'CT', 'TN', 'NV', 'AL', 'LA', 'OR', 'SC', 'KY',\n",
       "        'KS', 'OK', 'UT', 'AR', 'MS', 'NH', 'NM', 'WV', 'HI', 'RI', 'MT', 'DE', 'DC', 'WY', 'AK',\n",
       "        'NE', 'SD', 'VT', 'ND', 'ME'], dtype='<U69'),\n",
       " array([1336,  777,  758,  690,  500,  389,  341,  321,  320,  312,  267,  261,  242,  222,  220,\n",
       "         216,  210,  201,  160,  156,  152,  148,  143,  143,  130,  119,  116,  108,  107,   84,\n",
       "          84,   83,   74,   74,   61,   58,   57,   49,   44,   40,   28,   27,   27,   27,   26,\n",
       "          25,   24,   17,   16,   10], dtype=int64))"
      ]
     },
     "execution_count": 78,
     "metadata": {},
     "output_type": "execute_result"
    }
   ],
   "source": [
    "states_names[states_count_sorted], states_count[states_count_sorted]"
   ]
  },
  {
   "cell_type": "code",
   "execution_count": 79,
   "id": "47a5a8c3",
   "metadata": {},
   "outputs": [],
   "source": [
    "loan_data_strings[:,5] = np.where(loan_data_strings[:,5]=='',0,loan_data_strings[:,5])"
   ]
  },
  {
   "cell_type": "code",
   "execution_count": 80,
   "id": "cdf6848d",
   "metadata": {},
   "outputs": [
    {
     "data": {
      "text/plain": [
       "array(['0', 'AK', 'AL', 'AR', 'AZ', 'CA', 'CO', 'CT', 'DC', 'DE', 'FL', 'GA', 'HI', 'IL', 'IN',\n",
       "       'KS', 'KY', 'LA', 'MA', 'MD', 'ME', 'MI', 'MN', 'MO', 'MS', 'MT', 'NC', 'ND', 'NE', 'NH',\n",
       "       'NJ', 'NM', 'NV', 'NY', 'OH', 'OK', 'OR', 'PA', 'RI', 'SC', 'SD', 'TN', 'TX', 'UT', 'VA',\n",
       "       'VT', 'WA', 'WI', 'WV', 'WY'], dtype='<U69')"
      ]
     },
     "execution_count": 80,
     "metadata": {},
     "output_type": "execute_result"
    }
   ],
   "source": [
    "np.unique(loan_data_strings[:,5])"
   ]
  },
  {
   "cell_type": "code",
   "execution_count": 81,
   "id": "ae330bf7",
   "metadata": {},
   "outputs": [],
   "source": [
    "states_west = np.array(['WA', 'OR','CA','NV','ID','MT', 'WY','UT','CO', 'AZ','NM','HI','AK'])\n",
    "states_south = np.array(['TX','OK','AR','LA','MS','AL','TN','KY','FL','GA','SC','NC','VA','WV','MD','DE','DC'])\n",
    "states_midwest = np.array(['ND','SD','NE','KS','MN','IA','MO','WI','IL','IN','MI','OH'])\n",
    "states_east = np.array(['PA','NY','NJ','CT','MA','VT','NH','ME','RI'])"
   ]
  },
  {
   "cell_type": "code",
   "execution_count": 82,
   "id": "e6e85f29",
   "metadata": {},
   "outputs": [],
   "source": [
    "loan_data_strings[:,5] = np.where(np.isin(loan_data_strings[:,5],states_west),1,loan_data_strings[:,5])\n",
    "loan_data_strings[:,5] = np.where(np.isin(loan_data_strings[:,5],states_south),2,loan_data_strings[:,5])\n",
    "loan_data_strings[:,5] = np.where(np.isin(loan_data_strings[:,5],states_midwest),3,loan_data_strings[:,5])\n",
    "loan_data_strings[:,5] = np.where(np.isin(loan_data_strings[:,5],states_east),4,loan_data_strings[:,5])"
   ]
  },
  {
   "cell_type": "code",
   "execution_count": 83,
   "id": "b6df75c5",
   "metadata": {},
   "outputs": [
    {
     "data": {
      "text/plain": [
       "array(['0', '1', '2', '3', '4'], dtype='<U69')"
      ]
     },
     "execution_count": 83,
     "metadata": {},
     "output_type": "execute_result"
    }
   ],
   "source": [
    "np.unique(loan_data_strings[:,5])"
   ]
  },
  {
   "cell_type": "markdown",
   "id": "9dd7e6aa",
   "metadata": {},
   "source": [
    "##Converting Strings to Numericals"
   ]
  },
  {
   "cell_type": "code",
   "execution_count": 84,
   "id": "9fd05940",
   "metadata": {},
   "outputs": [
    {
     "data": {
      "text/plain": [
       "array([['5', '1', '36', '13', '1', '1'],\n",
       "       ['0', '1', '36', '5', '1', '4'],\n",
       "       ['9', '1', '36', '10', '1', '4'],\n",
       "       ...,\n",
       "       ['6', '1', '36', '5', '1', '1'],\n",
       "       ['4', '1', '36', '17', '1', '3'],\n",
       "       ['12', '1', '36', '4', '0', '3']], dtype='<U69')"
      ]
     },
     "execution_count": 84,
     "metadata": {},
     "output_type": "execute_result"
    }
   ],
   "source": [
    "loan_data_strings"
   ]
  },
  {
   "cell_type": "code",
   "execution_count": 85,
   "id": "7e39d046",
   "metadata": {},
   "outputs": [
    {
     "name": "stderr",
     "output_type": "stream",
     "text": [
      "C:\\Users\\Patience\\AppData\\Local\\Temp\\ipykernel_15228\\3219970070.py:1: DeprecationWarning: `np.int` is a deprecated alias for the builtin `int`. To silence this warning, use `int` by itself. Doing this will not modify any behavior and is safe. When replacing `np.int`, you may wish to use e.g. `np.int64` or `np.int32` to specify the precision. If you wish to review your current use, check the release note link for additional information.\n",
      "Deprecated in NumPy 1.20; for more details and guidance: https://numpy.org/devdocs/release/1.20.0-notes.html#deprecations\n",
      "  loan_data_strings = loan_data_strings.astype(dtype=np.int)\n"
     ]
    }
   ],
   "source": [
    "loan_data_strings = loan_data_strings.astype(dtype=np.int)"
   ]
  },
  {
   "cell_type": "code",
   "execution_count": 86,
   "id": "11c834cd",
   "metadata": {},
   "outputs": [
    {
     "data": {
      "text/plain": [
       "array([[ 5,  1, 36, 13,  1,  1],\n",
       "       [ 0,  1, 36,  5,  1,  4],\n",
       "       [ 9,  1, 36, 10,  1,  4],\n",
       "       ...,\n",
       "       [ 6,  1, 36,  5,  1,  1],\n",
       "       [ 4,  1, 36, 17,  1,  3],\n",
       "       [12,  1, 36,  4,  0,  3]])"
      ]
     },
     "execution_count": 86,
     "metadata": {},
     "output_type": "execute_result"
    }
   ],
   "source": [
    "loan_data_strings"
   ]
  },
  {
   "cell_type": "markdown",
   "id": "35ef6407",
   "metadata": {},
   "source": [
    "CheckPoint Strings"
   ]
  },
  {
   "cell_type": "code",
   "execution_count": 87,
   "id": "91c253d1",
   "metadata": {},
   "outputs": [],
   "source": [
    "Checkpoint_strings = checkpoint(\"checkpoint_strings\", header_strings, loan_data_strings)"
   ]
  },
  {
   "cell_type": "code",
   "execution_count": 88,
   "id": "93d0e769",
   "metadata": {},
   "outputs": [
    {
     "data": {
      "text/plain": [
       "array(['issue_date', 'loan_status', 'term_months', 'sub_grade', 'verification_status',\n",
       "       'addr_state'], dtype='<U19')"
      ]
     },
     "execution_count": 88,
     "metadata": {},
     "output_type": "execute_result"
    }
   ],
   "source": [
    "Checkpoint_strings['header']"
   ]
  },
  {
   "cell_type": "code",
   "execution_count": 89,
   "id": "3875dd85",
   "metadata": {},
   "outputs": [
    {
     "data": {
      "text/plain": [
       "array([[ 5,  1, 36, 13,  1,  1],\n",
       "       [ 0,  1, 36,  5,  1,  4],\n",
       "       [ 9,  1, 36, 10,  1,  4],\n",
       "       ...,\n",
       "       [ 6,  1, 36,  5,  1,  1],\n",
       "       [ 4,  1, 36, 17,  1,  3],\n",
       "       [12,  1, 36,  4,  0,  3]])"
      ]
     },
     "execution_count": 89,
     "metadata": {},
     "output_type": "execute_result"
    }
   ],
   "source": [
    "Checkpoint_strings['data']"
   ]
  },
  {
   "cell_type": "code",
   "execution_count": 90,
   "id": "92510d4b",
   "metadata": {},
   "outputs": [
    {
     "data": {
      "text/plain": [
       "True"
      ]
     },
     "execution_count": 90,
     "metadata": {},
     "output_type": "execute_result"
    }
   ],
   "source": [
    "np.array_equal(Checkpoint_strings['data'], loan_data_strings)"
   ]
  },
  {
   "cell_type": "markdown",
   "id": "55a5d433",
   "metadata": {},
   "source": [
    "Numeric Data Manipulation"
   ]
  },
  {
   "cell_type": "code",
   "execution_count": 91,
   "id": "b8c7d1b9",
   "metadata": {},
   "outputs": [
    {
     "data": {
      "text/plain": [
       "array(['id', 'loan_amnt', 'funded_amnt', 'int_rate', 'installment', 'total_pymnt'], dtype='<U19')"
      ]
     },
     "execution_count": 91,
     "metadata": {},
     "output_type": "execute_result"
    }
   ],
   "source": [
    "header_numerics"
   ]
  },
  {
   "cell_type": "code",
   "execution_count": 92,
   "id": "53b7dbda",
   "metadata": {},
   "outputs": [
    {
     "data": {
      "text/plain": [
       "array([[48010226.  ,    35000.  ,    35000.  ,       13.33,     1184.86,     9452.96],\n",
       "       [57693261.  ,    30000.  ,    30000.  , 68616520.  ,      938.57,     4679.7 ],\n",
       "       [59432726.  ,    15000.  ,    15000.  , 68616520.  ,      494.86,     1969.83],\n",
       "       ...,\n",
       "       [50415990.  ,    10000.  ,    10000.  , 68616520.  , 68616520.  ,     2185.64],\n",
       "       [46154151.  , 68616520.  ,    10000.  ,       16.55,      354.3 ,     3199.4 ],\n",
       "       [66055249.  ,    10000.  ,    10000.  , 68616520.  ,      309.97,      301.9 ]])"
      ]
     },
     "execution_count": 92,
     "metadata": {},
     "output_type": "execute_result"
    }
   ],
   "source": [
    "loan_data_numerics"
   ]
  },
  {
   "cell_type": "code",
   "execution_count": 93,
   "id": "3397f751",
   "metadata": {},
   "outputs": [
    {
     "data": {
      "text/plain": [
       "0"
      ]
     },
     "execution_count": 93,
     "metadata": {},
     "output_type": "execute_result"
    }
   ],
   "source": [
    "np.isnan(loan_data_numerics).sum()"
   ]
  },
  {
   "cell_type": "markdown",
   "id": "3ae456f0",
   "metadata": {},
   "source": [
    "ID"
   ]
  },
  {
   "cell_type": "code",
   "execution_count": 94,
   "id": "9e29a7b9",
   "metadata": {},
   "outputs": [
    {
     "data": {
      "text/plain": [
       "68616520.0"
      ]
     },
     "execution_count": 94,
     "metadata": {},
     "output_type": "execute_result"
    }
   ],
   "source": [
    "temp_fill"
   ]
  },
  {
   "cell_type": "code",
   "execution_count": 95,
   "id": "450e0d90",
   "metadata": {},
   "outputs": [
    {
     "data": {
      "text/plain": [
       "0"
      ]
     },
     "execution_count": 95,
     "metadata": {},
     "output_type": "execute_result"
    }
   ],
   "source": [
    "np.isin(loan_data_numerics[:,0],temp_fill).sum()"
   ]
  },
  {
   "cell_type": "code",
   "execution_count": 96,
   "id": "652b0683",
   "metadata": {},
   "outputs": [
    {
     "name": "stderr",
     "output_type": "stream",
     "text": [
      "C:\\Users\\Patience\\AppData\\Local\\Temp\\ipykernel_15228\\2608702303.py:1: DeprecationWarning: `np.int` is a deprecated alias for the builtin `int`. To silence this warning, use `int` by itself. Doing this will not modify any behavior and is safe. When replacing `np.int`, you may wish to use e.g. `np.int64` or `np.int32` to specify the precision. If you wish to review your current use, check the release note link for additional information.\n",
      "Deprecated in NumPy 1.20; for more details and guidance: https://numpy.org/devdocs/release/1.20.0-notes.html#deprecations\n",
      "  loan_data_numerics[:,0].astype(np.int)\n"
     ]
    },
    {
     "data": {
      "text/plain": [
       "array([48010226, 57693261, 59432726, ..., 50415990, 46154151, 66055249])"
      ]
     },
     "execution_count": 96,
     "metadata": {},
     "output_type": "execute_result"
    }
   ],
   "source": [
    "loan_data_numerics[:,0].astype(np.int)"
   ]
  },
  {
   "cell_type": "code",
   "execution_count": 97,
   "id": "55c62eb0",
   "metadata": {},
   "outputs": [
    {
     "name": "stderr",
     "output_type": "stream",
     "text": [
      "C:\\Users\\Patience\\AppData\\Local\\Temp\\ipykernel_15228\\1321740057.py:1: DeprecationWarning: `np.int` is a deprecated alias for the builtin `int`. To silence this warning, use `int` by itself. Doing this will not modify any behavior and is safe. When replacing `np.int`, you may wish to use e.g. `np.int64` or `np.int32` to specify the precision. If you wish to review your current use, check the release note link for additional information.\n",
      "Deprecated in NumPy 1.20; for more details and guidance: https://numpy.org/devdocs/release/1.20.0-notes.html#deprecations\n",
      "  loan_data_numerics[:,0] = loan_data_numerics[:,0].astype(dtype=np.int)\n"
     ]
    },
    {
     "data": {
      "text/plain": [
       "array([[48010226.  ,    35000.  ,    35000.  ,       13.33,     1184.86,     9452.96],\n",
       "       [57693261.  ,    30000.  ,    30000.  , 68616520.  ,      938.57,     4679.7 ],\n",
       "       [59432726.  ,    15000.  ,    15000.  , 68616520.  ,      494.86,     1969.83],\n",
       "       ...,\n",
       "       [50415990.  ,    10000.  ,    10000.  , 68616520.  , 68616520.  ,     2185.64],\n",
       "       [46154151.  , 68616520.  ,    10000.  ,       16.55,      354.3 ,     3199.4 ],\n",
       "       [66055249.  ,    10000.  ,    10000.  , 68616520.  ,      309.97,      301.9 ]])"
      ]
     },
     "execution_count": 97,
     "metadata": {},
     "output_type": "execute_result"
    }
   ],
   "source": [
    "loan_data_numerics[:,0] = loan_data_numerics[:,0].astype(dtype=np.int)\n",
    "loan_data_numerics"
   ]
  },
  {
   "cell_type": "markdown",
   "id": "1c11adec",
   "metadata": {},
   "source": [
    "Temporary Stats"
   ]
  },
  {
   "cell_type": "code",
   "execution_count": 98,
   "id": "4b0b0a60",
   "metadata": {},
   "outputs": [
    {
     "data": {
      "text/plain": [
       "array([[  373332.  ,         nan,     1000.  ,         nan,     1000.  ,         nan,        6.  ,\n",
       "              31.42,         nan,         nan,         nan,         nan,         nan,        0.  ],\n",
       "       [54015809.19,         nan,    15273.46,         nan,    15311.04,         nan,       16.62,\n",
       "             440.92,         nan,         nan,         nan,         nan,         nan,     3143.85],\n",
       "       [68616519.  ,         nan,    35000.  ,         nan,    35000.  ,         nan,       28.99,\n",
       "            1372.97,         nan,         nan,         nan,         nan,         nan,    41913.62]])"
      ]
     },
     "execution_count": 98,
     "metadata": {},
     "output_type": "execute_result"
    }
   ],
   "source": [
    "temp_stats"
   ]
  },
  {
   "cell_type": "code",
   "execution_count": 99,
   "id": "c680a319",
   "metadata": {},
   "outputs": [
    {
     "data": {
      "text/plain": [
       "array([[  373332.  ,     1000.  ,     1000.  ,        6.  ,       31.42,        0.  ],\n",
       "       [54015809.19,    15273.46,    15311.04,       16.62,      440.92,     3143.85],\n",
       "       [68616519.  ,    35000.  ,    35000.  ,       28.99,     1372.97,    41913.62]])"
      ]
     },
     "execution_count": 99,
     "metadata": {},
     "output_type": "execute_result"
    }
   ],
   "source": [
    "temp_stats[:,column_numerics]"
   ]
  },
  {
   "cell_type": "code",
   "execution_count": 100,
   "id": "6d6fbbee",
   "metadata": {},
   "outputs": [
    {
     "data": {
      "text/plain": [
       "array(['id', 'loan_amnt', 'funded_amnt', 'int_rate', 'installment', 'total_pymnt'], dtype='<U19')"
      ]
     },
     "execution_count": 100,
     "metadata": {},
     "output_type": "execute_result"
    }
   ],
   "source": [
    "header_numerics"
   ]
  },
  {
   "cell_type": "markdown",
   "id": "dd1e3803",
   "metadata": {},
   "source": [
    "Substituting Funded Amount, Max Value"
   ]
  },
  {
   "cell_type": "code",
   "execution_count": 101,
   "id": "1ad65219",
   "metadata": {},
   "outputs": [
    {
     "data": {
      "text/plain": [
       "500"
      ]
     },
     "execution_count": 101,
     "metadata": {},
     "output_type": "execute_result"
    }
   ],
   "source": [
    "np.isin(loan_data_numerics[:,2],temp_fill).sum()"
   ]
  },
  {
   "cell_type": "code",
   "execution_count": 102,
   "id": "94848a97",
   "metadata": {},
   "outputs": [
    {
     "data": {
      "text/plain": [
       "array([[  57],\n",
       "       [  58],\n",
       "       [  59],\n",
       "       [  85],\n",
       "       [ 100],\n",
       "       [ 145],\n",
       "       [ 161],\n",
       "       [ 218],\n",
       "       [ 236],\n",
       "       [ 240],\n",
       "       [ 262],\n",
       "       [ 279],\n",
       "       [ 297],\n",
       "       [ 303],\n",
       "       [ 306],\n",
       "       [ 365],\n",
       "       [ 374],\n",
       "       [ 377],\n",
       "       [ 397],\n",
       "       [ 427],\n",
       "       [ 468],\n",
       "       [ 481],\n",
       "       [ 498],\n",
       "       [ 544],\n",
       "       [ 556],\n",
       "       [ 568],\n",
       "       [ 576],\n",
       "       [ 580],\n",
       "       [ 588],\n",
       "       [ 635],\n",
       "       [ 669],\n",
       "       [ 734],\n",
       "       [ 742],\n",
       "       [ 750],\n",
       "       [ 789],\n",
       "       [ 794],\n",
       "       [ 798],\n",
       "       [ 809],\n",
       "       [ 818],\n",
       "       [ 819],\n",
       "       [ 840],\n",
       "       [ 846],\n",
       "       [ 860],\n",
       "       [ 864],\n",
       "       [ 871],\n",
       "       [ 917],\n",
       "       [ 958],\n",
       "       [ 973],\n",
       "       [ 979],\n",
       "       [ 985],\n",
       "       [ 994],\n",
       "       [1005],\n",
       "       [1007],\n",
       "       [1075],\n",
       "       [1085],\n",
       "       [1088],\n",
       "       [1149],\n",
       "       [1160],\n",
       "       [1178],\n",
       "       [1186],\n",
       "       [1199],\n",
       "       [1203],\n",
       "       [1204],\n",
       "       [1215],\n",
       "       [1226],\n",
       "       [1230],\n",
       "       [1237],\n",
       "       [1245],\n",
       "       [1268],\n",
       "       [1281],\n",
       "       [1283],\n",
       "       [1294],\n",
       "       [1324],\n",
       "       [1325],\n",
       "       [1330],\n",
       "       [1344],\n",
       "       [1384],\n",
       "       [1409],\n",
       "       [1419],\n",
       "       [1431],\n",
       "       [1481],\n",
       "       [1493],\n",
       "       [1504],\n",
       "       [1545],\n",
       "       [1561],\n",
       "       [1588],\n",
       "       [1618],\n",
       "       [1627],\n",
       "       [1632],\n",
       "       [1633],\n",
       "       [1653],\n",
       "       [1668],\n",
       "       [1676],\n",
       "       [1677],\n",
       "       [1688],\n",
       "       [1701],\n",
       "       [1706],\n",
       "       [1757],\n",
       "       [1810],\n",
       "       [1834],\n",
       "       [1835],\n",
       "       [1888],\n",
       "       [1899],\n",
       "       [1911],\n",
       "       [1925],\n",
       "       [1933],\n",
       "       [2019],\n",
       "       [2067],\n",
       "       [2068],\n",
       "       [2086],\n",
       "       [2087],\n",
       "       [2147],\n",
       "       [2185],\n",
       "       [2205],\n",
       "       [2213],\n",
       "       [2278],\n",
       "       [2298],\n",
       "       [2306],\n",
       "       [2309],\n",
       "       [2327],\n",
       "       [2372],\n",
       "       [2381],\n",
       "       [2488],\n",
       "       [2493],\n",
       "       [2534],\n",
       "       [2535],\n",
       "       [2542],\n",
       "       [2576],\n",
       "       [2604],\n",
       "       [2609],\n",
       "       [2642],\n",
       "       [2658],\n",
       "       [2677],\n",
       "       [2707],\n",
       "       [2714],\n",
       "       [2719],\n",
       "       [2758],\n",
       "       [2793],\n",
       "       [2824],\n",
       "       [2825],\n",
       "       [2835],\n",
       "       [2839],\n",
       "       [2869],\n",
       "       [2873],\n",
       "       [2878],\n",
       "       [2902],\n",
       "       [2921],\n",
       "       [2949],\n",
       "       [2957],\n",
       "       [2959],\n",
       "       [2974],\n",
       "       [2994],\n",
       "       [3014],\n",
       "       [3018],\n",
       "       [3031],\n",
       "       [3090],\n",
       "       [3115],\n",
       "       [3121],\n",
       "       [3122],\n",
       "       [3125],\n",
       "       [3149],\n",
       "       [3162],\n",
       "       [3192],\n",
       "       [3203],\n",
       "       [3268],\n",
       "       [3272],\n",
       "       [3313],\n",
       "       [3334],\n",
       "       [3337],\n",
       "       [3342],\n",
       "       [3362],\n",
       "       [3365],\n",
       "       [3366],\n",
       "       [3393],\n",
       "       [3397],\n",
       "       [3416],\n",
       "       [3442],\n",
       "       [3483],\n",
       "       [3508],\n",
       "       [3513],\n",
       "       [3616],\n",
       "       [3627],\n",
       "       [3694],\n",
       "       [3700],\n",
       "       [3715],\n",
       "       [3742],\n",
       "       [3750],\n",
       "       [3768],\n",
       "       [3838],\n",
       "       [3901],\n",
       "       [3916],\n",
       "       [3926],\n",
       "       [3935],\n",
       "       [3956],\n",
       "       [3959],\n",
       "       [3988],\n",
       "       [4001],\n",
       "       [4021],\n",
       "       [4086],\n",
       "       [4091],\n",
       "       [4132],\n",
       "       [4194],\n",
       "       [4270],\n",
       "       [4301],\n",
       "       [4307],\n",
       "       [4313],\n",
       "       [4348],\n",
       "       [4362],\n",
       "       [4388],\n",
       "       [4404],\n",
       "       [4407],\n",
       "       [4420],\n",
       "       [4437],\n",
       "       [4440],\n",
       "       [4476],\n",
       "       [4486],\n",
       "       [4491],\n",
       "       [4538],\n",
       "       [4553],\n",
       "       [4572],\n",
       "       [4579],\n",
       "       [4607],\n",
       "       [4614],\n",
       "       [4620],\n",
       "       [4623],\n",
       "       [4632],\n",
       "       [4633],\n",
       "       [4634],\n",
       "       [4636],\n",
       "       [4679],\n",
       "       [4718],\n",
       "       [4724],\n",
       "       [4730],\n",
       "       [4733],\n",
       "       [4749],\n",
       "       [4752],\n",
       "       [4772],\n",
       "       [4831],\n",
       "       [4859],\n",
       "       [4888],\n",
       "       [4904],\n",
       "       [4944],\n",
       "       [4969],\n",
       "       [4971],\n",
       "       [4975],\n",
       "       [4993],\n",
       "       [5006],\n",
       "       [5026],\n",
       "       [5040],\n",
       "       [5045],\n",
       "       [5054],\n",
       "       [5085],\n",
       "       [5088],\n",
       "       [5124],\n",
       "       [5130],\n",
       "       [5140],\n",
       "       [5161],\n",
       "       [5184],\n",
       "       [5190],\n",
       "       [5193],\n",
       "       [5209],\n",
       "       [5221],\n",
       "       [5235],\n",
       "       [5239],\n",
       "       [5267],\n",
       "       [5313],\n",
       "       [5395],\n",
       "       [5418],\n",
       "       [5433],\n",
       "       [5483],\n",
       "       [5515],\n",
       "       [5539],\n",
       "       [5572],\n",
       "       [5573],\n",
       "       [5593],\n",
       "       [5626],\n",
       "       [5635],\n",
       "       [5663],\n",
       "       [5670],\n",
       "       [5752],\n",
       "       [5761],\n",
       "       [5769],\n",
       "       [5805],\n",
       "       [5835],\n",
       "       [5864],\n",
       "       [5923],\n",
       "       [5949],\n",
       "       [5958],\n",
       "       [5993],\n",
       "       [6003],\n",
       "       [6018],\n",
       "       [6056],\n",
       "       [6087],\n",
       "       [6106],\n",
       "       [6117],\n",
       "       [6122],\n",
       "       [6128],\n",
       "       [6241],\n",
       "       [6263],\n",
       "       [6280],\n",
       "       [6293],\n",
       "       [6320],\n",
       "       [6326],\n",
       "       [6334],\n",
       "       [6350],\n",
       "       [6361],\n",
       "       [6391],\n",
       "       [6403],\n",
       "       [6425],\n",
       "       [6430],\n",
       "       [6445],\n",
       "       [6450],\n",
       "       [6455],\n",
       "       [6505],\n",
       "       [6519],\n",
       "       [6562],\n",
       "       [6596],\n",
       "       [6629],\n",
       "       [6631],\n",
       "       [6680],\n",
       "       [6684],\n",
       "       [6694],\n",
       "       [6736],\n",
       "       [6770],\n",
       "       [6778],\n",
       "       [6802],\n",
       "       [6811],\n",
       "       [6813],\n",
       "       [6822],\n",
       "       [6833],\n",
       "       [6894],\n",
       "       [6907],\n",
       "       [6936],\n",
       "       [6978],\n",
       "       [7005],\n",
       "       [7027],\n",
       "       [7041],\n",
       "       [7063],\n",
       "       [7069],\n",
       "       [7088],\n",
       "       [7090],\n",
       "       [7098],\n",
       "       [7120],\n",
       "       [7146],\n",
       "       [7173],\n",
       "       [7181],\n",
       "       [7183],\n",
       "       [7185],\n",
       "       [7213],\n",
       "       [7231],\n",
       "       [7235],\n",
       "       [7240],\n",
       "       [7283],\n",
       "       [7309],\n",
       "       [7314],\n",
       "       [7330],\n",
       "       [7331],\n",
       "       [7332],\n",
       "       [7340],\n",
       "       [7376],\n",
       "       [7378],\n",
       "       [7381],\n",
       "       [7398],\n",
       "       [7402],\n",
       "       [7405],\n",
       "       [7450],\n",
       "       [7481],\n",
       "       [7500],\n",
       "       [7505],\n",
       "       [7510],\n",
       "       [7534],\n",
       "       [7559],\n",
       "       [7565],\n",
       "       [7624],\n",
       "       [7632],\n",
       "       [7638],\n",
       "       [7657],\n",
       "       [7666],\n",
       "       [7675],\n",
       "       [7698],\n",
       "       [7722],\n",
       "       [7735],\n",
       "       [7757],\n",
       "       [7861],\n",
       "       [7883],\n",
       "       [7915],\n",
       "       [7920],\n",
       "       [7955],\n",
       "       [7971],\n",
       "       [7981],\n",
       "       [7992],\n",
       "       [8012],\n",
       "       [8015],\n",
       "       [8029],\n",
       "       [8057],\n",
       "       [8077],\n",
       "       [8082],\n",
       "       [8085],\n",
       "       [8103],\n",
       "       [8125],\n",
       "       [8126],\n",
       "       [8131],\n",
       "       [8133],\n",
       "       [8150],\n",
       "       [8174],\n",
       "       [8189],\n",
       "       [8192],\n",
       "       [8194],\n",
       "       [8209],\n",
       "       [8220],\n",
       "       [8283],\n",
       "       [8284],\n",
       "       [8322],\n",
       "       [8341],\n",
       "       [8367],\n",
       "       [8380],\n",
       "       [8402],\n",
       "       [8456],\n",
       "       [8465],\n",
       "       [8484],\n",
       "       [8486],\n",
       "       [8507],\n",
       "       [8512],\n",
       "       [8533],\n",
       "       [8534],\n",
       "       [8585],\n",
       "       [8614],\n",
       "       [8615],\n",
       "       [8627],\n",
       "       [8789],\n",
       "       [8793],\n",
       "       [8796],\n",
       "       [8797],\n",
       "       [8805],\n",
       "       [8824],\n",
       "       [8847],\n",
       "       [8852],\n",
       "       [8889],\n",
       "       [8925],\n",
       "       [8944],\n",
       "       [8953],\n",
       "       [8958],\n",
       "       [8959],\n",
       "       [8962],\n",
       "       [8980],\n",
       "       [8991],\n",
       "       [9011],\n",
       "       [9012],\n",
       "       [9024],\n",
       "       [9025],\n",
       "       [9035],\n",
       "       [9071],\n",
       "       [9079],\n",
       "       [9083],\n",
       "       [9098],\n",
       "       [9116],\n",
       "       [9176],\n",
       "       [9187],\n",
       "       [9194],\n",
       "       [9219],\n",
       "       [9252],\n",
       "       [9268],\n",
       "       [9271],\n",
       "       [9304],\n",
       "       [9392],\n",
       "       [9396],\n",
       "       [9400],\n",
       "       [9433],\n",
       "       [9435],\n",
       "       [9436],\n",
       "       [9439],\n",
       "       [9455],\n",
       "       [9469],\n",
       "       [9473],\n",
       "       [9486],\n",
       "       [9490],\n",
       "       [9518],\n",
       "       [9544],\n",
       "       [9547],\n",
       "       [9548],\n",
       "       [9600],\n",
       "       [9611],\n",
       "       [9620],\n",
       "       [9622],\n",
       "       [9626],\n",
       "       [9658],\n",
       "       [9685],\n",
       "       [9687],\n",
       "       [9709],\n",
       "       [9735],\n",
       "       [9774],\n",
       "       [9786],\n",
       "       [9800],\n",
       "       [9803],\n",
       "       [9804],\n",
       "       [9844],\n",
       "       [9890],\n",
       "       [9910],\n",
       "       [9930],\n",
       "       [9935]], dtype=int64)"
      ]
     },
     "execution_count": 102,
     "metadata": {},
     "output_type": "execute_result"
    }
   ],
   "source": [
    "np.argwhere(np.isin(loan_data_numerics[:,2],temp_fill))"
   ]
  },
  {
   "cell_type": "code",
   "execution_count": 103,
   "id": "e56a2b25",
   "metadata": {},
   "outputs": [],
   "source": [
    "loan_data_numerics[:,2]= np.where(loan_data_numerics[:,2] == temp_fill,\n",
    "                                 temp_stats[0,column_numerics[2]],\n",
    "                                 loan_data_numerics[:,2])"
   ]
  },
  {
   "cell_type": "code",
   "execution_count": 104,
   "id": "be485955",
   "metadata": {},
   "outputs": [
    {
     "data": {
      "text/plain": [
       "0"
      ]
     },
     "execution_count": 104,
     "metadata": {},
     "output_type": "execute_result"
    }
   ],
   "source": [
    "np.isin(loan_data_numerics[:,2],temp_fill).sum()"
   ]
  },
  {
   "cell_type": "code",
   "execution_count": 105,
   "id": "5da27063",
   "metadata": {},
   "outputs": [
    {
     "data": {
      "text/plain": [
       "array(['id', 'loan_amnt', 'funded_amnt', 'int_rate', 'installment', 'total_pymnt'], dtype='<U19')"
      ]
     },
     "execution_count": 105,
     "metadata": {},
     "output_type": "execute_result"
    }
   ],
   "source": [
    "header_numerics"
   ]
  },
  {
   "cell_type": "markdown",
   "id": "35fa9752",
   "metadata": {},
   "source": [
    "'loan_amnt', 'int_rate', 'installment', 'total_pymnt' Maxm Value"
   ]
  },
  {
   "cell_type": "code",
   "execution_count": 106,
   "id": "f8725d59",
   "metadata": {},
   "outputs": [],
   "source": [
    "for i in [1,3,4,5]:\n",
    "    loan_data_numerics[:,i]= np.where(loan_data_numerics[:,i] == temp_fill,\n",
    "                                 temp_stats[0,column_numerics[i]],\n",
    "                                 loan_data_numerics[:,i])"
   ]
  },
  {
   "cell_type": "code",
   "execution_count": 107,
   "id": "bc9c9980",
   "metadata": {},
   "outputs": [
    {
     "data": {
      "text/plain": [
       "0"
      ]
     },
     "execution_count": 107,
     "metadata": {},
     "output_type": "execute_result"
    }
   ],
   "source": [
    "np.isin(loan_data_numerics,temp_fill).sum()"
   ]
  },
  {
   "cell_type": "markdown",
   "id": "65610ff7",
   "metadata": {},
   "source": [
    "USD-Euro Conversion"
   ]
  },
  {
   "cell_type": "code",
   "execution_count": 108,
   "id": "07b3ebaf",
   "metadata": {},
   "outputs": [
    {
     "data": {
      "text/plain": [
       "array([[ nan,  nan,  nan,  nan,  nan],\n",
       "       [1.21, 1.21, 1.11, 1.13, 0.  ],\n",
       "       [1.13, 1.15, 1.12, 1.12, 0.  ],\n",
       "       [1.12, 1.12, 1.05, 1.08, 0.  ],\n",
       "       [1.07, 1.12, 1.05, 1.11, 0.  ],\n",
       "       [1.12, 1.15, 1.08, 1.1 , 0.  ],\n",
       "       [1.1 , 1.14, 1.09, 1.12, 0.  ],\n",
       "       [1.11, 1.12, 1.08, 1.09, 0.  ],\n",
       "       [1.1 , 1.17, 1.09, 1.13, 0.  ],\n",
       "       [1.12, 1.15, 1.11, 1.13, 0.  ],\n",
       "       [1.12, 1.15, 1.09, 1.1 , 0.  ],\n",
       "       [1.1 , 1.11, 1.06, 1.06, 0.  ],\n",
       "       [1.06, 1.11, 1.05, 1.09, 0.  ]])"
      ]
     },
     "execution_count": 108,
     "metadata": {},
     "output_type": "execute_result"
    }
   ],
   "source": [
    "np.genfromtxt(\"E:\\\\DataScience\\\\Phyton\\\\Numpy\\\\EUR-USD.CSV\", delimiter =',', autostrip= True)"
   ]
  },
  {
   "cell_type": "code",
   "execution_count": 109,
   "id": "969f8a91",
   "metadata": {},
   "outputs": [
    {
     "name": "stderr",
     "output_type": "stream",
     "text": [
      "C:\\Users\\Patience\\AppData\\Local\\Temp\\ipykernel_15228\\725687023.py:1: DeprecationWarning: `np.str` is a deprecated alias for the builtin `str`. To silence this warning, use `str` by itself. Doing this will not modify any behavior and is safe. If you specifically wanted the numpy scalar type, use `np.str_` here.\n",
      "Deprecated in NumPy 1.20; for more details and guidance: https://numpy.org/devdocs/release/1.20.0-notes.html#deprecations\n",
      "  np.genfromtxt(\"E:\\\\DataScience\\\\Phyton\\\\Numpy\\\\EUR-USD.CSV\", delimiter =',', autostrip= True, dtype=np.str)\n"
     ]
    },
    {
     "data": {
      "text/plain": [
       "array([['Open', 'High', 'Low', 'Close', 'Volume'],\n",
       "       ['1.2098628282546997', '1.2098628282546997', '1.11055588722229', '1.1287955045700073', '0'],\n",
       "       ['1.1287955045700073', '1.1484194993972778', '1.117680549621582', '1.1205360889434814',\n",
       "        '0'],\n",
       "       ['1.119795799255371', '1.1240400075912476', '1.0460032224655151', '1.0830246210098267',\n",
       "        '0'],\n",
       "       ['1.0741022825241089', '1.1247594356536865', '1.0521597862243652', '1.1114321947097778',\n",
       "        '0'],\n",
       "       ['1.1215037107467651', '1.145304799079895', '1.0821995735168457', '1.0960345268249512',\n",
       "        '0'],\n",
       "       ['1.095902442932129', '1.1428401470184326', '1.0888904333114624', '1.122296690940857', '0'],\n",
       "       ['1.1134989261627197', '1.1219995021820068', '1.081270456314087', '1.0939244031906128',\n",
       "        '0'],\n",
       "       ['1.0969001054763794', '1.1705996990203857', '1.0850305557250977', '1.1340054273605347',\n",
       "        '0'],\n",
       "       ['1.1225990056991577', '1.1460003852844238', '1.1089695692062378', '1.1255937814712524',\n",
       "        '0'],\n",
       "       ['1.1171561479568481', '1.1494200229644775', '1.0910003185272217', '1.100897192955017',\n",
       "        '0'],\n",
       "       ['1.1024993658065796', '1.1060001850128174', '1.056400179862976', '1.0583018064498901',\n",
       "        '0'],\n",
       "       ['1.0572947263717651', '1.107000470161438', '1.0541995763778687', '1.093398094177246', '0']],\n",
       "      dtype='<U18')"
      ]
     },
     "execution_count": 109,
     "metadata": {},
     "output_type": "execute_result"
    }
   ],
   "source": [
    "np.genfromtxt(\"E:\\\\DataScience\\\\Phyton\\\\Numpy\\\\EUR-USD.CSV\", delimiter =',', autostrip= True, dtype=np.str)"
   ]
  },
  {
   "cell_type": "code",
   "execution_count": 110,
   "id": "63329dd4",
   "metadata": {},
   "outputs": [
    {
     "data": {
      "text/plain": [
       "array([1.13, 1.12, 1.08, 1.11, 1.1 , 1.12, 1.09, 1.13, 1.13, 1.1 , 1.06, 1.09])"
      ]
     },
     "execution_count": 110,
     "metadata": {},
     "output_type": "execute_result"
    }
   ],
   "source": [
    "Eur_Usd = np.genfromtxt(\"E:\\\\DataScience\\\\Phyton\\\\Numpy\\\\EUR-USD.CSV\", delimiter =',', autostrip= True, skip_header=1,usecols=3)\n",
    "Eur_Usd"
   ]
  },
  {
   "cell_type": "code",
   "execution_count": 111,
   "id": "f5bd35ea",
   "metadata": {},
   "outputs": [
    {
     "data": {
      "text/plain": [
       "(12,)"
      ]
     },
     "execution_count": 111,
     "metadata": {},
     "output_type": "execute_result"
    }
   ],
   "source": [
    "Eur_Usd.shape"
   ]
  },
  {
   "cell_type": "code",
   "execution_count": 112,
   "id": "c5b449e2",
   "metadata": {},
   "outputs": [
    {
     "data": {
      "text/plain": [
       "array([ 5,  0,  9, ...,  6,  4, 12])"
      ]
     },
     "execution_count": 112,
     "metadata": {},
     "output_type": "execute_result"
    }
   ],
   "source": [
    "loan_data_strings[:,0]"
   ]
  },
  {
   "cell_type": "code",
   "execution_count": 113,
   "id": "7dff7be3",
   "metadata": {},
   "outputs": [],
   "source": [
    "exchange_rate = loan_data_strings[:,0]\n",
    "\n",
    "for i in range(1,13):\n",
    "    exchange_rate = np.where(exchange_rate == i,\n",
    "                            Eur_Usd[i-1],\n",
    "                            exchange_rate)\n",
    "exchange_rate = np.where(exchange_rate == 0,\n",
    "                         np.mean(Eur_Usd),\n",
    "                         exchange_rate)"
   ]
  },
  {
   "cell_type": "code",
   "execution_count": 114,
   "id": "1d22a6d8",
   "metadata": {},
   "outputs": [
    {
     "data": {
      "text/plain": [
       "array([1.1 , 1.11, 1.13, ..., 1.12, 1.11, 1.09])"
      ]
     },
     "execution_count": 114,
     "metadata": {},
     "output_type": "execute_result"
    }
   ],
   "source": [
    "exchange_rate"
   ]
  },
  {
   "cell_type": "code",
   "execution_count": 115,
   "id": "09a06200",
   "metadata": {},
   "outputs": [],
   "source": [
    "exchange_rate = np.reshape(exchange_rate,(10000,1))"
   ]
  },
  {
   "cell_type": "code",
   "execution_count": 116,
   "id": "4150d7aa",
   "metadata": {},
   "outputs": [],
   "source": [
    "loan_data_numerics=np.hstack((loan_data_numerics,exchange_rate))"
   ]
  },
  {
   "cell_type": "code",
   "execution_count": 117,
   "id": "b15a5e2b",
   "metadata": {},
   "outputs": [
    {
     "data": {
      "text/plain": [
       "array([[48010226.  ,    35000.  ,    35000.  , ...,     1184.86,     9452.96,        1.1 ],\n",
       "       [57693261.  ,    30000.  ,    30000.  , ...,      938.57,     4679.7 ,        1.11],\n",
       "       [59432726.  ,    15000.  ,    15000.  , ...,      494.86,     1969.83,        1.13],\n",
       "       ...,\n",
       "       [50415990.  ,    10000.  ,    10000.  , ...,       31.42,     2185.64,        1.12],\n",
       "       [46154151.  ,     1000.  ,    10000.  , ...,      354.3 ,     3199.4 ,        1.11],\n",
       "       [66055249.  ,    10000.  ,    10000.  , ...,      309.97,      301.9 ,        1.09]])"
      ]
     },
     "execution_count": 117,
     "metadata": {},
     "output_type": "execute_result"
    }
   ],
   "source": [
    "loan_data_numerics"
   ]
  },
  {
   "cell_type": "code",
   "execution_count": 118,
   "id": "f592e53b",
   "metadata": {},
   "outputs": [
    {
     "data": {
      "text/plain": [
       "array(['id', 'loan_amnt', 'funded_amnt', 'int_rate', 'installment', 'total_pymnt', 'exchange_rate'],\n",
       "      dtype='<U19')"
      ]
     },
     "execution_count": 118,
     "metadata": {},
     "output_type": "execute_result"
    }
   ],
   "source": [
    "header_numerics = np.concatenate((header_numerics, np.array(['exchange_rate'])))\n",
    "header_numerics"
   ]
  },
  {
   "cell_type": "markdown",
   "id": "61ce555a",
   "metadata": {},
   "source": [
    "Converting Values"
   ]
  },
  {
   "cell_type": "code",
   "execution_count": 119,
   "id": "5ad05b93",
   "metadata": {},
   "outputs": [
    {
     "data": {
      "text/plain": [
       "array([1, 2, 4, 5])"
      ]
     },
     "execution_count": 119,
     "metadata": {},
     "output_type": "execute_result"
    }
   ],
   "source": [
    "column_dollars = np.array([1,2,4,5])\n",
    "column_dollars"
   ]
  },
  {
   "cell_type": "code",
   "execution_count": 120,
   "id": "22ba302e",
   "metadata": {},
   "outputs": [],
   "source": [
    "for i in column_dollars:\n",
    "    loan_data_numerics = np.hstack((loan_data_numerics,np.reshape(loan_data_numerics[:,i]/loan_data_numerics[:,6],(10000,1))))"
   ]
  },
  {
   "cell_type": "code",
   "execution_count": 121,
   "id": "9a56e3ee",
   "metadata": {},
   "outputs": [
    {
     "data": {
      "text/plain": [
       "(10000, 11)"
      ]
     },
     "execution_count": 121,
     "metadata": {},
     "output_type": "execute_result"
    }
   ],
   "source": [
    "loan_data_numerics.shape"
   ]
  },
  {
   "cell_type": "markdown",
   "id": "4cc904e3",
   "metadata": {},
   "source": [
    "Header Additional"
   ]
  },
  {
   "cell_type": "code",
   "execution_count": 122,
   "id": "0cac6bb2",
   "metadata": {},
   "outputs": [],
   "source": [
    "header_add = np.array([column_name + '_Eur' for column_name in header_numerics[column_dollars]])"
   ]
  },
  {
   "cell_type": "code",
   "execution_count": 123,
   "id": "ad80ab6b",
   "metadata": {},
   "outputs": [
    {
     "data": {
      "text/plain": [
       "array(['loan_amnt_Eur', 'funded_amnt_Eur', 'installment_Eur', 'total_pymnt_Eur'], dtype='<U15')"
      ]
     },
     "execution_count": 123,
     "metadata": {},
     "output_type": "execute_result"
    }
   ],
   "source": [
    "header_add"
   ]
  },
  {
   "cell_type": "code",
   "execution_count": 124,
   "id": "bba6c9ca",
   "metadata": {},
   "outputs": [
    {
     "data": {
      "text/plain": [
       "array(['id', 'loan_amnt', 'funded_amnt', 'int_rate', 'installment', 'total_pymnt', 'exchange_rate',\n",
       "       'loan_amnt_Eur', 'funded_amnt_Eur', 'installment_Eur', 'total_pymnt_Eur'], dtype='<U19')"
      ]
     },
     "execution_count": 124,
     "metadata": {},
     "output_type": "execute_result"
    }
   ],
   "source": [
    "header_numerics = np.concatenate((header_numerics,header_add))\n",
    "header_numerics"
   ]
  },
  {
   "cell_type": "code",
   "execution_count": 125,
   "id": "0e26d26f",
   "metadata": {},
   "outputs": [],
   "source": [
    "column_index_order = [0,1,7,2,8,3,4,9,5,10,6]"
   ]
  },
  {
   "cell_type": "code",
   "execution_count": 126,
   "id": "8a274593",
   "metadata": {},
   "outputs": [
    {
     "data": {
      "text/plain": [
       "array(['id', 'loan_amnt', 'loan_amnt_Eur', 'funded_amnt', 'funded_amnt_Eur', 'int_rate',\n",
       "       'installment', 'installment_Eur', 'total_pymnt', 'total_pymnt_Eur', 'exchange_rate'],\n",
       "      dtype='<U19')"
      ]
     },
     "execution_count": 126,
     "metadata": {},
     "output_type": "execute_result"
    }
   ],
   "source": [
    "header_numerics = header_numerics[column_index_order]\n",
    "header_numerics"
   ]
  },
  {
   "cell_type": "code",
   "execution_count": 127,
   "id": "76fd75cb",
   "metadata": {},
   "outputs": [],
   "source": [
    "loan_data_numerics=loan_data_numerics[:,column_index_order]"
   ]
  },
  {
   "cell_type": "code",
   "execution_count": 128,
   "id": "dbed7c1c",
   "metadata": {},
   "outputs": [
    {
     "data": {
      "text/plain": [
       "(10000, 11)"
      ]
     },
     "execution_count": 128,
     "metadata": {},
     "output_type": "execute_result"
    }
   ],
   "source": [
    "loan_data_numerics.shape"
   ]
  },
  {
   "cell_type": "markdown",
   "id": "e3b49a77",
   "metadata": {},
   "source": [
    "Interest Rate"
   ]
  },
  {
   "cell_type": "code",
   "execution_count": 129,
   "id": "3862f6dd",
   "metadata": {},
   "outputs": [],
   "source": [
    "loan_data_numerics[:,5]=loan_data_numerics[:,5]/100"
   ]
  },
  {
   "cell_type": "code",
   "execution_count": 130,
   "id": "0f6ba95e",
   "metadata": {},
   "outputs": [
    {
     "data": {
      "text/plain": [
       "array([0.13, 0.06, 0.06, ..., 0.06, 0.17, 0.06])"
      ]
     },
     "execution_count": 130,
     "metadata": {},
     "output_type": "execute_result"
    }
   ],
   "source": [
    "loan_data_numerics[:,5]"
   ]
  },
  {
   "cell_type": "markdown",
   "id": "0624133d",
   "metadata": {},
   "source": [
    "CheckPoint 2: numeric"
   ]
  },
  {
   "cell_type": "code",
   "execution_count": 131,
   "id": "477a9325",
   "metadata": {},
   "outputs": [],
   "source": [
    "Checkpoint_numerics = checkpoint(\"checkpoint_numerics\", header_numerics, loan_data_numerics)"
   ]
  },
  {
   "cell_type": "code",
   "execution_count": 132,
   "id": "6be4a33d",
   "metadata": {},
   "outputs": [
    {
     "data": {
      "text/plain": [
       "array(['id', 'loan_amnt', 'loan_amnt_Eur', 'funded_amnt', 'funded_amnt_Eur', 'int_rate',\n",
       "       'installment', 'installment_Eur', 'total_pymnt', 'total_pymnt_Eur', 'exchange_rate'],\n",
       "      dtype='<U19')"
      ]
     },
     "execution_count": 132,
     "metadata": {},
     "output_type": "execute_result"
    }
   ],
   "source": [
    "Checkpoint_numerics['header']"
   ]
  },
  {
   "cell_type": "markdown",
   "id": "89a461ff",
   "metadata": {},
   "source": [
    "Creating Complete Dataset"
   ]
  },
  {
   "cell_type": "code",
   "execution_count": 133,
   "id": "0b8e847b",
   "metadata": {},
   "outputs": [
    {
     "data": {
      "text/plain": [
       "(11,)"
      ]
     },
     "execution_count": 133,
     "metadata": {},
     "output_type": "execute_result"
    }
   ],
   "source": [
    "Checkpoint_numerics['header'].shape"
   ]
  },
  {
   "cell_type": "code",
   "execution_count": 134,
   "id": "ab35edb8",
   "metadata": {},
   "outputs": [
    {
     "data": {
      "text/plain": [
       "(6,)"
      ]
     },
     "execution_count": 134,
     "metadata": {},
     "output_type": "execute_result"
    }
   ],
   "source": [
    "Checkpoint_strings['header'].shape"
   ]
  },
  {
   "cell_type": "code",
   "execution_count": 135,
   "id": "17b0c1fe",
   "metadata": {},
   "outputs": [
    {
     "data": {
      "text/plain": [
       "(10000, 11)"
      ]
     },
     "execution_count": 135,
     "metadata": {},
     "output_type": "execute_result"
    }
   ],
   "source": [
    "Checkpoint_numerics['data'].shape"
   ]
  },
  {
   "cell_type": "code",
   "execution_count": 136,
   "id": "c06ecffc",
   "metadata": {},
   "outputs": [
    {
     "data": {
      "text/plain": [
       "(10000, 6)"
      ]
     },
     "execution_count": 136,
     "metadata": {},
     "output_type": "execute_result"
    }
   ],
   "source": [
    "Checkpoint_strings['data'].shape"
   ]
  },
  {
   "cell_type": "code",
   "execution_count": 137,
   "id": "71f58138",
   "metadata": {},
   "outputs": [],
   "source": [
    "loan_data = np.hstack((Checkpoint_numerics['data'],Checkpoint_strings['data']))"
   ]
  },
  {
   "cell_type": "code",
   "execution_count": 138,
   "id": "7062ac02",
   "metadata": {},
   "outputs": [
    {
     "data": {
      "text/plain": [
       "(10000, 17)"
      ]
     },
     "execution_count": 138,
     "metadata": {},
     "output_type": "execute_result"
    }
   ],
   "source": [
    "loan_data.shape"
   ]
  },
  {
   "cell_type": "code",
   "execution_count": 139,
   "id": "ccbe9e74",
   "metadata": {},
   "outputs": [
    {
     "data": {
      "text/plain": [
       "array(['id', 'loan_amnt', 'loan_amnt_Eur', 'funded_amnt', 'funded_amnt_Eur', 'int_rate',\n",
       "       'installment', 'installment_Eur', 'total_pymnt', 'total_pymnt_Eur', 'exchange_rate',\n",
       "       'issue_date', 'loan_status', 'term_months', 'sub_grade', 'verification_status',\n",
       "       'addr_state'], dtype='<U19')"
      ]
     },
     "execution_count": 139,
     "metadata": {},
     "output_type": "execute_result"
    }
   ],
   "source": [
    "loan_header = np.concatenate((Checkpoint_numerics['header'],Checkpoint_strings['header']))\n",
    "loan_header"
   ]
  },
  {
   "cell_type": "code",
   "execution_count": 140,
   "id": "a60ab309",
   "metadata": {},
   "outputs": [
    {
     "data": {
      "text/plain": [
       "(17,)"
      ]
     },
     "execution_count": 140,
     "metadata": {},
     "output_type": "execute_result"
    }
   ],
   "source": [
    "loan_header.shape"
   ]
  },
  {
   "cell_type": "markdown",
   "id": "e6992211",
   "metadata": {},
   "source": [
    "Rearranging"
   ]
  },
  {
   "cell_type": "code",
   "execution_count": 141,
   "id": "9e9b3297",
   "metadata": {},
   "outputs": [
    {
     "data": {
      "text/plain": [
       "array([  373332.,   575239.,   707689., ..., 68614880., 68615915., 68616519.])"
      ]
     },
     "execution_count": 141,
     "metadata": {},
     "output_type": "execute_result"
    }
   ],
   "source": [
    "np.sort(loan_data[:,0])"
   ]
  },
  {
   "cell_type": "code",
   "execution_count": 142,
   "id": "2bdfeff1",
   "metadata": {},
   "outputs": [
    {
     "data": {
      "text/plain": [
       "array([  373332.,   575239.,   707689., ..., 68614880., 68615915., 68616519.])"
      ]
     },
     "execution_count": 142,
     "metadata": {},
     "output_type": "execute_result"
    }
   ],
   "source": [
    "np.sort(loan_data[:,0])"
   ]
  },
  {
   "cell_type": "code",
   "execution_count": 143,
   "id": "a4a3d2ec",
   "metadata": {},
   "outputs": [],
   "source": [
    "loan_data = loan_data[np.argsort(loan_data[:,0])]"
   ]
  },
  {
   "cell_type": "code",
   "execution_count": 144,
   "id": "ee7ec15d",
   "metadata": {},
   "outputs": [
    {
     "data": {
      "text/plain": [
       "array([[  373332.  ,     9950.  ,     9038.08, ...,       21.  ,        0.  ,        1.  ],\n",
       "       [  575239.  ,    12000.  ,    10900.2 , ...,       36.  ,        1.  ,        2.  ],\n",
       "       [  707689.  ,    10000.  ,     8924.3 , ...,       13.  ,        1.  ,        0.  ],\n",
       "       ...,\n",
       "       [68614880.  ,     5600.  ,     5121.65, ...,        8.  ,        1.  ,        1.  ],\n",
       "       [68615915.  ,     4000.  ,     3658.32, ...,       10.  ,        1.  ,        2.  ],\n",
       "       [68616519.  ,    21600.  ,    19754.93, ...,        3.  ,        0.  ,        2.  ]])"
      ]
     },
     "execution_count": 144,
     "metadata": {},
     "output_type": "execute_result"
    }
   ],
   "source": [
    "loan_data"
   ]
  },
  {
   "cell_type": "markdown",
   "id": "6d51a9c1",
   "metadata": {},
   "source": [
    "Combining All Data"
   ]
  },
  {
   "cell_type": "code",
   "execution_count": 145,
   "id": "2edeb7f6",
   "metadata": {},
   "outputs": [],
   "source": [
    "loan_data_preprocessed = np.vstack((np.reshape(loan_header,(1,17)),loan_data))"
   ]
  },
  {
   "cell_type": "code",
   "execution_count": 146,
   "id": "2f593d68",
   "metadata": {},
   "outputs": [
    {
     "data": {
      "text/plain": [
       "array([['id', 'loan_amnt', 'loan_amnt_Eur', ..., 'sub_grade', 'verification_status', 'addr_state'],\n",
       "       ['373332.0', '9950.0', '9038.082814338286', ..., '21.0', '0.0', '1.0'],\n",
       "       ['575239.0', '12000.0', '10900.20037910145', ..., '36.0', '1.0', '2.0'],\n",
       "       ...,\n",
       "       ['68614880.0', '5600.0', '5121.647851612413', ..., '8.0', '1.0', '1.0'],\n",
       "       ['68615915.0', '4000.0', '3658.319894008867', ..., '10.0', '1.0', '2.0'],\n",
       "       ['68616519.0', '21600.0', '19754.927427647883', ..., '3.0', '0.0', '2.0']], dtype='<U32')"
      ]
     },
     "execution_count": 146,
     "metadata": {},
     "output_type": "execute_result"
    }
   ],
   "source": [
    "loan_data_preprocessed"
   ]
  },
  {
   "cell_type": "markdown",
   "id": "c42b6fbe",
   "metadata": {},
   "source": [
    "Saving Dataset"
   ]
  },
  {
   "cell_type": "markdown",
   "id": "9cc778ca",
   "metadata": {},
   "source": [
    "np.savetxt('E:\\\\DataScience\\\\Phyton\\\\Numpy\\\\loan_data_preprocessed.csv',\n",
    "           loan_data_preprocessed,\n",
    "           fmt = '%s',\n",
    "           delimiter =',')"
   ]
  },
  {
   "cell_type": "code",
   "execution_count": 148,
   "id": "6335b002",
   "metadata": {},
   "outputs": [
    {
     "data": {
      "text/plain": [
       "array(['id', 'loan_amnt', 'loan_amnt_Eur', 'funded_amnt', 'funded_amnt_Eur', 'int_rate',\n",
       "       'installment', 'installment_Eur', 'total_pymnt', 'total_pymnt_Eur', 'exchange_rate',\n",
       "       'issue_date', 'loan_status', 'term_months', 'sub_grade', 'verification_status',\n",
       "       'addr_state'], dtype='<U32')"
      ]
     },
     "execution_count": 148,
     "metadata": {},
     "output_type": "execute_result"
    }
   ],
   "source": [
    "loan_data_preprocessed[0]"
   ]
  },
  {
   "cell_type": "code",
   "execution_count": 150,
   "id": "224dc278",
   "metadata": {},
   "outputs": [
    {
     "data": {
      "text/plain": [
       "(10001, 17)"
      ]
     },
     "execution_count": 150,
     "metadata": {},
     "output_type": "execute_result"
    }
   ],
   "source": [
    "loan_data_preprocessed.shape"
   ]
  },
  {
   "cell_type": "markdown",
   "id": "c842e086",
   "metadata": {},
   "source": [
    "***Data Analysis***"
   ]
  },
  {
   "cell_type": "code",
   "execution_count": 169,
   "id": "2f47ce21",
   "metadata": {},
   "outputs": [],
   "source": [
    "import pandas as pd"
   ]
  },
  {
   "cell_type": "code",
   "execution_count": 171,
   "id": "479cfa0f",
   "metadata": {},
   "outputs": [
    {
     "data": {
      "text/html": [
       "<div>\n",
       "<style scoped>\n",
       "    .dataframe tbody tr th:only-of-type {\n",
       "        vertical-align: middle;\n",
       "    }\n",
       "\n",
       "    .dataframe tbody tr th {\n",
       "        vertical-align: top;\n",
       "    }\n",
       "\n",
       "    .dataframe thead th {\n",
       "        text-align: right;\n",
       "    }\n",
       "</style>\n",
       "<table border=\"1\" class=\"dataframe\">\n",
       "  <thead>\n",
       "    <tr style=\"text-align: right;\">\n",
       "      <th></th>\n",
       "      <th>id</th>\n",
       "      <th>loan_amnt</th>\n",
       "      <th>loan_amnt_Eur</th>\n",
       "      <th>funded_amnt</th>\n",
       "      <th>funded_amnt_Eur</th>\n",
       "      <th>int_rate</th>\n",
       "      <th>installment</th>\n",
       "      <th>installment_Eur</th>\n",
       "      <th>total_pymnt</th>\n",
       "      <th>total_pymnt_Eur</th>\n",
       "      <th>exchange_rate</th>\n",
       "      <th>issue_date</th>\n",
       "      <th>loan_status</th>\n",
       "      <th>term_months</th>\n",
       "      <th>sub_grade</th>\n",
       "      <th>verification_status</th>\n",
       "      <th>addr_state</th>\n",
       "    </tr>\n",
       "  </thead>\n",
       "  <tbody>\n",
       "    <tr>\n",
       "      <th>0</th>\n",
       "      <td>373332.0</td>\n",
       "      <td>9950.0</td>\n",
       "      <td>9038.082814</td>\n",
       "      <td>1000.0</td>\n",
       "      <td>908.350032</td>\n",
       "      <td>0.1825</td>\n",
       "      <td>360.97</td>\n",
       "      <td>327.887111</td>\n",
       "      <td>1072.82</td>\n",
       "      <td>974.496081</td>\n",
       "      <td>1.100897</td>\n",
       "      <td>10.0</td>\n",
       "      <td>1.0</td>\n",
       "      <td>36.0</td>\n",
       "      <td>21.0</td>\n",
       "      <td>0.0</td>\n",
       "      <td>1.0</td>\n",
       "    </tr>\n",
       "    <tr>\n",
       "      <th>1</th>\n",
       "      <td>575239.0</td>\n",
       "      <td>12000.0</td>\n",
       "      <td>10900.200379</td>\n",
       "      <td>12000.0</td>\n",
       "      <td>10900.200379</td>\n",
       "      <td>0.2099</td>\n",
       "      <td>324.58</td>\n",
       "      <td>294.832253</td>\n",
       "      <td>959.75</td>\n",
       "      <td>871.788943</td>\n",
       "      <td>1.100897</td>\n",
       "      <td>10.0</td>\n",
       "      <td>1.0</td>\n",
       "      <td>60.0</td>\n",
       "      <td>36.0</td>\n",
       "      <td>1.0</td>\n",
       "      <td>2.0</td>\n",
       "    </tr>\n",
       "    <tr>\n",
       "      <th>2</th>\n",
       "      <td>707689.0</td>\n",
       "      <td>10000.0</td>\n",
       "      <td>8924.299805</td>\n",
       "      <td>10000.0</td>\n",
       "      <td>8924.299805</td>\n",
       "      <td>0.1366</td>\n",
       "      <td>340.13</td>\n",
       "      <td>303.542209</td>\n",
       "      <td>3726.25</td>\n",
       "      <td>3325.417215</td>\n",
       "      <td>1.120536</td>\n",
       "      <td>2.0</td>\n",
       "      <td>1.0</td>\n",
       "      <td>36.0</td>\n",
       "      <td>13.0</td>\n",
       "      <td>1.0</td>\n",
       "      <td>0.0</td>\n",
       "    </tr>\n",
       "    <tr>\n",
       "      <th>3</th>\n",
       "      <td>709828.0</td>\n",
       "      <td>27200.0</td>\n",
       "      <td>24707.120859</td>\n",
       "      <td>27200.0</td>\n",
       "      <td>24707.120859</td>\n",
       "      <td>0.0600</td>\n",
       "      <td>553.87</td>\n",
       "      <td>503.107832</td>\n",
       "      <td>0.00</td>\n",
       "      <td>0.000000</td>\n",
       "      <td>1.100897</td>\n",
       "      <td>10.0</td>\n",
       "      <td>1.0</td>\n",
       "      <td>60.0</td>\n",
       "      <td>6.0</td>\n",
       "      <td>0.0</td>\n",
       "      <td>4.0</td>\n",
       "    </tr>\n",
       "    <tr>\n",
       "      <th>4</th>\n",
       "      <td>849994.0</td>\n",
       "      <td>11400.0</td>\n",
       "      <td>10526.076489</td>\n",
       "      <td>11400.0</td>\n",
       "      <td>10526.076489</td>\n",
       "      <td>0.0600</td>\n",
       "      <td>376.09</td>\n",
       "      <td>347.258957</td>\n",
       "      <td>3753.60</td>\n",
       "      <td>3465.849185</td>\n",
       "      <td>1.083025</td>\n",
       "      <td>3.0</td>\n",
       "      <td>0.0</td>\n",
       "      <td>36.0</td>\n",
       "      <td>10.0</td>\n",
       "      <td>0.0</td>\n",
       "      <td>1.0</td>\n",
       "    </tr>\n",
       "  </tbody>\n",
       "</table>\n",
       "</div>"
      ],
      "text/plain": [
       "         id  loan_amnt  loan_amnt_Eur  funded_amnt  funded_amnt_Eur  int_rate  \\\n",
       "0  373332.0     9950.0    9038.082814       1000.0       908.350032    0.1825   \n",
       "1  575239.0    12000.0   10900.200379      12000.0     10900.200379    0.2099   \n",
       "2  707689.0    10000.0    8924.299805      10000.0      8924.299805    0.1366   \n",
       "3  709828.0    27200.0   24707.120859      27200.0     24707.120859    0.0600   \n",
       "4  849994.0    11400.0   10526.076489      11400.0     10526.076489    0.0600   \n",
       "\n",
       "   installment  installment_Eur  total_pymnt  total_pymnt_Eur  exchange_rate  \\\n",
       "0       360.97       327.887111      1072.82       974.496081       1.100897   \n",
       "1       324.58       294.832253       959.75       871.788943       1.100897   \n",
       "2       340.13       303.542209      3726.25      3325.417215       1.120536   \n",
       "3       553.87       503.107832         0.00         0.000000       1.100897   \n",
       "4       376.09       347.258957      3753.60      3465.849185       1.083025   \n",
       "\n",
       "   issue_date  loan_status  term_months  sub_grade  verification_status  \\\n",
       "0        10.0          1.0         36.0       21.0                  0.0   \n",
       "1        10.0          1.0         60.0       36.0                  1.0   \n",
       "2         2.0          1.0         36.0       13.0                  1.0   \n",
       "3        10.0          1.0         60.0        6.0                  0.0   \n",
       "4         3.0          0.0         36.0       10.0                  0.0   \n",
       "\n",
       "   addr_state  \n",
       "0         1.0  \n",
       "1         2.0  \n",
       "2         0.0  \n",
       "3         4.0  \n",
       "4         1.0  "
      ]
     },
     "execution_count": 171,
     "metadata": {},
     "output_type": "execute_result"
    }
   ],
   "source": [
    "loan_1 =pd.read_csv('E:\\\\DataScience\\\\Phyton\\\\Numpy\\\\loan_data_preprocessed.csv')\n",
    "loan_1.head(5)"
   ]
  },
  {
   "cell_type": "code",
   "execution_count": 180,
   "id": "4bf05bb4",
   "metadata": {},
   "outputs": [
    {
     "data": {
      "text/plain": [
       "145597900.0"
      ]
     },
     "execution_count": 180,
     "metadata": {},
     "output_type": "execute_result"
    }
   ],
   "source": [
    "loan_1['loan_amnt'].sum()"
   ]
  },
  {
   "cell_type": "code",
   "execution_count": 182,
   "id": "605f2c9c",
   "metadata": {},
   "outputs": [
    {
     "data": {
      "text/plain": [
       "14559.79"
      ]
     },
     "execution_count": 182,
     "metadata": {},
     "output_type": "execute_result"
    }
   ],
   "source": [
    "loan_1.iloc[:,1].mean()"
   ]
  },
  {
   "cell_type": "code",
   "execution_count": 183,
   "id": "28038485",
   "metadata": {},
   "outputs": [
    {
     "data": {
      "text/plain": [
       "1000.0"
      ]
     },
     "execution_count": 183,
     "metadata": {},
     "output_type": "execute_result"
    }
   ],
   "source": [
    "loan_1.iloc[:,1].min()"
   ]
  },
  {
   "cell_type": "code",
   "execution_count": 185,
   "id": "5ec53329",
   "metadata": {},
   "outputs": [
    {
     "data": {
      "text/plain": [
       "35000.0"
      ]
     },
     "execution_count": 185,
     "metadata": {},
     "output_type": "execute_result"
    }
   ],
   "source": [
    "loan_1.iloc[:,1].max()"
   ]
  },
  {
   "cell_type": "code",
   "execution_count": 189,
   "id": "4132fb65",
   "metadata": {},
   "outputs": [
    {
     "data": {
      "text/plain": [
       "issue_date\n",
       "0.0      7553700.0\n",
       "1.0     11417500.0\n",
       "2.0      7911775.0\n",
       "3.0      8048875.0\n",
       "4.0     10796100.0\n",
       "5.0     11031325.0\n",
       "6.0      9576775.0\n",
       "7.0     15273100.0\n",
       "8.0     12127150.0\n",
       "9.0      9738900.0\n",
       "10.0    15954675.0\n",
       "11.0    12223450.0\n",
       "12.0    13944575.0\n",
       "Name: loan_amnt, dtype: float64"
      ]
     },
     "execution_count": 189,
     "metadata": {},
     "output_type": "execute_result"
    }
   ],
   "source": [
    "loan_1.groupby(['issue_date']).sum().iloc[:,1]"
   ]
  },
  {
   "cell_type": "code",
   "execution_count": 191,
   "id": "c5b4febf",
   "metadata": {},
   "outputs": [
    {
     "data": {
      "text/html": [
       "<div>\n",
       "<style scoped>\n",
       "    .dataframe tbody tr th:only-of-type {\n",
       "        vertical-align: middle;\n",
       "    }\n",
       "\n",
       "    .dataframe tbody tr th {\n",
       "        vertical-align: top;\n",
       "    }\n",
       "\n",
       "    .dataframe thead th {\n",
       "        text-align: right;\n",
       "    }\n",
       "</style>\n",
       "<table border=\"1\" class=\"dataframe\">\n",
       "  <thead>\n",
       "    <tr style=\"text-align: right;\">\n",
       "      <th></th>\n",
       "      <th>id</th>\n",
       "      <th>loan_amnt</th>\n",
       "      <th>loan_amnt_Eur</th>\n",
       "      <th>funded_amnt</th>\n",
       "      <th>funded_amnt_Eur</th>\n",
       "      <th>int_rate</th>\n",
       "      <th>installment</th>\n",
       "      <th>installment_Eur</th>\n",
       "      <th>total_pymnt</th>\n",
       "      <th>total_pymnt_Eur</th>\n",
       "      <th>exchange_rate</th>\n",
       "      <th>issue_date</th>\n",
       "      <th>loan_status</th>\n",
       "      <th>term_months</th>\n",
       "      <th>verification_status</th>\n",
       "      <th>addr_state</th>\n",
       "    </tr>\n",
       "    <tr>\n",
       "      <th>sub_grade</th>\n",
       "      <th></th>\n",
       "      <th></th>\n",
       "      <th></th>\n",
       "      <th></th>\n",
       "      <th></th>\n",
       "      <th></th>\n",
       "      <th></th>\n",
       "      <th></th>\n",
       "      <th></th>\n",
       "      <th></th>\n",
       "      <th></th>\n",
       "      <th></th>\n",
       "      <th></th>\n",
       "      <th></th>\n",
       "      <th></th>\n",
       "      <th></th>\n",
       "    </tr>\n",
       "  </thead>\n",
       "  <tbody>\n",
       "    <tr>\n",
       "      <th>1.0</th>\n",
       "      <td>5.572899e+07</td>\n",
       "      <td>13368.245614</td>\n",
       "      <td>12132.952164</td>\n",
       "      <td>13447.807018</td>\n",
       "      <td>12207.236540</td>\n",
       "      <td>0.060000</td>\n",
       "      <td>402.557298</td>\n",
       "      <td>365.211377</td>\n",
       "      <td>2436.230982</td>\n",
       "      <td>2198.063050</td>\n",
       "      <td>1.102580</td>\n",
       "      <td>7.017544</td>\n",
       "      <td>0.940351</td>\n",
       "      <td>37.347368</td>\n",
       "      <td>0.385965</td>\n",
       "      <td>2.171930</td>\n",
       "    </tr>\n",
       "    <tr>\n",
       "      <th>2.0</th>\n",
       "      <td>5.402602e+07</td>\n",
       "      <td>14246.043165</td>\n",
       "      <td>12886.633395</td>\n",
       "      <td>14413.129496</td>\n",
       "      <td>13039.861419</td>\n",
       "      <td>0.060000</td>\n",
       "      <td>428.563777</td>\n",
       "      <td>388.005872</td>\n",
       "      <td>2889.523993</td>\n",
       "      <td>2603.158442</td>\n",
       "      <td>1.104827</td>\n",
       "      <td>6.726619</td>\n",
       "      <td>0.946043</td>\n",
       "      <td>37.208633</td>\n",
       "      <td>0.496403</td>\n",
       "      <td>2.248201</td>\n",
       "    </tr>\n",
       "    <tr>\n",
       "      <th>3.0</th>\n",
       "      <td>5.368352e+07</td>\n",
       "      <td>13105.125523</td>\n",
       "      <td>11873.750323</td>\n",
       "      <td>13130.020921</td>\n",
       "      <td>11910.128417</td>\n",
       "      <td>0.060000</td>\n",
       "      <td>400.169582</td>\n",
       "      <td>362.602203</td>\n",
       "      <td>2638.699456</td>\n",
       "      <td>2379.898341</td>\n",
       "      <td>1.103758</td>\n",
       "      <td>6.569038</td>\n",
       "      <td>0.949791</td>\n",
       "      <td>37.707113</td>\n",
       "      <td>0.510460</td>\n",
       "      <td>2.292887</td>\n",
       "    </tr>\n",
       "    <tr>\n",
       "      <th>4.0</th>\n",
       "      <td>5.278962e+07</td>\n",
       "      <td>14360.835913</td>\n",
       "      <td>13018.540620</td>\n",
       "      <td>14888.080495</td>\n",
       "      <td>13497.076139</td>\n",
       "      <td>0.060000</td>\n",
       "      <td>449.811362</td>\n",
       "      <td>407.856126</td>\n",
       "      <td>3647.109381</td>\n",
       "      <td>3289.553014</td>\n",
       "      <td>1.104122</td>\n",
       "      <td>6.148607</td>\n",
       "      <td>0.944272</td>\n",
       "      <td>38.452012</td>\n",
       "      <td>0.622291</td>\n",
       "      <td>2.188854</td>\n",
       "    </tr>\n",
       "    <tr>\n",
       "      <th>5.0</th>\n",
       "      <td>5.334505e+07</td>\n",
       "      <td>14180.627490</td>\n",
       "      <td>12844.065173</td>\n",
       "      <td>14308.715139</td>\n",
       "      <td>12954.750587</td>\n",
       "      <td>0.060000</td>\n",
       "      <td>429.858546</td>\n",
       "      <td>389.300050</td>\n",
       "      <td>3056.786972</td>\n",
       "      <td>2758.370567</td>\n",
       "      <td>1.104536</td>\n",
       "      <td>6.322709</td>\n",
       "      <td>0.926295</td>\n",
       "      <td>39.633466</td>\n",
       "      <td>0.603586</td>\n",
       "      <td>2.247012</td>\n",
       "    </tr>\n",
       "    <tr>\n",
       "      <th>6.0</th>\n",
       "      <td>5.479998e+07</td>\n",
       "      <td>13705.943026</td>\n",
       "      <td>12403.324447</td>\n",
       "      <td>13786.787819</td>\n",
       "      <td>12475.203918</td>\n",
       "      <td>0.060000</td>\n",
       "      <td>387.780314</td>\n",
       "      <td>350.919148</td>\n",
       "      <td>2498.774892</td>\n",
       "      <td>2250.399128</td>\n",
       "      <td>1.104702</td>\n",
       "      <td>6.870334</td>\n",
       "      <td>0.937132</td>\n",
       "      <td>42.365422</td>\n",
       "      <td>0.559921</td>\n",
       "      <td>2.113949</td>\n",
       "    </tr>\n",
       "    <tr>\n",
       "      <th>7.0</th>\n",
       "      <td>5.434404e+07</td>\n",
       "      <td>13392.988395</td>\n",
       "      <td>12123.830460</td>\n",
       "      <td>13630.560928</td>\n",
       "      <td>12340.214452</td>\n",
       "      <td>0.060000</td>\n",
       "      <td>391.625919</td>\n",
       "      <td>354.533830</td>\n",
       "      <td>2660.452785</td>\n",
       "      <td>2398.577984</td>\n",
       "      <td>1.105044</td>\n",
       "      <td>6.698259</td>\n",
       "      <td>0.938104</td>\n",
       "      <td>42.081238</td>\n",
       "      <td>0.628627</td>\n",
       "      <td>2.255319</td>\n",
       "    </tr>\n",
       "    <tr>\n",
       "      <th>8.0</th>\n",
       "      <td>5.495569e+07</td>\n",
       "      <td>14165.660377</td>\n",
       "      <td>12829.416168</td>\n",
       "      <td>14400.754717</td>\n",
       "      <td>13046.509881</td>\n",
       "      <td>0.060000</td>\n",
       "      <td>411.007396</td>\n",
       "      <td>372.497705</td>\n",
       "      <td>2451.118868</td>\n",
       "      <td>2210.755150</td>\n",
       "      <td>1.102902</td>\n",
       "      <td>6.886792</td>\n",
       "      <td>0.933962</td>\n",
       "      <td>42.249057</td>\n",
       "      <td>0.637736</td>\n",
       "      <td>2.243396</td>\n",
       "    </tr>\n",
       "    <tr>\n",
       "      <th>9.0</th>\n",
       "      <td>5.441008e+07</td>\n",
       "      <td>14002.667269</td>\n",
       "      <td>12684.767649</td>\n",
       "      <td>14080.650995</td>\n",
       "      <td>12754.061084</td>\n",
       "      <td>0.060000</td>\n",
       "      <td>388.798662</td>\n",
       "      <td>352.361192</td>\n",
       "      <td>2450.704213</td>\n",
       "      <td>2209.928973</td>\n",
       "      <td>1.103816</td>\n",
       "      <td>6.837251</td>\n",
       "      <td>0.947559</td>\n",
       "      <td>44.202532</td>\n",
       "      <td>0.685353</td>\n",
       "      <td>2.175407</td>\n",
       "    </tr>\n",
       "    <tr>\n",
       "      <th>10.0</th>\n",
       "      <td>5.459830e+07</td>\n",
       "      <td>12670.344130</td>\n",
       "      <td>11481.438054</td>\n",
       "      <td>12563.562753</td>\n",
       "      <td>11383.043373</td>\n",
       "      <td>0.060000</td>\n",
       "      <td>367.364008</td>\n",
       "      <td>332.874399</td>\n",
       "      <td>2663.667652</td>\n",
       "      <td>2395.856681</td>\n",
       "      <td>1.103146</td>\n",
       "      <td>6.933198</td>\n",
       "      <td>0.953441</td>\n",
       "      <td>41.878543</td>\n",
       "      <td>0.712551</td>\n",
       "      <td>2.230769</td>\n",
       "    </tr>\n",
       "    <tr>\n",
       "      <th>11.0</th>\n",
       "      <td>5.387663e+07</td>\n",
       "      <td>13400.993641</td>\n",
       "      <td>12132.101936</td>\n",
       "      <td>13763.314785</td>\n",
       "      <td>12462.538727</td>\n",
       "      <td>0.060000</td>\n",
       "      <td>385.512798</td>\n",
       "      <td>348.975696</td>\n",
       "      <td>2664.936358</td>\n",
       "      <td>2401.432003</td>\n",
       "      <td>1.105055</td>\n",
       "      <td>6.701113</td>\n",
       "      <td>0.931638</td>\n",
       "      <td>44.737679</td>\n",
       "      <td>0.627981</td>\n",
       "      <td>2.268680</td>\n",
       "    </tr>\n",
       "    <tr>\n",
       "      <th>12.0</th>\n",
       "      <td>5.384824e+07</td>\n",
       "      <td>13836.243386</td>\n",
       "      <td>12502.498365</td>\n",
       "      <td>13509.656085</td>\n",
       "      <td>12216.930907</td>\n",
       "      <td>0.060000</td>\n",
       "      <td>391.473122</td>\n",
       "      <td>354.011458</td>\n",
       "      <td>2715.898395</td>\n",
       "      <td>2445.215293</td>\n",
       "      <td>1.105680</td>\n",
       "      <td>6.356261</td>\n",
       "      <td>0.922399</td>\n",
       "      <td>44.719577</td>\n",
       "      <td>0.657848</td>\n",
       "      <td>2.179894</td>\n",
       "    </tr>\n",
       "    <tr>\n",
       "      <th>13.0</th>\n",
       "      <td>5.457469e+07</td>\n",
       "      <td>14961.177474</td>\n",
       "      <td>13563.665214</td>\n",
       "      <td>14453.754266</td>\n",
       "      <td>13100.169238</td>\n",
       "      <td>0.128621</td>\n",
       "      <td>418.196502</td>\n",
       "      <td>379.148954</td>\n",
       "      <td>2983.443055</td>\n",
       "      <td>2691.213316</td>\n",
       "      <td>1.103328</td>\n",
       "      <td>6.831058</td>\n",
       "      <td>0.926621</td>\n",
       "      <td>45.583618</td>\n",
       "      <td>0.713311</td>\n",
       "      <td>2.203072</td>\n",
       "    </tr>\n",
       "    <tr>\n",
       "      <th>14.0</th>\n",
       "      <td>5.455485e+07</td>\n",
       "      <td>14789.494681</td>\n",
       "      <td>13421.582483</td>\n",
       "      <td>14821.498227</td>\n",
       "      <td>13447.092606</td>\n",
       "      <td>0.134760</td>\n",
       "      <td>410.677695</td>\n",
       "      <td>372.586562</td>\n",
       "      <td>2798.626596</td>\n",
       "      <td>2528.099948</td>\n",
       "      <td>1.102752</td>\n",
       "      <td>6.787234</td>\n",
       "      <td>0.925532</td>\n",
       "      <td>47.446809</td>\n",
       "      <td>0.700355</td>\n",
       "      <td>2.177305</td>\n",
       "    </tr>\n",
       "    <tr>\n",
       "      <th>15.0</th>\n",
       "      <td>5.460645e+07</td>\n",
       "      <td>14345.153664</td>\n",
       "      <td>13005.683226</td>\n",
       "      <td>14177.718676</td>\n",
       "      <td>12847.705386</td>\n",
       "      <td>0.141936</td>\n",
       "      <td>410.293901</td>\n",
       "      <td>371.928274</td>\n",
       "      <td>3054.896761</td>\n",
       "      <td>2753.145677</td>\n",
       "      <td>1.104208</td>\n",
       "      <td>6.754137</td>\n",
       "      <td>0.931442</td>\n",
       "      <td>46.723404</td>\n",
       "      <td>0.744681</td>\n",
       "      <td>2.210402</td>\n",
       "    </tr>\n",
       "    <tr>\n",
       "      <th>16.0</th>\n",
       "      <td>5.283201e+07</td>\n",
       "      <td>14328.452685</td>\n",
       "      <td>12952.249091</td>\n",
       "      <td>14529.028133</td>\n",
       "      <td>13131.673626</td>\n",
       "      <td>0.151421</td>\n",
       "      <td>416.690153</td>\n",
       "      <td>376.730065</td>\n",
       "      <td>3106.618645</td>\n",
       "      <td>2794.519469</td>\n",
       "      <td>1.106834</td>\n",
       "      <td>6.184143</td>\n",
       "      <td>0.913043</td>\n",
       "      <td>47.171355</td>\n",
       "      <td>0.780051</td>\n",
       "      <td>2.148338</td>\n",
       "    </tr>\n",
       "    <tr>\n",
       "      <th>17.0</th>\n",
       "      <td>5.298182e+07</td>\n",
       "      <td>14568.352060</td>\n",
       "      <td>13194.886209</td>\n",
       "      <td>14615.074906</td>\n",
       "      <td>13234.581294</td>\n",
       "      <td>0.159635</td>\n",
       "      <td>431.800037</td>\n",
       "      <td>391.211123</td>\n",
       "      <td>3362.741573</td>\n",
       "      <td>3035.978010</td>\n",
       "      <td>1.105203</td>\n",
       "      <td>6.352060</td>\n",
       "      <td>0.925094</td>\n",
       "      <td>46.966292</td>\n",
       "      <td>0.797753</td>\n",
       "      <td>2.277154</td>\n",
       "    </tr>\n",
       "    <tr>\n",
       "      <th>18.0</th>\n",
       "      <td>5.366536e+07</td>\n",
       "      <td>15230.600000</td>\n",
       "      <td>13783.083544</td>\n",
       "      <td>15237.700000</td>\n",
       "      <td>13791.358653</td>\n",
       "      <td>0.161512</td>\n",
       "      <td>448.024680</td>\n",
       "      <td>405.023402</td>\n",
       "      <td>3575.974600</td>\n",
       "      <td>3229.115403</td>\n",
       "      <td>1.105986</td>\n",
       "      <td>6.576000</td>\n",
       "      <td>0.916000</td>\n",
       "      <td>46.560000</td>\n",
       "      <td>0.768000</td>\n",
       "      <td>2.172000</td>\n",
       "    </tr>\n",
       "    <tr>\n",
       "      <th>19.0</th>\n",
       "      <td>5.407777e+07</td>\n",
       "      <td>15856.862745</td>\n",
       "      <td>14369.347434</td>\n",
       "      <td>15688.431373</td>\n",
       "      <td>14211.032015</td>\n",
       "      <td>0.168568</td>\n",
       "      <td>443.842118</td>\n",
       "      <td>402.423307</td>\n",
       "      <td>2934.174275</td>\n",
       "      <td>2647.767927</td>\n",
       "      <td>1.104045</td>\n",
       "      <td>6.788235</td>\n",
       "      <td>0.925490</td>\n",
       "      <td>50.494118</td>\n",
       "      <td>0.784314</td>\n",
       "      <td>2.192157</td>\n",
       "    </tr>\n",
       "    <tr>\n",
       "      <th>20.0</th>\n",
       "      <td>5.312897e+07</td>\n",
       "      <td>15719.843049</td>\n",
       "      <td>14231.785042</td>\n",
       "      <td>16016.816143</td>\n",
       "      <td>14508.251141</td>\n",
       "      <td>0.173338</td>\n",
       "      <td>463.472018</td>\n",
       "      <td>419.612927</td>\n",
       "      <td>3491.160090</td>\n",
       "      <td>3144.555331</td>\n",
       "      <td>1.104691</td>\n",
       "      <td>6.161435</td>\n",
       "      <td>0.914798</td>\n",
       "      <td>50.636771</td>\n",
       "      <td>0.834081</td>\n",
       "      <td>2.143498</td>\n",
       "    </tr>\n",
       "    <tr>\n",
       "      <th>21.0</th>\n",
       "      <td>5.334357e+07</td>\n",
       "      <td>17645.106383</td>\n",
       "      <td>15995.164871</td>\n",
       "      <td>17965.957447</td>\n",
       "      <td>16287.682072</td>\n",
       "      <td>0.154194</td>\n",
       "      <td>488.281106</td>\n",
       "      <td>442.703465</td>\n",
       "      <td>4052.866468</td>\n",
       "      <td>3658.275020</td>\n",
       "      <td>1.104191</td>\n",
       "      <td>6.348936</td>\n",
       "      <td>0.910638</td>\n",
       "      <td>53.565957</td>\n",
       "      <td>0.787234</td>\n",
       "      <td>2.340426</td>\n",
       "    </tr>\n",
       "    <tr>\n",
       "      <th>22.0</th>\n",
       "      <td>5.357449e+07</td>\n",
       "      <td>15899.074074</td>\n",
       "      <td>14396.717936</td>\n",
       "      <td>15847.376543</td>\n",
       "      <td>14352.668625</td>\n",
       "      <td>0.180478</td>\n",
       "      <td>453.154198</td>\n",
       "      <td>410.267728</td>\n",
       "      <td>3028.061543</td>\n",
       "      <td>2724.832925</td>\n",
       "      <td>1.105106</td>\n",
       "      <td>6.370370</td>\n",
       "      <td>0.907407</td>\n",
       "      <td>52.444444</td>\n",
       "      <td>0.827160</td>\n",
       "      <td>2.166667</td>\n",
       "    </tr>\n",
       "    <tr>\n",
       "      <th>23.0</th>\n",
       "      <td>5.440632e+07</td>\n",
       "      <td>16858.771930</td>\n",
       "      <td>15228.910361</td>\n",
       "      <td>17534.356725</td>\n",
       "      <td>15842.684781</td>\n",
       "      <td>0.184737</td>\n",
       "      <td>466.194269</td>\n",
       "      <td>421.091478</td>\n",
       "      <td>3495.415439</td>\n",
       "      <td>3146.797611</td>\n",
       "      <td>1.107272</td>\n",
       "      <td>6.836257</td>\n",
       "      <td>0.918129</td>\n",
       "      <td>53.122807</td>\n",
       "      <td>0.853801</td>\n",
       "      <td>2.134503</td>\n",
       "    </tr>\n",
       "    <tr>\n",
       "      <th>24.0</th>\n",
       "      <td>5.220577e+07</td>\n",
       "      <td>17477.877698</td>\n",
       "      <td>15791.680178</td>\n",
       "      <td>17816.726619</td>\n",
       "      <td>16097.932314</td>\n",
       "      <td>0.198212</td>\n",
       "      <td>492.452014</td>\n",
       "      <td>444.644558</td>\n",
       "      <td>4314.167553</td>\n",
       "      <td>3881.346588</td>\n",
       "      <td>1.107881</td>\n",
       "      <td>6.179856</td>\n",
       "      <td>0.942446</td>\n",
       "      <td>56.374101</td>\n",
       "      <td>0.841727</td>\n",
       "      <td>2.093525</td>\n",
       "    </tr>\n",
       "    <tr>\n",
       "      <th>25.0</th>\n",
       "      <td>5.393959e+07</td>\n",
       "      <td>18619.298246</td>\n",
       "      <td>16887.587135</td>\n",
       "      <td>17528.947368</td>\n",
       "      <td>15915.130843</td>\n",
       "      <td>0.208292</td>\n",
       "      <td>528.591667</td>\n",
       "      <td>479.843863</td>\n",
       "      <td>4017.720965</td>\n",
       "      <td>3626.834493</td>\n",
       "      <td>1.103902</td>\n",
       "      <td>6.842105</td>\n",
       "      <td>0.921053</td>\n",
       "      <td>56.210526</td>\n",
       "      <td>0.850877</td>\n",
       "      <td>2.210526</td>\n",
       "    </tr>\n",
       "    <tr>\n",
       "      <th>26.0</th>\n",
       "      <td>5.215508e+07</td>\n",
       "      <td>19987.234043</td>\n",
       "      <td>18135.874784</td>\n",
       "      <td>19064.893617</td>\n",
       "      <td>17285.259300</td>\n",
       "      <td>0.218839</td>\n",
       "      <td>558.362872</td>\n",
       "      <td>506.811585</td>\n",
       "      <td>4874.857766</td>\n",
       "      <td>4429.348368</td>\n",
       "      <td>1.102559</td>\n",
       "      <td>5.776596</td>\n",
       "      <td>0.872340</td>\n",
       "      <td>56.680851</td>\n",
       "      <td>0.872340</td>\n",
       "      <td>2.021277</td>\n",
       "    </tr>\n",
       "    <tr>\n",
       "      <th>27.0</th>\n",
       "      <td>5.233452e+07</td>\n",
       "      <td>17806.730769</td>\n",
       "      <td>16072.896711</td>\n",
       "      <td>17232.211538</td>\n",
       "      <td>15561.804586</td>\n",
       "      <td>0.227019</td>\n",
       "      <td>490.743077</td>\n",
       "      <td>442.712027</td>\n",
       "      <td>3267.636923</td>\n",
       "      <td>2943.789416</td>\n",
       "      <td>1.108385</td>\n",
       "      <td>6.134615</td>\n",
       "      <td>0.846154</td>\n",
       "      <td>54.923077</td>\n",
       "      <td>0.884615</td>\n",
       "      <td>2.326923</td>\n",
       "    </tr>\n",
       "    <tr>\n",
       "      <th>28.0</th>\n",
       "      <td>5.378061e+07</td>\n",
       "      <td>18661.029412</td>\n",
       "      <td>16864.002598</td>\n",
       "      <td>18786.029412</td>\n",
       "      <td>16948.951962</td>\n",
       "      <td>0.187062</td>\n",
       "      <td>571.840882</td>\n",
       "      <td>516.958042</td>\n",
       "      <td>3945.536765</td>\n",
       "      <td>3551.645088</td>\n",
       "      <td>1.107425</td>\n",
       "      <td>6.323529</td>\n",
       "      <td>0.852941</td>\n",
       "      <td>57.176471</td>\n",
       "      <td>0.852941</td>\n",
       "      <td>2.441176</td>\n",
       "    </tr>\n",
       "    <tr>\n",
       "      <th>29.0</th>\n",
       "      <td>5.360574e+07</td>\n",
       "      <td>19462.209302</td>\n",
       "      <td>17537.715256</td>\n",
       "      <td>18418.023256</td>\n",
       "      <td>16600.711612</td>\n",
       "      <td>0.236651</td>\n",
       "      <td>584.245581</td>\n",
       "      <td>526.248027</td>\n",
       "      <td>6380.290233</td>\n",
       "      <td>5750.312774</td>\n",
       "      <td>1.108489</td>\n",
       "      <td>6.604651</td>\n",
       "      <td>0.860465</td>\n",
       "      <td>57.767442</td>\n",
       "      <td>0.930233</td>\n",
       "      <td>1.860465</td>\n",
       "    </tr>\n",
       "    <tr>\n",
       "      <th>30.0</th>\n",
       "      <td>5.080219e+07</td>\n",
       "      <td>18925.000000</td>\n",
       "      <td>17071.797479</td>\n",
       "      <td>18187.500000</td>\n",
       "      <td>16408.239231</td>\n",
       "      <td>0.256881</td>\n",
       "      <td>533.572500</td>\n",
       "      <td>481.983959</td>\n",
       "      <td>6512.458750</td>\n",
       "      <td>5839.818193</td>\n",
       "      <td>1.107906</td>\n",
       "      <td>5.312500</td>\n",
       "      <td>0.812500</td>\n",
       "      <td>57.000000</td>\n",
       "      <td>0.937500</td>\n",
       "      <td>2.000000</td>\n",
       "    </tr>\n",
       "    <tr>\n",
       "      <th>31.0</th>\n",
       "      <td>5.175289e+07</td>\n",
       "      <td>20730.263158</td>\n",
       "      <td>18788.515623</td>\n",
       "      <td>22446.052632</td>\n",
       "      <td>20311.000482</td>\n",
       "      <td>0.158500</td>\n",
       "      <td>676.760000</td>\n",
       "      <td>612.413427</td>\n",
       "      <td>5315.123158</td>\n",
       "      <td>4805.571920</td>\n",
       "      <td>1.105634</td>\n",
       "      <td>6.105263</td>\n",
       "      <td>0.894737</td>\n",
       "      <td>60.000000</td>\n",
       "      <td>1.000000</td>\n",
       "      <td>2.157895</td>\n",
       "    </tr>\n",
       "    <tr>\n",
       "      <th>32.0</th>\n",
       "      <td>5.302857e+07</td>\n",
       "      <td>16942.500000</td>\n",
       "      <td>15208.980771</td>\n",
       "      <td>15172.500000</td>\n",
       "      <td>13640.937673</td>\n",
       "      <td>0.267360</td>\n",
       "      <td>528.117000</td>\n",
       "      <td>474.344195</td>\n",
       "      <td>3023.649000</td>\n",
       "      <td>2708.335946</td>\n",
       "      <td>1.111374</td>\n",
       "      <td>6.500000</td>\n",
       "      <td>0.800000</td>\n",
       "      <td>55.200000</td>\n",
       "      <td>0.900000</td>\n",
       "      <td>2.000000</td>\n",
       "    </tr>\n",
       "    <tr>\n",
       "      <th>33.0</th>\n",
       "      <td>5.916880e+07</td>\n",
       "      <td>12325.000000</td>\n",
       "      <td>11438.862462</td>\n",
       "      <td>7075.000000</td>\n",
       "      <td>6648.867373</td>\n",
       "      <td>0.272167</td>\n",
       "      <td>384.843333</td>\n",
       "      <td>357.161831</td>\n",
       "      <td>1703.913333</td>\n",
       "      <td>1566.243139</td>\n",
       "      <td>1.082578</td>\n",
       "      <td>9.333333</td>\n",
       "      <td>1.000000</td>\n",
       "      <td>52.000000</td>\n",
       "      <td>1.000000</td>\n",
       "      <td>1.666667</td>\n",
       "    </tr>\n",
       "    <tr>\n",
       "      <th>34.0</th>\n",
       "      <td>5.339136e+07</td>\n",
       "      <td>18253.571429</td>\n",
       "      <td>16526.315645</td>\n",
       "      <td>20446.428571</td>\n",
       "      <td>18518.197500</td>\n",
       "      <td>0.274186</td>\n",
       "      <td>566.650000</td>\n",
       "      <td>512.873888</td>\n",
       "      <td>3636.637143</td>\n",
       "      <td>3271.765180</td>\n",
       "      <td>1.101996</td>\n",
       "      <td>6.714286</td>\n",
       "      <td>0.857143</td>\n",
       "      <td>56.571429</td>\n",
       "      <td>0.714286</td>\n",
       "      <td>2.000000</td>\n",
       "    </tr>\n",
       "    <tr>\n",
       "      <th>35.0</th>\n",
       "      <td>4.542227e+07</td>\n",
       "      <td>19337.500000</td>\n",
       "      <td>17230.149057</td>\n",
       "      <td>19337.500000</td>\n",
       "      <td>17230.149057</td>\n",
       "      <td>0.174950</td>\n",
       "      <td>589.080000</td>\n",
       "      <td>525.009714</td>\n",
       "      <td>5760.905000</td>\n",
       "      <td>5125.432512</td>\n",
       "      <td>1.117241</td>\n",
       "      <td>0.500000</td>\n",
       "      <td>1.000000</td>\n",
       "      <td>60.000000</td>\n",
       "      <td>1.000000</td>\n",
       "      <td>3.000000</td>\n",
       "    </tr>\n",
       "    <tr>\n",
       "      <th>36.0</th>\n",
       "      <td>5.378115e+07</td>\n",
       "      <td>15028.745136</td>\n",
       "      <td>13610.034731</td>\n",
       "      <td>15046.254864</td>\n",
       "      <td>13625.660937</td>\n",
       "      <td>0.103684</td>\n",
       "      <td>439.150370</td>\n",
       "      <td>397.655039</td>\n",
       "      <td>3166.069941</td>\n",
       "      <td>2850.091393</td>\n",
       "      <td>1.104340</td>\n",
       "      <td>6.918288</td>\n",
       "      <td>0.966926</td>\n",
       "      <td>43.330739</td>\n",
       "      <td>0.686770</td>\n",
       "      <td>2.313230</td>\n",
       "    </tr>\n",
       "  </tbody>\n",
       "</table>\n",
       "</div>"
      ],
      "text/plain": [
       "                     id     loan_amnt  loan_amnt_Eur   funded_amnt  \\\n",
       "sub_grade                                                            \n",
       "1.0        5.572899e+07  13368.245614   12132.952164  13447.807018   \n",
       "2.0        5.402602e+07  14246.043165   12886.633395  14413.129496   \n",
       "3.0        5.368352e+07  13105.125523   11873.750323  13130.020921   \n",
       "4.0        5.278962e+07  14360.835913   13018.540620  14888.080495   \n",
       "5.0        5.334505e+07  14180.627490   12844.065173  14308.715139   \n",
       "6.0        5.479998e+07  13705.943026   12403.324447  13786.787819   \n",
       "7.0        5.434404e+07  13392.988395   12123.830460  13630.560928   \n",
       "8.0        5.495569e+07  14165.660377   12829.416168  14400.754717   \n",
       "9.0        5.441008e+07  14002.667269   12684.767649  14080.650995   \n",
       "10.0       5.459830e+07  12670.344130   11481.438054  12563.562753   \n",
       "11.0       5.387663e+07  13400.993641   12132.101936  13763.314785   \n",
       "12.0       5.384824e+07  13836.243386   12502.498365  13509.656085   \n",
       "13.0       5.457469e+07  14961.177474   13563.665214  14453.754266   \n",
       "14.0       5.455485e+07  14789.494681   13421.582483  14821.498227   \n",
       "15.0       5.460645e+07  14345.153664   13005.683226  14177.718676   \n",
       "16.0       5.283201e+07  14328.452685   12952.249091  14529.028133   \n",
       "17.0       5.298182e+07  14568.352060   13194.886209  14615.074906   \n",
       "18.0       5.366536e+07  15230.600000   13783.083544  15237.700000   \n",
       "19.0       5.407777e+07  15856.862745   14369.347434  15688.431373   \n",
       "20.0       5.312897e+07  15719.843049   14231.785042  16016.816143   \n",
       "21.0       5.334357e+07  17645.106383   15995.164871  17965.957447   \n",
       "22.0       5.357449e+07  15899.074074   14396.717936  15847.376543   \n",
       "23.0       5.440632e+07  16858.771930   15228.910361  17534.356725   \n",
       "24.0       5.220577e+07  17477.877698   15791.680178  17816.726619   \n",
       "25.0       5.393959e+07  18619.298246   16887.587135  17528.947368   \n",
       "26.0       5.215508e+07  19987.234043   18135.874784  19064.893617   \n",
       "27.0       5.233452e+07  17806.730769   16072.896711  17232.211538   \n",
       "28.0       5.378061e+07  18661.029412   16864.002598  18786.029412   \n",
       "29.0       5.360574e+07  19462.209302   17537.715256  18418.023256   \n",
       "30.0       5.080219e+07  18925.000000   17071.797479  18187.500000   \n",
       "31.0       5.175289e+07  20730.263158   18788.515623  22446.052632   \n",
       "32.0       5.302857e+07  16942.500000   15208.980771  15172.500000   \n",
       "33.0       5.916880e+07  12325.000000   11438.862462   7075.000000   \n",
       "34.0       5.339136e+07  18253.571429   16526.315645  20446.428571   \n",
       "35.0       4.542227e+07  19337.500000   17230.149057  19337.500000   \n",
       "36.0       5.378115e+07  15028.745136   13610.034731  15046.254864   \n",
       "\n",
       "           funded_amnt_Eur  int_rate  installment  installment_Eur  \\\n",
       "sub_grade                                                            \n",
       "1.0           12207.236540  0.060000   402.557298       365.211377   \n",
       "2.0           13039.861419  0.060000   428.563777       388.005872   \n",
       "3.0           11910.128417  0.060000   400.169582       362.602203   \n",
       "4.0           13497.076139  0.060000   449.811362       407.856126   \n",
       "5.0           12954.750587  0.060000   429.858546       389.300050   \n",
       "6.0           12475.203918  0.060000   387.780314       350.919148   \n",
       "7.0           12340.214452  0.060000   391.625919       354.533830   \n",
       "8.0           13046.509881  0.060000   411.007396       372.497705   \n",
       "9.0           12754.061084  0.060000   388.798662       352.361192   \n",
       "10.0          11383.043373  0.060000   367.364008       332.874399   \n",
       "11.0          12462.538727  0.060000   385.512798       348.975696   \n",
       "12.0          12216.930907  0.060000   391.473122       354.011458   \n",
       "13.0          13100.169238  0.128621   418.196502       379.148954   \n",
       "14.0          13447.092606  0.134760   410.677695       372.586562   \n",
       "15.0          12847.705386  0.141936   410.293901       371.928274   \n",
       "16.0          13131.673626  0.151421   416.690153       376.730065   \n",
       "17.0          13234.581294  0.159635   431.800037       391.211123   \n",
       "18.0          13791.358653  0.161512   448.024680       405.023402   \n",
       "19.0          14211.032015  0.168568   443.842118       402.423307   \n",
       "20.0          14508.251141  0.173338   463.472018       419.612927   \n",
       "21.0          16287.682072  0.154194   488.281106       442.703465   \n",
       "22.0          14352.668625  0.180478   453.154198       410.267728   \n",
       "23.0          15842.684781  0.184737   466.194269       421.091478   \n",
       "24.0          16097.932314  0.198212   492.452014       444.644558   \n",
       "25.0          15915.130843  0.208292   528.591667       479.843863   \n",
       "26.0          17285.259300  0.218839   558.362872       506.811585   \n",
       "27.0          15561.804586  0.227019   490.743077       442.712027   \n",
       "28.0          16948.951962  0.187062   571.840882       516.958042   \n",
       "29.0          16600.711612  0.236651   584.245581       526.248027   \n",
       "30.0          16408.239231  0.256881   533.572500       481.983959   \n",
       "31.0          20311.000482  0.158500   676.760000       612.413427   \n",
       "32.0          13640.937673  0.267360   528.117000       474.344195   \n",
       "33.0           6648.867373  0.272167   384.843333       357.161831   \n",
       "34.0          18518.197500  0.274186   566.650000       512.873888   \n",
       "35.0          17230.149057  0.174950   589.080000       525.009714   \n",
       "36.0          13625.660937  0.103684   439.150370       397.655039   \n",
       "\n",
       "           total_pymnt  total_pymnt_Eur  exchange_rate  issue_date  \\\n",
       "sub_grade                                                            \n",
       "1.0        2436.230982      2198.063050       1.102580    7.017544   \n",
       "2.0        2889.523993      2603.158442       1.104827    6.726619   \n",
       "3.0        2638.699456      2379.898341       1.103758    6.569038   \n",
       "4.0        3647.109381      3289.553014       1.104122    6.148607   \n",
       "5.0        3056.786972      2758.370567       1.104536    6.322709   \n",
       "6.0        2498.774892      2250.399128       1.104702    6.870334   \n",
       "7.0        2660.452785      2398.577984       1.105044    6.698259   \n",
       "8.0        2451.118868      2210.755150       1.102902    6.886792   \n",
       "9.0        2450.704213      2209.928973       1.103816    6.837251   \n",
       "10.0       2663.667652      2395.856681       1.103146    6.933198   \n",
       "11.0       2664.936358      2401.432003       1.105055    6.701113   \n",
       "12.0       2715.898395      2445.215293       1.105680    6.356261   \n",
       "13.0       2983.443055      2691.213316       1.103328    6.831058   \n",
       "14.0       2798.626596      2528.099948       1.102752    6.787234   \n",
       "15.0       3054.896761      2753.145677       1.104208    6.754137   \n",
       "16.0       3106.618645      2794.519469       1.106834    6.184143   \n",
       "17.0       3362.741573      3035.978010       1.105203    6.352060   \n",
       "18.0       3575.974600      3229.115403       1.105986    6.576000   \n",
       "19.0       2934.174275      2647.767927       1.104045    6.788235   \n",
       "20.0       3491.160090      3144.555331       1.104691    6.161435   \n",
       "21.0       4052.866468      3658.275020       1.104191    6.348936   \n",
       "22.0       3028.061543      2724.832925       1.105106    6.370370   \n",
       "23.0       3495.415439      3146.797611       1.107272    6.836257   \n",
       "24.0       4314.167553      3881.346588       1.107881    6.179856   \n",
       "25.0       4017.720965      3626.834493       1.103902    6.842105   \n",
       "26.0       4874.857766      4429.348368       1.102559    5.776596   \n",
       "27.0       3267.636923      2943.789416       1.108385    6.134615   \n",
       "28.0       3945.536765      3551.645088       1.107425    6.323529   \n",
       "29.0       6380.290233      5750.312774       1.108489    6.604651   \n",
       "30.0       6512.458750      5839.818193       1.107906    5.312500   \n",
       "31.0       5315.123158      4805.571920       1.105634    6.105263   \n",
       "32.0       3023.649000      2708.335946       1.111374    6.500000   \n",
       "33.0       1703.913333      1566.243139       1.082578    9.333333   \n",
       "34.0       3636.637143      3271.765180       1.101996    6.714286   \n",
       "35.0       5760.905000      5125.432512       1.117241    0.500000   \n",
       "36.0       3166.069941      2850.091393       1.104340    6.918288   \n",
       "\n",
       "           loan_status  term_months  verification_status  addr_state  \n",
       "sub_grade                                                             \n",
       "1.0           0.940351    37.347368             0.385965    2.171930  \n",
       "2.0           0.946043    37.208633             0.496403    2.248201  \n",
       "3.0           0.949791    37.707113             0.510460    2.292887  \n",
       "4.0           0.944272    38.452012             0.622291    2.188854  \n",
       "5.0           0.926295    39.633466             0.603586    2.247012  \n",
       "6.0           0.937132    42.365422             0.559921    2.113949  \n",
       "7.0           0.938104    42.081238             0.628627    2.255319  \n",
       "8.0           0.933962    42.249057             0.637736    2.243396  \n",
       "9.0           0.947559    44.202532             0.685353    2.175407  \n",
       "10.0          0.953441    41.878543             0.712551    2.230769  \n",
       "11.0          0.931638    44.737679             0.627981    2.268680  \n",
       "12.0          0.922399    44.719577             0.657848    2.179894  \n",
       "13.0          0.926621    45.583618             0.713311    2.203072  \n",
       "14.0          0.925532    47.446809             0.700355    2.177305  \n",
       "15.0          0.931442    46.723404             0.744681    2.210402  \n",
       "16.0          0.913043    47.171355             0.780051    2.148338  \n",
       "17.0          0.925094    46.966292             0.797753    2.277154  \n",
       "18.0          0.916000    46.560000             0.768000    2.172000  \n",
       "19.0          0.925490    50.494118             0.784314    2.192157  \n",
       "20.0          0.914798    50.636771             0.834081    2.143498  \n",
       "21.0          0.910638    53.565957             0.787234    2.340426  \n",
       "22.0          0.907407    52.444444             0.827160    2.166667  \n",
       "23.0          0.918129    53.122807             0.853801    2.134503  \n",
       "24.0          0.942446    56.374101             0.841727    2.093525  \n",
       "25.0          0.921053    56.210526             0.850877    2.210526  \n",
       "26.0          0.872340    56.680851             0.872340    2.021277  \n",
       "27.0          0.846154    54.923077             0.884615    2.326923  \n",
       "28.0          0.852941    57.176471             0.852941    2.441176  \n",
       "29.0          0.860465    57.767442             0.930233    1.860465  \n",
       "30.0          0.812500    57.000000             0.937500    2.000000  \n",
       "31.0          0.894737    60.000000             1.000000    2.157895  \n",
       "32.0          0.800000    55.200000             0.900000    2.000000  \n",
       "33.0          1.000000    52.000000             1.000000    1.666667  \n",
       "34.0          0.857143    56.571429             0.714286    2.000000  \n",
       "35.0          1.000000    60.000000             1.000000    3.000000  \n",
       "36.0          0.966926    43.330739             0.686770    2.313230  "
      ]
     },
     "execution_count": 191,
     "metadata": {},
     "output_type": "execute_result"
    }
   ],
   "source": [
    "loan_1.groupby(['sub_grade']).mean()"
   ]
  },
  {
   "cell_type": "code",
   "execution_count": 197,
   "id": "afebb71d",
   "metadata": {},
   "outputs": [
    {
     "data": {
      "text/html": [
       "<div>\n",
       "<style scoped>\n",
       "    .dataframe tbody tr th:only-of-type {\n",
       "        vertical-align: middle;\n",
       "    }\n",
       "\n",
       "    .dataframe tbody tr th {\n",
       "        vertical-align: top;\n",
       "    }\n",
       "\n",
       "    .dataframe thead th {\n",
       "        text-align: right;\n",
       "    }\n",
       "</style>\n",
       "<table border=\"1\" class=\"dataframe\">\n",
       "  <thead>\n",
       "    <tr style=\"text-align: right;\">\n",
       "      <th></th>\n",
       "      <th>id</th>\n",
       "      <th>loan_amnt</th>\n",
       "      <th>loan_amnt_Eur</th>\n",
       "      <th>funded_amnt</th>\n",
       "      <th>funded_amnt_Eur</th>\n",
       "      <th>int_rate</th>\n",
       "      <th>installment</th>\n",
       "      <th>installment_Eur</th>\n",
       "      <th>total_pymnt</th>\n",
       "      <th>total_pymnt_Eur</th>\n",
       "      <th>exchange_rate</th>\n",
       "      <th>issue_date</th>\n",
       "      <th>loan_status</th>\n",
       "      <th>term_months</th>\n",
       "      <th>verification_status</th>\n",
       "      <th>addr_state</th>\n",
       "    </tr>\n",
       "    <tr>\n",
       "      <th>sub_grade</th>\n",
       "      <th></th>\n",
       "      <th></th>\n",
       "      <th></th>\n",
       "      <th></th>\n",
       "      <th></th>\n",
       "      <th></th>\n",
       "      <th></th>\n",
       "      <th></th>\n",
       "      <th></th>\n",
       "      <th></th>\n",
       "      <th></th>\n",
       "      <th></th>\n",
       "      <th></th>\n",
       "      <th></th>\n",
       "      <th></th>\n",
       "      <th></th>\n",
       "    </tr>\n",
       "  </thead>\n",
       "  <tbody>\n",
       "    <tr>\n",
       "      <th>31.0</th>\n",
       "      <td>5.175289e+07</td>\n",
       "      <td>20730.263158</td>\n",
       "      <td>18788.515623</td>\n",
       "      <td>22446.052632</td>\n",
       "      <td>20311.000482</td>\n",
       "      <td>0.158500</td>\n",
       "      <td>676.760000</td>\n",
       "      <td>612.413427</td>\n",
       "      <td>5315.123158</td>\n",
       "      <td>4805.571920</td>\n",
       "      <td>1.105634</td>\n",
       "      <td>6.105263</td>\n",
       "      <td>0.894737</td>\n",
       "      <td>60.000000</td>\n",
       "      <td>1.000000</td>\n",
       "      <td>2.157895</td>\n",
       "    </tr>\n",
       "    <tr>\n",
       "      <th>26.0</th>\n",
       "      <td>5.215508e+07</td>\n",
       "      <td>19987.234043</td>\n",
       "      <td>18135.874784</td>\n",
       "      <td>19064.893617</td>\n",
       "      <td>17285.259300</td>\n",
       "      <td>0.218839</td>\n",
       "      <td>558.362872</td>\n",
       "      <td>506.811585</td>\n",
       "      <td>4874.857766</td>\n",
       "      <td>4429.348368</td>\n",
       "      <td>1.102559</td>\n",
       "      <td>5.776596</td>\n",
       "      <td>0.872340</td>\n",
       "      <td>56.680851</td>\n",
       "      <td>0.872340</td>\n",
       "      <td>2.021277</td>\n",
       "    </tr>\n",
       "    <tr>\n",
       "      <th>29.0</th>\n",
       "      <td>5.360574e+07</td>\n",
       "      <td>19462.209302</td>\n",
       "      <td>17537.715256</td>\n",
       "      <td>18418.023256</td>\n",
       "      <td>16600.711612</td>\n",
       "      <td>0.236651</td>\n",
       "      <td>584.245581</td>\n",
       "      <td>526.248027</td>\n",
       "      <td>6380.290233</td>\n",
       "      <td>5750.312774</td>\n",
       "      <td>1.108489</td>\n",
       "      <td>6.604651</td>\n",
       "      <td>0.860465</td>\n",
       "      <td>57.767442</td>\n",
       "      <td>0.930233</td>\n",
       "      <td>1.860465</td>\n",
       "    </tr>\n",
       "    <tr>\n",
       "      <th>35.0</th>\n",
       "      <td>4.542227e+07</td>\n",
       "      <td>19337.500000</td>\n",
       "      <td>17230.149057</td>\n",
       "      <td>19337.500000</td>\n",
       "      <td>17230.149057</td>\n",
       "      <td>0.174950</td>\n",
       "      <td>589.080000</td>\n",
       "      <td>525.009714</td>\n",
       "      <td>5760.905000</td>\n",
       "      <td>5125.432512</td>\n",
       "      <td>1.117241</td>\n",
       "      <td>0.500000</td>\n",
       "      <td>1.000000</td>\n",
       "      <td>60.000000</td>\n",
       "      <td>1.000000</td>\n",
       "      <td>3.000000</td>\n",
       "    </tr>\n",
       "    <tr>\n",
       "      <th>30.0</th>\n",
       "      <td>5.080219e+07</td>\n",
       "      <td>18925.000000</td>\n",
       "      <td>17071.797479</td>\n",
       "      <td>18187.500000</td>\n",
       "      <td>16408.239231</td>\n",
       "      <td>0.256881</td>\n",
       "      <td>533.572500</td>\n",
       "      <td>481.983959</td>\n",
       "      <td>6512.458750</td>\n",
       "      <td>5839.818193</td>\n",
       "      <td>1.107906</td>\n",
       "      <td>5.312500</td>\n",
       "      <td>0.812500</td>\n",
       "      <td>57.000000</td>\n",
       "      <td>0.937500</td>\n",
       "      <td>2.000000</td>\n",
       "    </tr>\n",
       "    <tr>\n",
       "      <th>28.0</th>\n",
       "      <td>5.378061e+07</td>\n",
       "      <td>18661.029412</td>\n",
       "      <td>16864.002598</td>\n",
       "      <td>18786.029412</td>\n",
       "      <td>16948.951962</td>\n",
       "      <td>0.187062</td>\n",
       "      <td>571.840882</td>\n",
       "      <td>516.958042</td>\n",
       "      <td>3945.536765</td>\n",
       "      <td>3551.645088</td>\n",
       "      <td>1.107425</td>\n",
       "      <td>6.323529</td>\n",
       "      <td>0.852941</td>\n",
       "      <td>57.176471</td>\n",
       "      <td>0.852941</td>\n",
       "      <td>2.441176</td>\n",
       "    </tr>\n",
       "    <tr>\n",
       "      <th>25.0</th>\n",
       "      <td>5.393959e+07</td>\n",
       "      <td>18619.298246</td>\n",
       "      <td>16887.587135</td>\n",
       "      <td>17528.947368</td>\n",
       "      <td>15915.130843</td>\n",
       "      <td>0.208292</td>\n",
       "      <td>528.591667</td>\n",
       "      <td>479.843863</td>\n",
       "      <td>4017.720965</td>\n",
       "      <td>3626.834493</td>\n",
       "      <td>1.103902</td>\n",
       "      <td>6.842105</td>\n",
       "      <td>0.921053</td>\n",
       "      <td>56.210526</td>\n",
       "      <td>0.850877</td>\n",
       "      <td>2.210526</td>\n",
       "    </tr>\n",
       "    <tr>\n",
       "      <th>34.0</th>\n",
       "      <td>5.339136e+07</td>\n",
       "      <td>18253.571429</td>\n",
       "      <td>16526.315645</td>\n",
       "      <td>20446.428571</td>\n",
       "      <td>18518.197500</td>\n",
       "      <td>0.274186</td>\n",
       "      <td>566.650000</td>\n",
       "      <td>512.873888</td>\n",
       "      <td>3636.637143</td>\n",
       "      <td>3271.765180</td>\n",
       "      <td>1.101996</td>\n",
       "      <td>6.714286</td>\n",
       "      <td>0.857143</td>\n",
       "      <td>56.571429</td>\n",
       "      <td>0.714286</td>\n",
       "      <td>2.000000</td>\n",
       "    </tr>\n",
       "    <tr>\n",
       "      <th>27.0</th>\n",
       "      <td>5.233452e+07</td>\n",
       "      <td>17806.730769</td>\n",
       "      <td>16072.896711</td>\n",
       "      <td>17232.211538</td>\n",
       "      <td>15561.804586</td>\n",
       "      <td>0.227019</td>\n",
       "      <td>490.743077</td>\n",
       "      <td>442.712027</td>\n",
       "      <td>3267.636923</td>\n",
       "      <td>2943.789416</td>\n",
       "      <td>1.108385</td>\n",
       "      <td>6.134615</td>\n",
       "      <td>0.846154</td>\n",
       "      <td>54.923077</td>\n",
       "      <td>0.884615</td>\n",
       "      <td>2.326923</td>\n",
       "    </tr>\n",
       "    <tr>\n",
       "      <th>21.0</th>\n",
       "      <td>5.334357e+07</td>\n",
       "      <td>17645.106383</td>\n",
       "      <td>15995.164871</td>\n",
       "      <td>17965.957447</td>\n",
       "      <td>16287.682072</td>\n",
       "      <td>0.154194</td>\n",
       "      <td>488.281106</td>\n",
       "      <td>442.703465</td>\n",
       "      <td>4052.866468</td>\n",
       "      <td>3658.275020</td>\n",
       "      <td>1.104191</td>\n",
       "      <td>6.348936</td>\n",
       "      <td>0.910638</td>\n",
       "      <td>53.565957</td>\n",
       "      <td>0.787234</td>\n",
       "      <td>2.340426</td>\n",
       "    </tr>\n",
       "    <tr>\n",
       "      <th>24.0</th>\n",
       "      <td>5.220577e+07</td>\n",
       "      <td>17477.877698</td>\n",
       "      <td>15791.680178</td>\n",
       "      <td>17816.726619</td>\n",
       "      <td>16097.932314</td>\n",
       "      <td>0.198212</td>\n",
       "      <td>492.452014</td>\n",
       "      <td>444.644558</td>\n",
       "      <td>4314.167553</td>\n",
       "      <td>3881.346588</td>\n",
       "      <td>1.107881</td>\n",
       "      <td>6.179856</td>\n",
       "      <td>0.942446</td>\n",
       "      <td>56.374101</td>\n",
       "      <td>0.841727</td>\n",
       "      <td>2.093525</td>\n",
       "    </tr>\n",
       "    <tr>\n",
       "      <th>32.0</th>\n",
       "      <td>5.302857e+07</td>\n",
       "      <td>16942.500000</td>\n",
       "      <td>15208.980771</td>\n",
       "      <td>15172.500000</td>\n",
       "      <td>13640.937673</td>\n",
       "      <td>0.267360</td>\n",
       "      <td>528.117000</td>\n",
       "      <td>474.344195</td>\n",
       "      <td>3023.649000</td>\n",
       "      <td>2708.335946</td>\n",
       "      <td>1.111374</td>\n",
       "      <td>6.500000</td>\n",
       "      <td>0.800000</td>\n",
       "      <td>55.200000</td>\n",
       "      <td>0.900000</td>\n",
       "      <td>2.000000</td>\n",
       "    </tr>\n",
       "    <tr>\n",
       "      <th>23.0</th>\n",
       "      <td>5.440632e+07</td>\n",
       "      <td>16858.771930</td>\n",
       "      <td>15228.910361</td>\n",
       "      <td>17534.356725</td>\n",
       "      <td>15842.684781</td>\n",
       "      <td>0.184737</td>\n",
       "      <td>466.194269</td>\n",
       "      <td>421.091478</td>\n",
       "      <td>3495.415439</td>\n",
       "      <td>3146.797611</td>\n",
       "      <td>1.107272</td>\n",
       "      <td>6.836257</td>\n",
       "      <td>0.918129</td>\n",
       "      <td>53.122807</td>\n",
       "      <td>0.853801</td>\n",
       "      <td>2.134503</td>\n",
       "    </tr>\n",
       "    <tr>\n",
       "      <th>22.0</th>\n",
       "      <td>5.357449e+07</td>\n",
       "      <td>15899.074074</td>\n",
       "      <td>14396.717936</td>\n",
       "      <td>15847.376543</td>\n",
       "      <td>14352.668625</td>\n",
       "      <td>0.180478</td>\n",
       "      <td>453.154198</td>\n",
       "      <td>410.267728</td>\n",
       "      <td>3028.061543</td>\n",
       "      <td>2724.832925</td>\n",
       "      <td>1.105106</td>\n",
       "      <td>6.370370</td>\n",
       "      <td>0.907407</td>\n",
       "      <td>52.444444</td>\n",
       "      <td>0.827160</td>\n",
       "      <td>2.166667</td>\n",
       "    </tr>\n",
       "    <tr>\n",
       "      <th>19.0</th>\n",
       "      <td>5.407777e+07</td>\n",
       "      <td>15856.862745</td>\n",
       "      <td>14369.347434</td>\n",
       "      <td>15688.431373</td>\n",
       "      <td>14211.032015</td>\n",
       "      <td>0.168568</td>\n",
       "      <td>443.842118</td>\n",
       "      <td>402.423307</td>\n",
       "      <td>2934.174275</td>\n",
       "      <td>2647.767927</td>\n",
       "      <td>1.104045</td>\n",
       "      <td>6.788235</td>\n",
       "      <td>0.925490</td>\n",
       "      <td>50.494118</td>\n",
       "      <td>0.784314</td>\n",
       "      <td>2.192157</td>\n",
       "    </tr>\n",
       "    <tr>\n",
       "      <th>20.0</th>\n",
       "      <td>5.312897e+07</td>\n",
       "      <td>15719.843049</td>\n",
       "      <td>14231.785042</td>\n",
       "      <td>16016.816143</td>\n",
       "      <td>14508.251141</td>\n",
       "      <td>0.173338</td>\n",
       "      <td>463.472018</td>\n",
       "      <td>419.612927</td>\n",
       "      <td>3491.160090</td>\n",
       "      <td>3144.555331</td>\n",
       "      <td>1.104691</td>\n",
       "      <td>6.161435</td>\n",
       "      <td>0.914798</td>\n",
       "      <td>50.636771</td>\n",
       "      <td>0.834081</td>\n",
       "      <td>2.143498</td>\n",
       "    </tr>\n",
       "    <tr>\n",
       "      <th>18.0</th>\n",
       "      <td>5.366536e+07</td>\n",
       "      <td>15230.600000</td>\n",
       "      <td>13783.083544</td>\n",
       "      <td>15237.700000</td>\n",
       "      <td>13791.358653</td>\n",
       "      <td>0.161512</td>\n",
       "      <td>448.024680</td>\n",
       "      <td>405.023402</td>\n",
       "      <td>3575.974600</td>\n",
       "      <td>3229.115403</td>\n",
       "      <td>1.105986</td>\n",
       "      <td>6.576000</td>\n",
       "      <td>0.916000</td>\n",
       "      <td>46.560000</td>\n",
       "      <td>0.768000</td>\n",
       "      <td>2.172000</td>\n",
       "    </tr>\n",
       "    <tr>\n",
       "      <th>36.0</th>\n",
       "      <td>5.378115e+07</td>\n",
       "      <td>15028.745136</td>\n",
       "      <td>13610.034731</td>\n",
       "      <td>15046.254864</td>\n",
       "      <td>13625.660937</td>\n",
       "      <td>0.103684</td>\n",
       "      <td>439.150370</td>\n",
       "      <td>397.655039</td>\n",
       "      <td>3166.069941</td>\n",
       "      <td>2850.091393</td>\n",
       "      <td>1.104340</td>\n",
       "      <td>6.918288</td>\n",
       "      <td>0.966926</td>\n",
       "      <td>43.330739</td>\n",
       "      <td>0.686770</td>\n",
       "      <td>2.313230</td>\n",
       "    </tr>\n",
       "    <tr>\n",
       "      <th>13.0</th>\n",
       "      <td>5.457469e+07</td>\n",
       "      <td>14961.177474</td>\n",
       "      <td>13563.665214</td>\n",
       "      <td>14453.754266</td>\n",
       "      <td>13100.169238</td>\n",
       "      <td>0.128621</td>\n",
       "      <td>418.196502</td>\n",
       "      <td>379.148954</td>\n",
       "      <td>2983.443055</td>\n",
       "      <td>2691.213316</td>\n",
       "      <td>1.103328</td>\n",
       "      <td>6.831058</td>\n",
       "      <td>0.926621</td>\n",
       "      <td>45.583618</td>\n",
       "      <td>0.713311</td>\n",
       "      <td>2.203072</td>\n",
       "    </tr>\n",
       "    <tr>\n",
       "      <th>14.0</th>\n",
       "      <td>5.455485e+07</td>\n",
       "      <td>14789.494681</td>\n",
       "      <td>13421.582483</td>\n",
       "      <td>14821.498227</td>\n",
       "      <td>13447.092606</td>\n",
       "      <td>0.134760</td>\n",
       "      <td>410.677695</td>\n",
       "      <td>372.586562</td>\n",
       "      <td>2798.626596</td>\n",
       "      <td>2528.099948</td>\n",
       "      <td>1.102752</td>\n",
       "      <td>6.787234</td>\n",
       "      <td>0.925532</td>\n",
       "      <td>47.446809</td>\n",
       "      <td>0.700355</td>\n",
       "      <td>2.177305</td>\n",
       "    </tr>\n",
       "    <tr>\n",
       "      <th>17.0</th>\n",
       "      <td>5.298182e+07</td>\n",
       "      <td>14568.352060</td>\n",
       "      <td>13194.886209</td>\n",
       "      <td>14615.074906</td>\n",
       "      <td>13234.581294</td>\n",
       "      <td>0.159635</td>\n",
       "      <td>431.800037</td>\n",
       "      <td>391.211123</td>\n",
       "      <td>3362.741573</td>\n",
       "      <td>3035.978010</td>\n",
       "      <td>1.105203</td>\n",
       "      <td>6.352060</td>\n",
       "      <td>0.925094</td>\n",
       "      <td>46.966292</td>\n",
       "      <td>0.797753</td>\n",
       "      <td>2.277154</td>\n",
       "    </tr>\n",
       "    <tr>\n",
       "      <th>4.0</th>\n",
       "      <td>5.278962e+07</td>\n",
       "      <td>14360.835913</td>\n",
       "      <td>13018.540620</td>\n",
       "      <td>14888.080495</td>\n",
       "      <td>13497.076139</td>\n",
       "      <td>0.060000</td>\n",
       "      <td>449.811362</td>\n",
       "      <td>407.856126</td>\n",
       "      <td>3647.109381</td>\n",
       "      <td>3289.553014</td>\n",
       "      <td>1.104122</td>\n",
       "      <td>6.148607</td>\n",
       "      <td>0.944272</td>\n",
       "      <td>38.452012</td>\n",
       "      <td>0.622291</td>\n",
       "      <td>2.188854</td>\n",
       "    </tr>\n",
       "    <tr>\n",
       "      <th>15.0</th>\n",
       "      <td>5.460645e+07</td>\n",
       "      <td>14345.153664</td>\n",
       "      <td>13005.683226</td>\n",
       "      <td>14177.718676</td>\n",
       "      <td>12847.705386</td>\n",
       "      <td>0.141936</td>\n",
       "      <td>410.293901</td>\n",
       "      <td>371.928274</td>\n",
       "      <td>3054.896761</td>\n",
       "      <td>2753.145677</td>\n",
       "      <td>1.104208</td>\n",
       "      <td>6.754137</td>\n",
       "      <td>0.931442</td>\n",
       "      <td>46.723404</td>\n",
       "      <td>0.744681</td>\n",
       "      <td>2.210402</td>\n",
       "    </tr>\n",
       "    <tr>\n",
       "      <th>16.0</th>\n",
       "      <td>5.283201e+07</td>\n",
       "      <td>14328.452685</td>\n",
       "      <td>12952.249091</td>\n",
       "      <td>14529.028133</td>\n",
       "      <td>13131.673626</td>\n",
       "      <td>0.151421</td>\n",
       "      <td>416.690153</td>\n",
       "      <td>376.730065</td>\n",
       "      <td>3106.618645</td>\n",
       "      <td>2794.519469</td>\n",
       "      <td>1.106834</td>\n",
       "      <td>6.184143</td>\n",
       "      <td>0.913043</td>\n",
       "      <td>47.171355</td>\n",
       "      <td>0.780051</td>\n",
       "      <td>2.148338</td>\n",
       "    </tr>\n",
       "    <tr>\n",
       "      <th>2.0</th>\n",
       "      <td>5.402602e+07</td>\n",
       "      <td>14246.043165</td>\n",
       "      <td>12886.633395</td>\n",
       "      <td>14413.129496</td>\n",
       "      <td>13039.861419</td>\n",
       "      <td>0.060000</td>\n",
       "      <td>428.563777</td>\n",
       "      <td>388.005872</td>\n",
       "      <td>2889.523993</td>\n",
       "      <td>2603.158442</td>\n",
       "      <td>1.104827</td>\n",
       "      <td>6.726619</td>\n",
       "      <td>0.946043</td>\n",
       "      <td>37.208633</td>\n",
       "      <td>0.496403</td>\n",
       "      <td>2.248201</td>\n",
       "    </tr>\n",
       "    <tr>\n",
       "      <th>5.0</th>\n",
       "      <td>5.334505e+07</td>\n",
       "      <td>14180.627490</td>\n",
       "      <td>12844.065173</td>\n",
       "      <td>14308.715139</td>\n",
       "      <td>12954.750587</td>\n",
       "      <td>0.060000</td>\n",
       "      <td>429.858546</td>\n",
       "      <td>389.300050</td>\n",
       "      <td>3056.786972</td>\n",
       "      <td>2758.370567</td>\n",
       "      <td>1.104536</td>\n",
       "      <td>6.322709</td>\n",
       "      <td>0.926295</td>\n",
       "      <td>39.633466</td>\n",
       "      <td>0.603586</td>\n",
       "      <td>2.247012</td>\n",
       "    </tr>\n",
       "    <tr>\n",
       "      <th>8.0</th>\n",
       "      <td>5.495569e+07</td>\n",
       "      <td>14165.660377</td>\n",
       "      <td>12829.416168</td>\n",
       "      <td>14400.754717</td>\n",
       "      <td>13046.509881</td>\n",
       "      <td>0.060000</td>\n",
       "      <td>411.007396</td>\n",
       "      <td>372.497705</td>\n",
       "      <td>2451.118868</td>\n",
       "      <td>2210.755150</td>\n",
       "      <td>1.102902</td>\n",
       "      <td>6.886792</td>\n",
       "      <td>0.933962</td>\n",
       "      <td>42.249057</td>\n",
       "      <td>0.637736</td>\n",
       "      <td>2.243396</td>\n",
       "    </tr>\n",
       "    <tr>\n",
       "      <th>9.0</th>\n",
       "      <td>5.441008e+07</td>\n",
       "      <td>14002.667269</td>\n",
       "      <td>12684.767649</td>\n",
       "      <td>14080.650995</td>\n",
       "      <td>12754.061084</td>\n",
       "      <td>0.060000</td>\n",
       "      <td>388.798662</td>\n",
       "      <td>352.361192</td>\n",
       "      <td>2450.704213</td>\n",
       "      <td>2209.928973</td>\n",
       "      <td>1.103816</td>\n",
       "      <td>6.837251</td>\n",
       "      <td>0.947559</td>\n",
       "      <td>44.202532</td>\n",
       "      <td>0.685353</td>\n",
       "      <td>2.175407</td>\n",
       "    </tr>\n",
       "    <tr>\n",
       "      <th>12.0</th>\n",
       "      <td>5.384824e+07</td>\n",
       "      <td>13836.243386</td>\n",
       "      <td>12502.498365</td>\n",
       "      <td>13509.656085</td>\n",
       "      <td>12216.930907</td>\n",
       "      <td>0.060000</td>\n",
       "      <td>391.473122</td>\n",
       "      <td>354.011458</td>\n",
       "      <td>2715.898395</td>\n",
       "      <td>2445.215293</td>\n",
       "      <td>1.105680</td>\n",
       "      <td>6.356261</td>\n",
       "      <td>0.922399</td>\n",
       "      <td>44.719577</td>\n",
       "      <td>0.657848</td>\n",
       "      <td>2.179894</td>\n",
       "    </tr>\n",
       "    <tr>\n",
       "      <th>6.0</th>\n",
       "      <td>5.479998e+07</td>\n",
       "      <td>13705.943026</td>\n",
       "      <td>12403.324447</td>\n",
       "      <td>13786.787819</td>\n",
       "      <td>12475.203918</td>\n",
       "      <td>0.060000</td>\n",
       "      <td>387.780314</td>\n",
       "      <td>350.919148</td>\n",
       "      <td>2498.774892</td>\n",
       "      <td>2250.399128</td>\n",
       "      <td>1.104702</td>\n",
       "      <td>6.870334</td>\n",
       "      <td>0.937132</td>\n",
       "      <td>42.365422</td>\n",
       "      <td>0.559921</td>\n",
       "      <td>2.113949</td>\n",
       "    </tr>\n",
       "    <tr>\n",
       "      <th>11.0</th>\n",
       "      <td>5.387663e+07</td>\n",
       "      <td>13400.993641</td>\n",
       "      <td>12132.101936</td>\n",
       "      <td>13763.314785</td>\n",
       "      <td>12462.538727</td>\n",
       "      <td>0.060000</td>\n",
       "      <td>385.512798</td>\n",
       "      <td>348.975696</td>\n",
       "      <td>2664.936358</td>\n",
       "      <td>2401.432003</td>\n",
       "      <td>1.105055</td>\n",
       "      <td>6.701113</td>\n",
       "      <td>0.931638</td>\n",
       "      <td>44.737679</td>\n",
       "      <td>0.627981</td>\n",
       "      <td>2.268680</td>\n",
       "    </tr>\n",
       "    <tr>\n",
       "      <th>7.0</th>\n",
       "      <td>5.434404e+07</td>\n",
       "      <td>13392.988395</td>\n",
       "      <td>12123.830460</td>\n",
       "      <td>13630.560928</td>\n",
       "      <td>12340.214452</td>\n",
       "      <td>0.060000</td>\n",
       "      <td>391.625919</td>\n",
       "      <td>354.533830</td>\n",
       "      <td>2660.452785</td>\n",
       "      <td>2398.577984</td>\n",
       "      <td>1.105044</td>\n",
       "      <td>6.698259</td>\n",
       "      <td>0.938104</td>\n",
       "      <td>42.081238</td>\n",
       "      <td>0.628627</td>\n",
       "      <td>2.255319</td>\n",
       "    </tr>\n",
       "    <tr>\n",
       "      <th>1.0</th>\n",
       "      <td>5.572899e+07</td>\n",
       "      <td>13368.245614</td>\n",
       "      <td>12132.952164</td>\n",
       "      <td>13447.807018</td>\n",
       "      <td>12207.236540</td>\n",
       "      <td>0.060000</td>\n",
       "      <td>402.557298</td>\n",
       "      <td>365.211377</td>\n",
       "      <td>2436.230982</td>\n",
       "      <td>2198.063050</td>\n",
       "      <td>1.102580</td>\n",
       "      <td>7.017544</td>\n",
       "      <td>0.940351</td>\n",
       "      <td>37.347368</td>\n",
       "      <td>0.385965</td>\n",
       "      <td>2.171930</td>\n",
       "    </tr>\n",
       "    <tr>\n",
       "      <th>3.0</th>\n",
       "      <td>5.368352e+07</td>\n",
       "      <td>13105.125523</td>\n",
       "      <td>11873.750323</td>\n",
       "      <td>13130.020921</td>\n",
       "      <td>11910.128417</td>\n",
       "      <td>0.060000</td>\n",
       "      <td>400.169582</td>\n",
       "      <td>362.602203</td>\n",
       "      <td>2638.699456</td>\n",
       "      <td>2379.898341</td>\n",
       "      <td>1.103758</td>\n",
       "      <td>6.569038</td>\n",
       "      <td>0.949791</td>\n",
       "      <td>37.707113</td>\n",
       "      <td>0.510460</td>\n",
       "      <td>2.292887</td>\n",
       "    </tr>\n",
       "    <tr>\n",
       "      <th>10.0</th>\n",
       "      <td>5.459830e+07</td>\n",
       "      <td>12670.344130</td>\n",
       "      <td>11481.438054</td>\n",
       "      <td>12563.562753</td>\n",
       "      <td>11383.043373</td>\n",
       "      <td>0.060000</td>\n",
       "      <td>367.364008</td>\n",
       "      <td>332.874399</td>\n",
       "      <td>2663.667652</td>\n",
       "      <td>2395.856681</td>\n",
       "      <td>1.103146</td>\n",
       "      <td>6.933198</td>\n",
       "      <td>0.953441</td>\n",
       "      <td>41.878543</td>\n",
       "      <td>0.712551</td>\n",
       "      <td>2.230769</td>\n",
       "    </tr>\n",
       "    <tr>\n",
       "      <th>33.0</th>\n",
       "      <td>5.916880e+07</td>\n",
       "      <td>12325.000000</td>\n",
       "      <td>11438.862462</td>\n",
       "      <td>7075.000000</td>\n",
       "      <td>6648.867373</td>\n",
       "      <td>0.272167</td>\n",
       "      <td>384.843333</td>\n",
       "      <td>357.161831</td>\n",
       "      <td>1703.913333</td>\n",
       "      <td>1566.243139</td>\n",
       "      <td>1.082578</td>\n",
       "      <td>9.333333</td>\n",
       "      <td>1.000000</td>\n",
       "      <td>52.000000</td>\n",
       "      <td>1.000000</td>\n",
       "      <td>1.666667</td>\n",
       "    </tr>\n",
       "  </tbody>\n",
       "</table>\n",
       "</div>"
      ],
      "text/plain": [
       "                     id     loan_amnt  loan_amnt_Eur   funded_amnt  \\\n",
       "sub_grade                                                            \n",
       "31.0       5.175289e+07  20730.263158   18788.515623  22446.052632   \n",
       "26.0       5.215508e+07  19987.234043   18135.874784  19064.893617   \n",
       "29.0       5.360574e+07  19462.209302   17537.715256  18418.023256   \n",
       "35.0       4.542227e+07  19337.500000   17230.149057  19337.500000   \n",
       "30.0       5.080219e+07  18925.000000   17071.797479  18187.500000   \n",
       "28.0       5.378061e+07  18661.029412   16864.002598  18786.029412   \n",
       "25.0       5.393959e+07  18619.298246   16887.587135  17528.947368   \n",
       "34.0       5.339136e+07  18253.571429   16526.315645  20446.428571   \n",
       "27.0       5.233452e+07  17806.730769   16072.896711  17232.211538   \n",
       "21.0       5.334357e+07  17645.106383   15995.164871  17965.957447   \n",
       "24.0       5.220577e+07  17477.877698   15791.680178  17816.726619   \n",
       "32.0       5.302857e+07  16942.500000   15208.980771  15172.500000   \n",
       "23.0       5.440632e+07  16858.771930   15228.910361  17534.356725   \n",
       "22.0       5.357449e+07  15899.074074   14396.717936  15847.376543   \n",
       "19.0       5.407777e+07  15856.862745   14369.347434  15688.431373   \n",
       "20.0       5.312897e+07  15719.843049   14231.785042  16016.816143   \n",
       "18.0       5.366536e+07  15230.600000   13783.083544  15237.700000   \n",
       "36.0       5.378115e+07  15028.745136   13610.034731  15046.254864   \n",
       "13.0       5.457469e+07  14961.177474   13563.665214  14453.754266   \n",
       "14.0       5.455485e+07  14789.494681   13421.582483  14821.498227   \n",
       "17.0       5.298182e+07  14568.352060   13194.886209  14615.074906   \n",
       "4.0        5.278962e+07  14360.835913   13018.540620  14888.080495   \n",
       "15.0       5.460645e+07  14345.153664   13005.683226  14177.718676   \n",
       "16.0       5.283201e+07  14328.452685   12952.249091  14529.028133   \n",
       "2.0        5.402602e+07  14246.043165   12886.633395  14413.129496   \n",
       "5.0        5.334505e+07  14180.627490   12844.065173  14308.715139   \n",
       "8.0        5.495569e+07  14165.660377   12829.416168  14400.754717   \n",
       "9.0        5.441008e+07  14002.667269   12684.767649  14080.650995   \n",
       "12.0       5.384824e+07  13836.243386   12502.498365  13509.656085   \n",
       "6.0        5.479998e+07  13705.943026   12403.324447  13786.787819   \n",
       "11.0       5.387663e+07  13400.993641   12132.101936  13763.314785   \n",
       "7.0        5.434404e+07  13392.988395   12123.830460  13630.560928   \n",
       "1.0        5.572899e+07  13368.245614   12132.952164  13447.807018   \n",
       "3.0        5.368352e+07  13105.125523   11873.750323  13130.020921   \n",
       "10.0       5.459830e+07  12670.344130   11481.438054  12563.562753   \n",
       "33.0       5.916880e+07  12325.000000   11438.862462   7075.000000   \n",
       "\n",
       "           funded_amnt_Eur  int_rate  installment  installment_Eur  \\\n",
       "sub_grade                                                            \n",
       "31.0          20311.000482  0.158500   676.760000       612.413427   \n",
       "26.0          17285.259300  0.218839   558.362872       506.811585   \n",
       "29.0          16600.711612  0.236651   584.245581       526.248027   \n",
       "35.0          17230.149057  0.174950   589.080000       525.009714   \n",
       "30.0          16408.239231  0.256881   533.572500       481.983959   \n",
       "28.0          16948.951962  0.187062   571.840882       516.958042   \n",
       "25.0          15915.130843  0.208292   528.591667       479.843863   \n",
       "34.0          18518.197500  0.274186   566.650000       512.873888   \n",
       "27.0          15561.804586  0.227019   490.743077       442.712027   \n",
       "21.0          16287.682072  0.154194   488.281106       442.703465   \n",
       "24.0          16097.932314  0.198212   492.452014       444.644558   \n",
       "32.0          13640.937673  0.267360   528.117000       474.344195   \n",
       "23.0          15842.684781  0.184737   466.194269       421.091478   \n",
       "22.0          14352.668625  0.180478   453.154198       410.267728   \n",
       "19.0          14211.032015  0.168568   443.842118       402.423307   \n",
       "20.0          14508.251141  0.173338   463.472018       419.612927   \n",
       "18.0          13791.358653  0.161512   448.024680       405.023402   \n",
       "36.0          13625.660937  0.103684   439.150370       397.655039   \n",
       "13.0          13100.169238  0.128621   418.196502       379.148954   \n",
       "14.0          13447.092606  0.134760   410.677695       372.586562   \n",
       "17.0          13234.581294  0.159635   431.800037       391.211123   \n",
       "4.0           13497.076139  0.060000   449.811362       407.856126   \n",
       "15.0          12847.705386  0.141936   410.293901       371.928274   \n",
       "16.0          13131.673626  0.151421   416.690153       376.730065   \n",
       "2.0           13039.861419  0.060000   428.563777       388.005872   \n",
       "5.0           12954.750587  0.060000   429.858546       389.300050   \n",
       "8.0           13046.509881  0.060000   411.007396       372.497705   \n",
       "9.0           12754.061084  0.060000   388.798662       352.361192   \n",
       "12.0          12216.930907  0.060000   391.473122       354.011458   \n",
       "6.0           12475.203918  0.060000   387.780314       350.919148   \n",
       "11.0          12462.538727  0.060000   385.512798       348.975696   \n",
       "7.0           12340.214452  0.060000   391.625919       354.533830   \n",
       "1.0           12207.236540  0.060000   402.557298       365.211377   \n",
       "3.0           11910.128417  0.060000   400.169582       362.602203   \n",
       "10.0          11383.043373  0.060000   367.364008       332.874399   \n",
       "33.0           6648.867373  0.272167   384.843333       357.161831   \n",
       "\n",
       "           total_pymnt  total_pymnt_Eur  exchange_rate  issue_date  \\\n",
       "sub_grade                                                            \n",
       "31.0       5315.123158      4805.571920       1.105634    6.105263   \n",
       "26.0       4874.857766      4429.348368       1.102559    5.776596   \n",
       "29.0       6380.290233      5750.312774       1.108489    6.604651   \n",
       "35.0       5760.905000      5125.432512       1.117241    0.500000   \n",
       "30.0       6512.458750      5839.818193       1.107906    5.312500   \n",
       "28.0       3945.536765      3551.645088       1.107425    6.323529   \n",
       "25.0       4017.720965      3626.834493       1.103902    6.842105   \n",
       "34.0       3636.637143      3271.765180       1.101996    6.714286   \n",
       "27.0       3267.636923      2943.789416       1.108385    6.134615   \n",
       "21.0       4052.866468      3658.275020       1.104191    6.348936   \n",
       "24.0       4314.167553      3881.346588       1.107881    6.179856   \n",
       "32.0       3023.649000      2708.335946       1.111374    6.500000   \n",
       "23.0       3495.415439      3146.797611       1.107272    6.836257   \n",
       "22.0       3028.061543      2724.832925       1.105106    6.370370   \n",
       "19.0       2934.174275      2647.767927       1.104045    6.788235   \n",
       "20.0       3491.160090      3144.555331       1.104691    6.161435   \n",
       "18.0       3575.974600      3229.115403       1.105986    6.576000   \n",
       "36.0       3166.069941      2850.091393       1.104340    6.918288   \n",
       "13.0       2983.443055      2691.213316       1.103328    6.831058   \n",
       "14.0       2798.626596      2528.099948       1.102752    6.787234   \n",
       "17.0       3362.741573      3035.978010       1.105203    6.352060   \n",
       "4.0        3647.109381      3289.553014       1.104122    6.148607   \n",
       "15.0       3054.896761      2753.145677       1.104208    6.754137   \n",
       "16.0       3106.618645      2794.519469       1.106834    6.184143   \n",
       "2.0        2889.523993      2603.158442       1.104827    6.726619   \n",
       "5.0        3056.786972      2758.370567       1.104536    6.322709   \n",
       "8.0        2451.118868      2210.755150       1.102902    6.886792   \n",
       "9.0        2450.704213      2209.928973       1.103816    6.837251   \n",
       "12.0       2715.898395      2445.215293       1.105680    6.356261   \n",
       "6.0        2498.774892      2250.399128       1.104702    6.870334   \n",
       "11.0       2664.936358      2401.432003       1.105055    6.701113   \n",
       "7.0        2660.452785      2398.577984       1.105044    6.698259   \n",
       "1.0        2436.230982      2198.063050       1.102580    7.017544   \n",
       "3.0        2638.699456      2379.898341       1.103758    6.569038   \n",
       "10.0       2663.667652      2395.856681       1.103146    6.933198   \n",
       "33.0       1703.913333      1566.243139       1.082578    9.333333   \n",
       "\n",
       "           loan_status  term_months  verification_status  addr_state  \n",
       "sub_grade                                                             \n",
       "31.0          0.894737    60.000000             1.000000    2.157895  \n",
       "26.0          0.872340    56.680851             0.872340    2.021277  \n",
       "29.0          0.860465    57.767442             0.930233    1.860465  \n",
       "35.0          1.000000    60.000000             1.000000    3.000000  \n",
       "30.0          0.812500    57.000000             0.937500    2.000000  \n",
       "28.0          0.852941    57.176471             0.852941    2.441176  \n",
       "25.0          0.921053    56.210526             0.850877    2.210526  \n",
       "34.0          0.857143    56.571429             0.714286    2.000000  \n",
       "27.0          0.846154    54.923077             0.884615    2.326923  \n",
       "21.0          0.910638    53.565957             0.787234    2.340426  \n",
       "24.0          0.942446    56.374101             0.841727    2.093525  \n",
       "32.0          0.800000    55.200000             0.900000    2.000000  \n",
       "23.0          0.918129    53.122807             0.853801    2.134503  \n",
       "22.0          0.907407    52.444444             0.827160    2.166667  \n",
       "19.0          0.925490    50.494118             0.784314    2.192157  \n",
       "20.0          0.914798    50.636771             0.834081    2.143498  \n",
       "18.0          0.916000    46.560000             0.768000    2.172000  \n",
       "36.0          0.966926    43.330739             0.686770    2.313230  \n",
       "13.0          0.926621    45.583618             0.713311    2.203072  \n",
       "14.0          0.925532    47.446809             0.700355    2.177305  \n",
       "17.0          0.925094    46.966292             0.797753    2.277154  \n",
       "4.0           0.944272    38.452012             0.622291    2.188854  \n",
       "15.0          0.931442    46.723404             0.744681    2.210402  \n",
       "16.0          0.913043    47.171355             0.780051    2.148338  \n",
       "2.0           0.946043    37.208633             0.496403    2.248201  \n",
       "5.0           0.926295    39.633466             0.603586    2.247012  \n",
       "8.0           0.933962    42.249057             0.637736    2.243396  \n",
       "9.0           0.947559    44.202532             0.685353    2.175407  \n",
       "12.0          0.922399    44.719577             0.657848    2.179894  \n",
       "6.0           0.937132    42.365422             0.559921    2.113949  \n",
       "11.0          0.931638    44.737679             0.627981    2.268680  \n",
       "7.0           0.938104    42.081238             0.628627    2.255319  \n",
       "1.0           0.940351    37.347368             0.385965    2.171930  \n",
       "3.0           0.949791    37.707113             0.510460    2.292887  \n",
       "10.0          0.953441    41.878543             0.712551    2.230769  \n",
       "33.0          1.000000    52.000000             1.000000    1.666667  "
      ]
     },
     "execution_count": 197,
     "metadata": {},
     "output_type": "execute_result"
    }
   ],
   "source": [
    "loan_1.groupby(['sub_grade']).mean().sort_values('loan_amnt', ascending = False)"
   ]
  },
  {
   "cell_type": "code",
   "execution_count": 199,
   "id": "e02b9088",
   "metadata": {},
   "outputs": [
    {
     "data": {
      "text/plain": [
       "0.2899"
      ]
     },
     "execution_count": 199,
     "metadata": {},
     "output_type": "execute_result"
    }
   ],
   "source": [
    "loan_1['int_rate'].max()"
   ]
  },
  {
   "cell_type": "code",
   "execution_count": 200,
   "id": "529913a5",
   "metadata": {},
   "outputs": [
    {
     "data": {
      "text/plain": [
       "0.06"
      ]
     },
     "execution_count": 200,
     "metadata": {},
     "output_type": "execute_result"
    }
   ],
   "source": [
    "loan_1['int_rate'].min()"
   ]
  },
  {
   "cell_type": "code",
   "execution_count": 201,
   "id": "091b223c",
   "metadata": {},
   "outputs": [
    {
     "data": {
      "text/html": [
       "<div>\n",
       "<style scoped>\n",
       "    .dataframe tbody tr th:only-of-type {\n",
       "        vertical-align: middle;\n",
       "    }\n",
       "\n",
       "    .dataframe tbody tr th {\n",
       "        vertical-align: top;\n",
       "    }\n",
       "\n",
       "    .dataframe thead th {\n",
       "        text-align: right;\n",
       "    }\n",
       "</style>\n",
       "<table border=\"1\" class=\"dataframe\">\n",
       "  <thead>\n",
       "    <tr style=\"text-align: right;\">\n",
       "      <th></th>\n",
       "      <th>id</th>\n",
       "      <th>loan_amnt</th>\n",
       "      <th>loan_amnt_Eur</th>\n",
       "      <th>funded_amnt</th>\n",
       "      <th>funded_amnt_Eur</th>\n",
       "      <th>int_rate</th>\n",
       "      <th>installment</th>\n",
       "      <th>installment_Eur</th>\n",
       "      <th>total_pymnt</th>\n",
       "      <th>total_pymnt_Eur</th>\n",
       "      <th>exchange_rate</th>\n",
       "      <th>issue_date</th>\n",
       "      <th>loan_status</th>\n",
       "      <th>sub_grade</th>\n",
       "      <th>verification_status</th>\n",
       "      <th>addr_state</th>\n",
       "    </tr>\n",
       "    <tr>\n",
       "      <th>term_months</th>\n",
       "      <th></th>\n",
       "      <th></th>\n",
       "      <th></th>\n",
       "      <th></th>\n",
       "      <th></th>\n",
       "      <th></th>\n",
       "      <th></th>\n",
       "      <th></th>\n",
       "      <th></th>\n",
       "      <th></th>\n",
       "      <th></th>\n",
       "      <th></th>\n",
       "      <th></th>\n",
       "      <th></th>\n",
       "      <th></th>\n",
       "      <th></th>\n",
       "    </tr>\n",
       "  </thead>\n",
       "  <tbody>\n",
       "    <tr>\n",
       "      <th>60.0</th>\n",
       "      <td>5.380579e+07</td>\n",
       "      <td>18767.114816</td>\n",
       "      <td>16990.717021</td>\n",
       "      <td>18779.934122</td>\n",
       "      <td>17003.015549</td>\n",
       "      <td>0.127281</td>\n",
       "      <td>460.521648</td>\n",
       "      <td>416.925819</td>\n",
       "      <td>3332.454044</td>\n",
       "      <td>3004.084305</td>\n",
       "      <td>1.105046</td>\n",
       "      <td>6.642915</td>\n",
       "      <td>0.929282</td>\n",
       "      <td>16.167787</td>\n",
       "      <td>0.740522</td>\n",
       "      <td>2.239581</td>\n",
       "    </tr>\n",
       "    <tr>\n",
       "      <th>36.0</th>\n",
       "      <td>5.414016e+07</td>\n",
       "      <td>12068.619647</td>\n",
       "      <td>10932.359224</td>\n",
       "      <td>12117.867378</td>\n",
       "      <td>10977.039762</td>\n",
       "      <td>0.087710</td>\n",
       "      <td>396.653589</td>\n",
       "      <td>359.340623</td>\n",
       "      <td>2781.911694</td>\n",
       "      <td>2507.954975</td>\n",
       "      <td>1.104108</td>\n",
       "      <td>6.634612</td>\n",
       "      <td>0.932495</td>\n",
       "      <td>11.337207</td>\n",
       "      <td>0.648464</td>\n",
       "      <td>2.192167</td>\n",
       "    </tr>\n",
       "  </tbody>\n",
       "</table>\n",
       "</div>"
      ],
      "text/plain": [
       "                       id     loan_amnt  loan_amnt_Eur   funded_amnt  \\\n",
       "term_months                                                            \n",
       "60.0         5.380579e+07  18767.114816   16990.717021  18779.934122   \n",
       "36.0         5.414016e+07  12068.619647   10932.359224  12117.867378   \n",
       "\n",
       "             funded_amnt_Eur  int_rate  installment  installment_Eur  \\\n",
       "term_months                                                            \n",
       "60.0            17003.015549  0.127281   460.521648       416.925819   \n",
       "36.0            10977.039762  0.087710   396.653589       359.340623   \n",
       "\n",
       "             total_pymnt  total_pymnt_Eur  exchange_rate  issue_date  \\\n",
       "term_months                                                            \n",
       "60.0         3332.454044      3004.084305       1.105046    6.642915   \n",
       "36.0         2781.911694      2507.954975       1.104108    6.634612   \n",
       "\n",
       "             loan_status  sub_grade  verification_status  addr_state  \n",
       "term_months                                                           \n",
       "60.0            0.929282  16.167787             0.740522    2.239581  \n",
       "36.0            0.932495  11.337207             0.648464    2.192167  "
      ]
     },
     "execution_count": 201,
     "metadata": {},
     "output_type": "execute_result"
    }
   ],
   "source": [
    "loan_1.groupby(['term_months']).mean().sort_values('loan_amnt', ascending = False)"
   ]
  },
  {
   "cell_type": "code",
   "execution_count": 204,
   "id": "2cb101d2",
   "metadata": {},
   "outputs": [
    {
     "data": {
      "text/html": [
       "<div>\n",
       "<style scoped>\n",
       "    .dataframe tbody tr th:only-of-type {\n",
       "        vertical-align: middle;\n",
       "    }\n",
       "\n",
       "    .dataframe tbody tr th {\n",
       "        vertical-align: top;\n",
       "    }\n",
       "\n",
       "    .dataframe thead th {\n",
       "        text-align: right;\n",
       "    }\n",
       "</style>\n",
       "<table border=\"1\" class=\"dataframe\">\n",
       "  <thead>\n",
       "    <tr style=\"text-align: right;\">\n",
       "      <th></th>\n",
       "      <th>id</th>\n",
       "      <th>loan_amnt</th>\n",
       "      <th>loan_amnt_Eur</th>\n",
       "      <th>funded_amnt</th>\n",
       "      <th>funded_amnt_Eur</th>\n",
       "      <th>int_rate</th>\n",
       "      <th>installment</th>\n",
       "      <th>installment_Eur</th>\n",
       "      <th>total_pymnt</th>\n",
       "      <th>total_pymnt_Eur</th>\n",
       "      <th>exchange_rate</th>\n",
       "      <th>issue_date</th>\n",
       "      <th>loan_status</th>\n",
       "      <th>sub_grade</th>\n",
       "      <th>verification_status</th>\n",
       "      <th>addr_state</th>\n",
       "    </tr>\n",
       "    <tr>\n",
       "      <th>term_months</th>\n",
       "      <th></th>\n",
       "      <th></th>\n",
       "      <th></th>\n",
       "      <th></th>\n",
       "      <th></th>\n",
       "      <th></th>\n",
       "      <th></th>\n",
       "      <th></th>\n",
       "      <th></th>\n",
       "      <th></th>\n",
       "      <th></th>\n",
       "      <th></th>\n",
       "      <th></th>\n",
       "      <th></th>\n",
       "      <th></th>\n",
       "      <th></th>\n",
       "    </tr>\n",
       "  </thead>\n",
       "  <tbody>\n",
       "    <tr>\n",
       "      <th>36.0</th>\n",
       "      <td>3.400544e+11</td>\n",
       "      <td>75803000.0</td>\n",
       "      <td>6.866615e+07</td>\n",
       "      <td>76112325.0</td>\n",
       "      <td>6.894679e+07</td>\n",
       "      <td>550.9090</td>\n",
       "      <td>2491381.19</td>\n",
       "      <td>2.257018e+06</td>\n",
       "      <td>1.747319e+07</td>\n",
       "      <td>1.575247e+07</td>\n",
       "      <td>6934.904230</td>\n",
       "      <td>41672.0</td>\n",
       "      <td>5857.0</td>\n",
       "      <td>71209.0</td>\n",
       "      <td>4073.0</td>\n",
       "      <td>13769.0</td>\n",
       "    </tr>\n",
       "    <tr>\n",
       "      <th>60.0</th>\n",
       "      <td>2.001037e+11</td>\n",
       "      <td>69794900.0</td>\n",
       "      <td>6.318848e+07</td>\n",
       "      <td>69842575.0</td>\n",
       "      <td>6.323421e+07</td>\n",
       "      <td>473.3581</td>\n",
       "      <td>1712680.01</td>\n",
       "      <td>1.550547e+06</td>\n",
       "      <td>1.239340e+07</td>\n",
       "      <td>1.117219e+07</td>\n",
       "      <td>4109.665479</td>\n",
       "      <td>24705.0</td>\n",
       "      <td>3456.0</td>\n",
       "      <td>60128.0</td>\n",
       "      <td>2754.0</td>\n",
       "      <td>8329.0</td>\n",
       "    </tr>\n",
       "  </tbody>\n",
       "</table>\n",
       "</div>"
      ],
      "text/plain": [
       "                       id   loan_amnt  loan_amnt_Eur  funded_amnt  \\\n",
       "term_months                                                         \n",
       "36.0         3.400544e+11  75803000.0   6.866615e+07   76112325.0   \n",
       "60.0         2.001037e+11  69794900.0   6.318848e+07   69842575.0   \n",
       "\n",
       "             funded_amnt_Eur  int_rate  installment  installment_Eur  \\\n",
       "term_months                                                            \n",
       "36.0            6.894679e+07  550.9090   2491381.19     2.257018e+06   \n",
       "60.0            6.323421e+07  473.3581   1712680.01     1.550547e+06   \n",
       "\n",
       "              total_pymnt  total_pymnt_Eur  exchange_rate  issue_date  \\\n",
       "term_months                                                             \n",
       "36.0         1.747319e+07     1.575247e+07    6934.904230     41672.0   \n",
       "60.0         1.239340e+07     1.117219e+07    4109.665479     24705.0   \n",
       "\n",
       "             loan_status  sub_grade  verification_status  addr_state  \n",
       "term_months                                                           \n",
       "36.0              5857.0    71209.0               4073.0     13769.0  \n",
       "60.0              3456.0    60128.0               2754.0      8329.0  "
      ]
     },
     "execution_count": 204,
     "metadata": {},
     "output_type": "execute_result"
    }
   ],
   "source": [
    "loan_1.groupby(['term_months']).sum().sort_values('loan_amnt', ascending = False)"
   ]
  },
  {
   "cell_type": "code",
   "execution_count": 205,
   "id": "8fed4ef2",
   "metadata": {},
   "outputs": [
    {
     "data": {
      "text/html": [
       "<div>\n",
       "<style scoped>\n",
       "    .dataframe tbody tr th:only-of-type {\n",
       "        vertical-align: middle;\n",
       "    }\n",
       "\n",
       "    .dataframe tbody tr th {\n",
       "        vertical-align: top;\n",
       "    }\n",
       "\n",
       "    .dataframe thead th {\n",
       "        text-align: right;\n",
       "    }\n",
       "</style>\n",
       "<table border=\"1\" class=\"dataframe\">\n",
       "  <thead>\n",
       "    <tr style=\"text-align: right;\">\n",
       "      <th></th>\n",
       "      <th>id</th>\n",
       "      <th>loan_amnt</th>\n",
       "      <th>loan_amnt_Eur</th>\n",
       "      <th>funded_amnt</th>\n",
       "      <th>funded_amnt_Eur</th>\n",
       "      <th>int_rate</th>\n",
       "      <th>installment</th>\n",
       "      <th>installment_Eur</th>\n",
       "      <th>total_pymnt</th>\n",
       "      <th>total_pymnt_Eur</th>\n",
       "      <th>exchange_rate</th>\n",
       "      <th>issue_date</th>\n",
       "      <th>loan_status</th>\n",
       "      <th>sub_grade</th>\n",
       "      <th>verification_status</th>\n",
       "      <th>addr_state</th>\n",
       "    </tr>\n",
       "    <tr>\n",
       "      <th>term_months</th>\n",
       "      <th></th>\n",
       "      <th></th>\n",
       "      <th></th>\n",
       "      <th></th>\n",
       "      <th></th>\n",
       "      <th></th>\n",
       "      <th></th>\n",
       "      <th></th>\n",
       "      <th></th>\n",
       "      <th></th>\n",
       "      <th></th>\n",
       "      <th></th>\n",
       "      <th></th>\n",
       "      <th></th>\n",
       "      <th></th>\n",
       "      <th></th>\n",
       "    </tr>\n",
       "  </thead>\n",
       "  <tbody>\n",
       "    <tr>\n",
       "      <th>36.0</th>\n",
       "      <td>6281</td>\n",
       "      <td>6281</td>\n",
       "      <td>6281</td>\n",
       "      <td>6281</td>\n",
       "      <td>6281</td>\n",
       "      <td>6281</td>\n",
       "      <td>6281</td>\n",
       "      <td>6281</td>\n",
       "      <td>6281</td>\n",
       "      <td>6281</td>\n",
       "      <td>6281</td>\n",
       "      <td>6281</td>\n",
       "      <td>6281</td>\n",
       "      <td>6281</td>\n",
       "      <td>6281</td>\n",
       "      <td>6281</td>\n",
       "    </tr>\n",
       "    <tr>\n",
       "      <th>60.0</th>\n",
       "      <td>3719</td>\n",
       "      <td>3719</td>\n",
       "      <td>3719</td>\n",
       "      <td>3719</td>\n",
       "      <td>3719</td>\n",
       "      <td>3719</td>\n",
       "      <td>3719</td>\n",
       "      <td>3719</td>\n",
       "      <td>3719</td>\n",
       "      <td>3719</td>\n",
       "      <td>3719</td>\n",
       "      <td>3719</td>\n",
       "      <td>3719</td>\n",
       "      <td>3719</td>\n",
       "      <td>3719</td>\n",
       "      <td>3719</td>\n",
       "    </tr>\n",
       "  </tbody>\n",
       "</table>\n",
       "</div>"
      ],
      "text/plain": [
       "               id  loan_amnt  loan_amnt_Eur  funded_amnt  funded_amnt_Eur  \\\n",
       "term_months                                                                 \n",
       "36.0         6281       6281           6281         6281             6281   \n",
       "60.0         3719       3719           3719         3719             3719   \n",
       "\n",
       "             int_rate  installment  installment_Eur  total_pymnt  \\\n",
       "term_months                                                        \n",
       "36.0             6281         6281             6281         6281   \n",
       "60.0             3719         3719             3719         3719   \n",
       "\n",
       "             total_pymnt_Eur  exchange_rate  issue_date  loan_status  \\\n",
       "term_months                                                            \n",
       "36.0                    6281           6281        6281         6281   \n",
       "60.0                    3719           3719        3719         3719   \n",
       "\n",
       "             sub_grade  verification_status  addr_state  \n",
       "term_months                                              \n",
       "36.0              6281                 6281        6281  \n",
       "60.0              3719                 3719        3719  "
      ]
     },
     "execution_count": 205,
     "metadata": {},
     "output_type": "execute_result"
    }
   ],
   "source": [
    "loan_1.groupby(['term_months']).count().sort_values('loan_amnt', ascending = False)"
   ]
  },
  {
   "cell_type": "code",
   "execution_count": null,
   "id": "fff0f729",
   "metadata": {},
   "outputs": [],
   "source": []
  }
 ],
 "metadata": {
  "kernelspec": {
   "display_name": "Python 3 (ipykernel)",
   "language": "python",
   "name": "python3"
  },
  "language_info": {
   "codemirror_mode": {
    "name": "ipython",
    "version": 3
   },
   "file_extension": ".py",
   "mimetype": "text/x-python",
   "name": "python",
   "nbconvert_exporter": "python",
   "pygments_lexer": "ipython3",
   "version": "3.9.12"
  }
 },
 "nbformat": 4,
 "nbformat_minor": 5
}
