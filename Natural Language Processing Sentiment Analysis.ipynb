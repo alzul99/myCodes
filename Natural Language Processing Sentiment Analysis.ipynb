{
 "cells": [
  {
   "cell_type": "code",
   "execution_count": 1,
   "id": "d6f358c0",
   "metadata": {},
   "outputs": [],
   "source": [
    "import pandas as pd\n",
    "import numpy as np\n",
    "import matplotlib.pyplot as plt\n",
    "import seaborn as sns\n",
    "sns.set()\n",
    "import string\n",
    "from sklearn.feature_extraction.text import TfidfVectorizer\n",
    "from sklearn.model_selection import train_test_split\n",
    "from sklearn.naive_bayes import MultinomialNB"
   ]
  },
  {
   "cell_type": "code",
   "execution_count": 2,
   "id": "9c825360",
   "metadata": {},
   "outputs": [
    {
     "data": {
      "text/html": [
       "<div>\n",
       "<style scoped>\n",
       "    .dataframe tbody tr th:only-of-type {\n",
       "        vertical-align: middle;\n",
       "    }\n",
       "\n",
       "    .dataframe tbody tr th {\n",
       "        vertical-align: top;\n",
       "    }\n",
       "\n",
       "    .dataframe thead th {\n",
       "        text-align: right;\n",
       "    }\n",
       "</style>\n",
       "<table border=\"1\" class=\"dataframe\">\n",
       "  <thead>\n",
       "    <tr style=\"text-align: right;\">\n",
       "      <th></th>\n",
       "      <th>asin</th>\n",
       "      <th>name</th>\n",
       "      <th>rating</th>\n",
       "      <th>date</th>\n",
       "      <th>verified</th>\n",
       "      <th>title</th>\n",
       "      <th>body</th>\n",
       "      <th>helpfulVotes</th>\n",
       "    </tr>\n",
       "  </thead>\n",
       "  <tbody>\n",
       "    <tr>\n",
       "      <th>0</th>\n",
       "      <td>B0000SX2UC</td>\n",
       "      <td>Janet</td>\n",
       "      <td>3</td>\n",
       "      <td>October 11, 2005</td>\n",
       "      <td>False</td>\n",
       "      <td>Def not best, but not worst</td>\n",
       "      <td>I had the Samsung A600 for awhile which is abs...</td>\n",
       "      <td>1.0</td>\n",
       "    </tr>\n",
       "    <tr>\n",
       "      <th>1</th>\n",
       "      <td>B0000SX2UC</td>\n",
       "      <td>Luke Wyatt</td>\n",
       "      <td>1</td>\n",
       "      <td>January 7, 2004</td>\n",
       "      <td>False</td>\n",
       "      <td>Text Messaging Doesn't Work</td>\n",
       "      <td>Due to a software issue between Nokia and Spri...</td>\n",
       "      <td>17.0</td>\n",
       "    </tr>\n",
       "    <tr>\n",
       "      <th>2</th>\n",
       "      <td>B0000SX2UC</td>\n",
       "      <td>Brooke</td>\n",
       "      <td>5</td>\n",
       "      <td>December 30, 2003</td>\n",
       "      <td>False</td>\n",
       "      <td>Love This Phone</td>\n",
       "      <td>This is a great, reliable phone. I also purcha...</td>\n",
       "      <td>5.0</td>\n",
       "    </tr>\n",
       "  </tbody>\n",
       "</table>\n",
       "</div>"
      ],
      "text/plain": [
       "         asin        name  rating               date  verified  \\\n",
       "0  B0000SX2UC       Janet       3   October 11, 2005     False   \n",
       "1  B0000SX2UC  Luke Wyatt       1    January 7, 2004     False   \n",
       "2  B0000SX2UC      Brooke       5  December 30, 2003     False   \n",
       "\n",
       "                         title  \\\n",
       "0  Def not best, but not worst   \n",
       "1  Text Messaging Doesn't Work   \n",
       "2              Love This Phone   \n",
       "\n",
       "                                                body  helpfulVotes  \n",
       "0  I had the Samsung A600 for awhile which is abs...           1.0  \n",
       "1  Due to a software issue between Nokia and Spri...          17.0  \n",
       "2  This is a great, reliable phone. I also purcha...           5.0  "
      ]
     },
     "execution_count": 2,
     "metadata": {},
     "output_type": "execute_result"
    }
   ],
   "source": [
    "reviews = pd.read_csv('reviews.csv')\n",
    "df_r = reviews.copy()\n",
    "df_r.head(3)"
   ]
  },
  {
   "cell_type": "code",
   "execution_count": 3,
   "id": "7803232c",
   "metadata": {
    "scrolled": true
   },
   "outputs": [
    {
     "data": {
      "text/html": [
       "<div>\n",
       "<style scoped>\n",
       "    .dataframe tbody tr th:only-of-type {\n",
       "        vertical-align: middle;\n",
       "    }\n",
       "\n",
       "    .dataframe tbody tr th {\n",
       "        vertical-align: top;\n",
       "    }\n",
       "\n",
       "    .dataframe thead th {\n",
       "        text-align: right;\n",
       "    }\n",
       "</style>\n",
       "<table border=\"1\" class=\"dataframe\">\n",
       "  <thead>\n",
       "    <tr style=\"text-align: right;\">\n",
       "      <th></th>\n",
       "      <th>asin</th>\n",
       "      <th>brand</th>\n",
       "      <th>title</th>\n",
       "      <th>url</th>\n",
       "      <th>image</th>\n",
       "      <th>rating</th>\n",
       "      <th>reviewUrl</th>\n",
       "      <th>totalReviews</th>\n",
       "      <th>price</th>\n",
       "      <th>originalPrice</th>\n",
       "    </tr>\n",
       "  </thead>\n",
       "  <tbody>\n",
       "    <tr>\n",
       "      <th>0</th>\n",
       "      <td>B0000SX2UC</td>\n",
       "      <td>NaN</td>\n",
       "      <td>Dual-Band / Tri-Mode Sprint PCS Phone w/ Voice...</td>\n",
       "      <td>https://www.amazon.com/Dual-Band-Tri-Mode-Acti...</td>\n",
       "      <td>https://m.media-amazon.com/images/I/2143EBQ210...</td>\n",
       "      <td>3.0</td>\n",
       "      <td>https://www.amazon.com/product-reviews/B0000SX2UC</td>\n",
       "      <td>14</td>\n",
       "      <td>0.00</td>\n",
       "      <td>0.0</td>\n",
       "    </tr>\n",
       "    <tr>\n",
       "      <th>1</th>\n",
       "      <td>B0009N5L7K</td>\n",
       "      <td>Motorola</td>\n",
       "      <td>Motorola I265 phone</td>\n",
       "      <td>https://www.amazon.com/Motorola-i265-I265-phon...</td>\n",
       "      <td>https://m.media-amazon.com/images/I/419WBAVDAR...</td>\n",
       "      <td>3.0</td>\n",
       "      <td>https://www.amazon.com/product-reviews/B0009N5L7K</td>\n",
       "      <td>7</td>\n",
       "      <td>49.95</td>\n",
       "      <td>0.0</td>\n",
       "    </tr>\n",
       "    <tr>\n",
       "      <th>2</th>\n",
       "      <td>B000SKTZ0S</td>\n",
       "      <td>Motorola</td>\n",
       "      <td>MOTOROLA C168i AT&amp;T CINGULAR PREPAID GOPHONE C...</td>\n",
       "      <td>https://www.amazon.com/MOTOROLA-C168i-CINGULAR...</td>\n",
       "      <td>https://m.media-amazon.com/images/I/71b+q3ydkI...</td>\n",
       "      <td>2.7</td>\n",
       "      <td>https://www.amazon.com/product-reviews/B000SKTZ0S</td>\n",
       "      <td>22</td>\n",
       "      <td>99.99</td>\n",
       "      <td>0.0</td>\n",
       "    </tr>\n",
       "  </tbody>\n",
       "</table>\n",
       "</div>"
      ],
      "text/plain": [
       "         asin     brand                                              title  \\\n",
       "0  B0000SX2UC       NaN  Dual-Band / Tri-Mode Sprint PCS Phone w/ Voice...   \n",
       "1  B0009N5L7K  Motorola                                Motorola I265 phone   \n",
       "2  B000SKTZ0S  Motorola  MOTOROLA C168i AT&T CINGULAR PREPAID GOPHONE C...   \n",
       "\n",
       "                                                 url  \\\n",
       "0  https://www.amazon.com/Dual-Band-Tri-Mode-Acti...   \n",
       "1  https://www.amazon.com/Motorola-i265-I265-phon...   \n",
       "2  https://www.amazon.com/MOTOROLA-C168i-CINGULAR...   \n",
       "\n",
       "                                               image  rating  \\\n",
       "0  https://m.media-amazon.com/images/I/2143EBQ210...     3.0   \n",
       "1  https://m.media-amazon.com/images/I/419WBAVDAR...     3.0   \n",
       "2  https://m.media-amazon.com/images/I/71b+q3ydkI...     2.7   \n",
       "\n",
       "                                           reviewUrl  totalReviews  price  \\\n",
       "0  https://www.amazon.com/product-reviews/B0000SX2UC            14   0.00   \n",
       "1  https://www.amazon.com/product-reviews/B0009N5L7K             7  49.95   \n",
       "2  https://www.amazon.com/product-reviews/B000SKTZ0S            22  99.99   \n",
       "\n",
       "   originalPrice  \n",
       "0            0.0  \n",
       "1            0.0  \n",
       "2            0.0  "
      ]
     },
     "execution_count": 3,
     "metadata": {},
     "output_type": "execute_result"
    }
   ],
   "source": [
    "products = pd.read_csv('E:/DataScience/Phyton/ml/NLP/GreatLearning/product_data.csv')\n",
    "df_p = products.copy()\n",
    "df_p.head(3)"
   ]
  },
  {
   "cell_type": "code",
   "execution_count": 4,
   "id": "4d6a5663",
   "metadata": {},
   "outputs": [
    {
     "data": {
      "text/plain": [
       "((67986, 8), (720, 10))"
      ]
     },
     "execution_count": 4,
     "metadata": {},
     "output_type": "execute_result"
    }
   ],
   "source": [
    "df_r.shape, df_p.shape"
   ]
  },
  {
   "cell_type": "code",
   "execution_count": 5,
   "id": "a919d2c9",
   "metadata": {},
   "outputs": [
    {
     "name": "stdout",
     "output_type": "stream",
     "text": [
      "Reveiws\n",
      "<class 'pandas.core.frame.DataFrame'>\n",
      "RangeIndex: 67986 entries, 0 to 67985\n",
      "Data columns (total 8 columns):\n",
      " #   Column        Non-Null Count  Dtype  \n",
      "---  ------        --------------  -----  \n",
      " 0   asin          67986 non-null  object \n",
      " 1   name          67984 non-null  object \n",
      " 2   rating        67986 non-null  int64  \n",
      " 3   date          67986 non-null  object \n",
      " 4   verified      67986 non-null  bool   \n",
      " 5   title         67972 non-null  object \n",
      " 6   body          67965 non-null  object \n",
      " 7   helpfulVotes  27215 non-null  float64\n",
      "dtypes: bool(1), float64(1), int64(1), object(5)\n",
      "memory usage: 3.7+ MB\n",
      "\n",
      "Products\n",
      "<class 'pandas.core.frame.DataFrame'>\n",
      "RangeIndex: 720 entries, 0 to 719\n",
      "Data columns (total 10 columns):\n",
      " #   Column         Non-Null Count  Dtype  \n",
      "---  ------         --------------  -----  \n",
      " 0   asin           720 non-null    object \n",
      " 1   brand          716 non-null    object \n",
      " 2   title          720 non-null    object \n",
      " 3   url            720 non-null    object \n",
      " 4   image          720 non-null    object \n",
      " 5   rating         720 non-null    float64\n",
      " 6   reviewUrl      720 non-null    object \n",
      " 7   totalReviews   720 non-null    int64  \n",
      " 8   price          720 non-null    float64\n",
      " 9   originalPrice  720 non-null    float64\n",
      "dtypes: float64(3), int64(1), object(6)\n",
      "memory usage: 56.4+ KB\n"
     ]
    }
   ],
   "source": [
    "print('Reveiws')\n",
    "df_r.info()\n",
    "print()\n",
    "print('Products')\n",
    "df_p.info()"
   ]
  },
  {
   "cell_type": "code",
   "execution_count": 6,
   "id": "02f1dead",
   "metadata": {
    "scrolled": true
   },
   "outputs": [
    {
     "name": "stdout",
     "output_type": "stream",
     "text": [
      "Index(['asin', 'rating', 'title', 'body'], dtype='object')\n",
      "Index(['asin', 'brand'], dtype='object')\n"
     ]
    }
   ],
   "source": [
    "df_r.drop(columns =['name', 'date', 'verified', 'helpfulVotes'], inplace =True)\n",
    "df_p.drop(columns =['title', 'url', 'image', 'rating', 'reviewUrl','totalReviews', 'price', 'originalPrice'],\n",
    "         inplace =True)\n",
    "print(df_r.columns)\n",
    "print(df_p.columns)"
   ]
  },
  {
   "cell_type": "code",
   "execution_count": 7,
   "id": "2b685de1",
   "metadata": {},
   "outputs": [
    {
     "name": "stdout",
     "output_type": "stream",
     "text": [
      "asin       0\n",
      "rating     0\n",
      "title     14\n",
      "body      21\n",
      "dtype: int64 asin     0\n",
      "brand    4\n",
      "dtype: int64\n",
      "\n",
      "asin      0\n",
      "rating    0\n",
      "title     0\n",
      "body      0\n",
      "dtype: int64 asin     0\n",
      "brand    0\n",
      "dtype: int64\n"
     ]
    }
   ],
   "source": [
    "print(df_r.isna().sum(), df_p.isna().sum())\n",
    "print()\n",
    "df_r = df_r.dropna()\n",
    "df_p = df_p.dropna()\n",
    "print(df_r.isna().sum(), df_p.isna().sum())"
   ]
  },
  {
   "cell_type": "code",
   "execution_count": 8,
   "id": "063d1c0c",
   "metadata": {},
   "outputs": [
    {
     "data": {
      "text/html": [
       "<div>\n",
       "<style scoped>\n",
       "    .dataframe tbody tr th:only-of-type {\n",
       "        vertical-align: middle;\n",
       "    }\n",
       "\n",
       "    .dataframe tbody tr th {\n",
       "        vertical-align: top;\n",
       "    }\n",
       "\n",
       "    .dataframe thead th {\n",
       "        text-align: right;\n",
       "    }\n",
       "</style>\n",
       "<table border=\"1\" class=\"dataframe\">\n",
       "  <thead>\n",
       "    <tr style=\"text-align: right;\">\n",
       "      <th></th>\n",
       "      <th>asin</th>\n",
       "      <th>rating</th>\n",
       "      <th>title</th>\n",
       "      <th>body</th>\n",
       "      <th>brand</th>\n",
       "    </tr>\n",
       "  </thead>\n",
       "  <tbody>\n",
       "    <tr>\n",
       "      <th>0</th>\n",
       "      <td>B0009N5L7K</td>\n",
       "      <td>1</td>\n",
       "      <td>Stupid phone</td>\n",
       "      <td>DON'T BUY OUT OF SERVICE</td>\n",
       "      <td>Motorola</td>\n",
       "    </tr>\n",
       "    <tr>\n",
       "      <th>1</th>\n",
       "      <td>B0009N5L7K</td>\n",
       "      <td>4</td>\n",
       "      <td>Exellent Service</td>\n",
       "      <td>I have been with nextel for nearly a year now ...</td>\n",
       "      <td>Motorola</td>\n",
       "    </tr>\n",
       "    <tr>\n",
       "      <th>2</th>\n",
       "      <td>B0009N5L7K</td>\n",
       "      <td>5</td>\n",
       "      <td>I love it</td>\n",
       "      <td>I just got it and have to say its easy to use,...</td>\n",
       "      <td>Motorola</td>\n",
       "    </tr>\n",
       "    <tr>\n",
       "      <th>3</th>\n",
       "      <td>B0009N5L7K</td>\n",
       "      <td>1</td>\n",
       "      <td>Phones locked</td>\n",
       "      <td>1 star because the phones locked so I have to ...</td>\n",
       "      <td>Motorola</td>\n",
       "    </tr>\n",
       "    <tr>\n",
       "      <th>4</th>\n",
       "      <td>B0009N5L7K</td>\n",
       "      <td>5</td>\n",
       "      <td>Excellent product</td>\n",
       "      <td>The product has been very good. I had used thi...</td>\n",
       "      <td>Motorola</td>\n",
       "    </tr>\n",
       "  </tbody>\n",
       "</table>\n",
       "</div>"
      ],
      "text/plain": [
       "         asin  rating              title  \\\n",
       "0  B0009N5L7K       1       Stupid phone   \n",
       "1  B0009N5L7K       4   Exellent Service   \n",
       "2  B0009N5L7K       5          I love it   \n",
       "3  B0009N5L7K       1      Phones locked   \n",
       "4  B0009N5L7K       5  Excellent product   \n",
       "\n",
       "                                                body     brand  \n",
       "0                           DON'T BUY OUT OF SERVICE  Motorola  \n",
       "1  I have been with nextel for nearly a year now ...  Motorola  \n",
       "2  I just got it and have to say its easy to use,...  Motorola  \n",
       "3  1 star because the phones locked so I have to ...  Motorola  \n",
       "4  The product has been very good. I had used thi...  Motorola  "
      ]
     },
     "execution_count": 8,
     "metadata": {},
     "output_type": "execute_result"
    }
   ],
   "source": [
    "# Merging both the tables on key ‘asin’\n",
    "df = df_r.merge(df_p, left_on='asin', right_on='asin')\n",
    "df.head()"
   ]
  },
  {
   "cell_type": "code",
   "execution_count": 9,
   "id": "3ada5fea",
   "metadata": {},
   "outputs": [
    {
     "data": {
      "text/plain": [
       "count    67756.000000\n",
       "mean         3.807840\n",
       "std          1.583129\n",
       "min          1.000000\n",
       "25%          3.000000\n",
       "50%          5.000000\n",
       "75%          5.000000\n",
       "max          5.000000\n",
       "Name: rating, dtype: float64"
      ]
     },
     "execution_count": 9,
     "metadata": {},
     "output_type": "execute_result"
    }
   ],
   "source": [
    "df['rating'].describe()"
   ]
  },
  {
   "cell_type": "code",
   "execution_count": 10,
   "id": "ceebd896",
   "metadata": {},
   "outputs": [
    {
     "data": {
      "text/plain": [
       "<AxesSubplot:xlabel='rating', ylabel='count'>"
      ]
     },
     "execution_count": 10,
     "metadata": {},
     "output_type": "execute_result"
    },
    {
     "data": {
      "image/png": "[encoded data removed]",
      "text/plain": [
       "<Figure size 720x360 with 1 Axes>"
      ]
     },
     "metadata": {},
     "output_type": "display_data"
    }
   ],
   "source": [
    "# 2.4 Visualize a countplot for rating and share insights\n",
    "plt.figure(figsize=(10,5))\n",
    "sns.countplot(x=df[\"rating\"])"
   ]
  },
  {
   "cell_type": "code",
   "execution_count": 11,
   "id": "5cf41cfa",
   "metadata": {},
   "outputs": [
    {
     "data": {
      "text/plain": [
       "<AxesSubplot:xlabel='brand', ylabel='count'>"
      ]
     },
     "execution_count": 11,
     "metadata": {},
     "output_type": "execute_result"
    },
    {
     "data": {
      "image/png": "[encoded data removed]",
      "text/plain": [
       "<Figure size 720x360 with 1 Axes>"
      ]
     },
     "metadata": {},
     "output_type": "display_data"
    }
   ],
   "source": [
    "plt.figure(figsize=(10,5))\n",
    "sns.countplot(x=df[\"brand\"])"
   ]
  },
  {
   "cell_type": "code",
   "execution_count": 12,
   "id": "09c3978d",
   "metadata": {},
   "outputs": [
    {
     "data": {
      "text/plain": [
       "<AxesSubplot:xlabel='rating', ylabel='count'>"
      ]
     },
     "execution_count": 12,
     "metadata": {},
     "output_type": "execute_result"
    },
    {
     "data": {
      "image/png": "[encoded data removed]",
      "text/plain": [
       "<Figure size 720x360 with 1 Axes>"
      ]
     },
     "metadata": {},
     "output_type": "display_data"
    }
   ],
   "source": [
    "plt.figure(figsize=(10,5))\n",
    "sns.countplot(x=df[\"rating\"])"
   ]
  },
  {
   "cell_type": "code",
   "execution_count": 13,
   "id": "e8a48325",
   "metadata": {},
   "outputs": [
    {
     "data": {
      "text/html": [
       "<div>\n",
       "<style scoped>\n",
       "    .dataframe tbody tr th:only-of-type {\n",
       "        vertical-align: middle;\n",
       "    }\n",
       "\n",
       "    .dataframe tbody tr th {\n",
       "        vertical-align: top;\n",
       "    }\n",
       "\n",
       "    .dataframe thead th {\n",
       "        text-align: right;\n",
       "    }\n",
       "</style>\n",
       "<table border=\"1\" class=\"dataframe\">\n",
       "  <thead>\n",
       "    <tr style=\"text-align: right;\">\n",
       "      <th></th>\n",
       "      <th>asin</th>\n",
       "      <th>rating</th>\n",
       "      <th>title</th>\n",
       "      <th>body</th>\n",
       "      <th>brand</th>\n",
       "      <th>sentiment</th>\n",
       "    </tr>\n",
       "  </thead>\n",
       "  <tbody>\n",
       "    <tr>\n",
       "      <th>0</th>\n",
       "      <td>B0009N5L7K</td>\n",
       "      <td>1</td>\n",
       "      <td>Stupid phone</td>\n",
       "      <td>DON'T BUY OUT OF SERVICE</td>\n",
       "      <td>Motorola</td>\n",
       "      <td>-1</td>\n",
       "    </tr>\n",
       "    <tr>\n",
       "      <th>1</th>\n",
       "      <td>B0009N5L7K</td>\n",
       "      <td>4</td>\n",
       "      <td>Exellent Service</td>\n",
       "      <td>I have been with nextel for nearly a year now ...</td>\n",
       "      <td>Motorola</td>\n",
       "      <td>1</td>\n",
       "    </tr>\n",
       "    <tr>\n",
       "      <th>2</th>\n",
       "      <td>B0009N5L7K</td>\n",
       "      <td>5</td>\n",
       "      <td>I love it</td>\n",
       "      <td>I just got it and have to say its easy to use,...</td>\n",
       "      <td>Motorola</td>\n",
       "      <td>1</td>\n",
       "    </tr>\n",
       "    <tr>\n",
       "      <th>3</th>\n",
       "      <td>B0009N5L7K</td>\n",
       "      <td>1</td>\n",
       "      <td>Phones locked</td>\n",
       "      <td>1 star because the phones locked so I have to ...</td>\n",
       "      <td>Motorola</td>\n",
       "      <td>-1</td>\n",
       "    </tr>\n",
       "    <tr>\n",
       "      <th>4</th>\n",
       "      <td>B0009N5L7K</td>\n",
       "      <td>5</td>\n",
       "      <td>Excellent product</td>\n",
       "      <td>The product has been very good. I had used thi...</td>\n",
       "      <td>Motorola</td>\n",
       "      <td>1</td>\n",
       "    </tr>\n",
       "  </tbody>\n",
       "</table>\n",
       "</div>"
      ],
      "text/plain": [
       "         asin  rating              title  \\\n",
       "0  B0009N5L7K       1       Stupid phone   \n",
       "1  B0009N5L7K       4   Exellent Service   \n",
       "2  B0009N5L7K       5          I love it   \n",
       "3  B0009N5L7K       1      Phones locked   \n",
       "4  B0009N5L7K       5  Excellent product   \n",
       "\n",
       "                                                body     brand  sentiment  \n",
       "0                           DON'T BUY OUT OF SERVICE  Motorola         -1  \n",
       "1  I have been with nextel for nearly a year now ...  Motorola          1  \n",
       "2  I just got it and have to say its easy to use,...  Motorola          1  \n",
       "3  1 star because the phones locked so I have to ...  Motorola         -1  \n",
       "4  The product has been very good. I had used thi...  Motorola          1  "
      ]
     },
     "execution_count": 13,
     "metadata": {},
     "output_type": "execute_result"
    }
   ],
   "source": [
    "# Mapping ‘Sentiment’ and Assign Sentiment= 1 when Rating >3; Sentiment= -1 when Rating <3 and Sentiment= 0 when rating = 3.\n",
    "target_map = { 4:1,5:1, 3:0, 1:-1,2:-1}\n",
    "df['sentiment'] = df['rating'].map(target_map)\n",
    "df.head()"
   ]
  },
  {
   "cell_type": "code",
   "execution_count": 14,
   "id": "1ecc0c5f",
   "metadata": {},
   "outputs": [
    {
     "data": {
      "text/plain": [
       "<AxesSubplot:xlabel='sentiment', ylabel='count'>"
      ]
     },
     "execution_count": 14,
     "metadata": {},
     "output_type": "execute_result"
    },
    {
     "data": {
      "image/png": "[encoded data removed]",
      "text/plain": [
       "<Figure size 432x360 with 1 Axes>"
      ]
     },
     "metadata": {},
     "output_type": "display_data"
    }
   ],
   "source": [
    "plt.figure(figsize=(6,5))\n",
    "sns.countplot(x=df[\"sentiment\"])"
   ]
  },
  {
   "cell_type": "code",
   "execution_count": 15,
   "id": "5afe2663",
   "metadata": {},
   "outputs": [
    {
     "data": {
      "text/html": [
       "<div>\n",
       "<style scoped>\n",
       "    .dataframe tbody tr th:only-of-type {\n",
       "        vertical-align: middle;\n",
       "    }\n",
       "\n",
       "    .dataframe tbody tr th {\n",
       "        vertical-align: top;\n",
       "    }\n",
       "\n",
       "    .dataframe thead th {\n",
       "        text-align: right;\n",
       "    }\n",
       "</style>\n",
       "<table border=\"1\" class=\"dataframe\">\n",
       "  <thead>\n",
       "    <tr style=\"text-align: right;\">\n",
       "      <th>brand</th>\n",
       "      <th>ASUS</th>\n",
       "      <th>Apple</th>\n",
       "      <th>Google</th>\n",
       "      <th>HUAWEI</th>\n",
       "      <th>Motorola</th>\n",
       "      <th>Nokia</th>\n",
       "      <th>OnePlus</th>\n",
       "      <th>Samsung</th>\n",
       "      <th>Sony</th>\n",
       "      <th>Xiaomi</th>\n",
       "    </tr>\n",
       "    <tr>\n",
       "      <th>sentiment</th>\n",
       "      <th></th>\n",
       "      <th></th>\n",
       "      <th></th>\n",
       "      <th></th>\n",
       "      <th></th>\n",
       "      <th></th>\n",
       "      <th></th>\n",
       "      <th></th>\n",
       "      <th></th>\n",
       "      <th></th>\n",
       "    </tr>\n",
       "  </thead>\n",
       "  <tbody>\n",
       "    <tr>\n",
       "      <th>-1</th>\n",
       "      <td>64</td>\n",
       "      <td>1434</td>\n",
       "      <td>1168</td>\n",
       "      <td>309</td>\n",
       "      <td>2104</td>\n",
       "      <td>1710</td>\n",
       "      <td>52</td>\n",
       "      <td>8531</td>\n",
       "      <td>770</td>\n",
       "      <td>460</td>\n",
       "    </tr>\n",
       "    <tr>\n",
       "      <th>0</th>\n",
       "      <td>25</td>\n",
       "      <td>322</td>\n",
       "      <td>267</td>\n",
       "      <td>124</td>\n",
       "      <td>653</td>\n",
       "      <td>540</td>\n",
       "      <td>13</td>\n",
       "      <td>2292</td>\n",
       "      <td>280</td>\n",
       "      <td>222</td>\n",
       "    </tr>\n",
       "    <tr>\n",
       "      <th>1</th>\n",
       "      <td>162</td>\n",
       "      <td>3388</td>\n",
       "      <td>2351</td>\n",
       "      <td>1792</td>\n",
       "      <td>6122</td>\n",
       "      <td>3664</td>\n",
       "      <td>282</td>\n",
       "      <td>22781</td>\n",
       "      <td>2145</td>\n",
       "      <td>3729</td>\n",
       "    </tr>\n",
       "  </tbody>\n",
       "</table>\n",
       "</div>"
      ],
      "text/plain": [
       "brand      ASUS  Apple  Google  HUAWEI  Motorola  Nokia  OnePlus  Samsung  \\\n",
       "sentiment                                                                   \n",
       "-1           64   1434    1168     309      2104   1710       52     8531   \n",
       " 0           25    322     267     124       653    540       13     2292   \n",
       " 1          162   3388    2351    1792      6122   3664      282    22781   \n",
       "\n",
       "brand      Sony  Xiaomi  \n",
       "sentiment                \n",
       "-1          770     460  \n",
       " 0          280     222  \n",
       " 1         2145    3729  "
      ]
     },
     "execution_count": 15,
     "metadata": {},
     "output_type": "execute_result"
    }
   ],
   "source": [
    "pd.crosstab(df.sentiment, df.brand)"
   ]
  },
  {
   "cell_type": "code",
   "execution_count": 16,
   "id": "f1723241",
   "metadata": {},
   "outputs": [
    {
     "data": {
      "text/plain": [
       "<AxesSubplot:xlabel='sentiment', ylabel='count'>"
      ]
     },
     "execution_count": 16,
     "metadata": {},
     "output_type": "execute_result"
    },
    {
     "data": {
      "image/png": "[encoded data removed]",
      "text/plain": [
       "<Figure size 720x576 with 1 Axes>"
      ]
     },
     "metadata": {},
     "output_type": "display_data"
    }
   ],
   "source": [
    "plt.figure(figsize=(10,8))\n",
    "sns.countplot(data=df, x=\"sentiment\", hue=\"brand\")"
   ]
  },
  {
   "cell_type": "code",
   "execution_count": 17,
   "id": "5eb1d0b0",
   "metadata": {},
   "outputs": [
    {
     "data": {
      "text/html": [
       "<div>\n",
       "<style scoped>\n",
       "    .dataframe tbody tr th:only-of-type {\n",
       "        vertical-align: middle;\n",
       "    }\n",
       "\n",
       "    .dataframe tbody tr th {\n",
       "        vertical-align: top;\n",
       "    }\n",
       "\n",
       "    .dataframe thead th {\n",
       "        text-align: right;\n",
       "    }\n",
       "</style>\n",
       "<table border=\"1\" class=\"dataframe\">\n",
       "  <thead>\n",
       "    <tr style=\"text-align: right;\">\n",
       "      <th></th>\n",
       "      <th>asin</th>\n",
       "      <th>rating</th>\n",
       "      <th>title</th>\n",
       "      <th>body</th>\n",
       "      <th>brand</th>\n",
       "      <th>sentiment</th>\n",
       "    </tr>\n",
       "  </thead>\n",
       "  <tbody>\n",
       "    <tr>\n",
       "      <th>0</th>\n",
       "      <td>B0009N5L7K</td>\n",
       "      <td>1</td>\n",
       "      <td>stupid phone</td>\n",
       "      <td>don't buy out of service</td>\n",
       "      <td>Motorola</td>\n",
       "      <td>-1</td>\n",
       "    </tr>\n",
       "    <tr>\n",
       "      <th>1</th>\n",
       "      <td>B0009N5L7K</td>\n",
       "      <td>4</td>\n",
       "      <td>exellent service</td>\n",
       "      <td>i have been with nextel for nearly a year now ...</td>\n",
       "      <td>Motorola</td>\n",
       "      <td>1</td>\n",
       "    </tr>\n",
       "    <tr>\n",
       "      <th>2</th>\n",
       "      <td>B0009N5L7K</td>\n",
       "      <td>5</td>\n",
       "      <td>i love it</td>\n",
       "      <td>i just got it and have to say its easy to use,...</td>\n",
       "      <td>Motorola</td>\n",
       "      <td>1</td>\n",
       "    </tr>\n",
       "    <tr>\n",
       "      <th>3</th>\n",
       "      <td>B0009N5L7K</td>\n",
       "      <td>1</td>\n",
       "      <td>phones locked</td>\n",
       "      <td>1 star because the phones locked so i have to ...</td>\n",
       "      <td>Motorola</td>\n",
       "      <td>-1</td>\n",
       "    </tr>\n",
       "    <tr>\n",
       "      <th>4</th>\n",
       "      <td>B0009N5L7K</td>\n",
       "      <td>5</td>\n",
       "      <td>excellent product</td>\n",
       "      <td>the product has been very good. i had used thi...</td>\n",
       "      <td>Motorola</td>\n",
       "      <td>1</td>\n",
       "    </tr>\n",
       "  </tbody>\n",
       "</table>\n",
       "</div>"
      ],
      "text/plain": [
       "         asin  rating              title  \\\n",
       "0  B0009N5L7K       1       stupid phone   \n",
       "1  B0009N5L7K       4   exellent service   \n",
       "2  B0009N5L7K       5          i love it   \n",
       "3  B0009N5L7K       1      phones locked   \n",
       "4  B0009N5L7K       5  excellent product   \n",
       "\n",
       "                                                body     brand  sentiment  \n",
       "0                           don't buy out of service  Motorola         -1  \n",
       "1  i have been with nextel for nearly a year now ...  Motorola          1  \n",
       "2  i just got it and have to say its easy to use,...  Motorola          1  \n",
       "3  1 star because the phones locked so i have to ...  Motorola         -1  \n",
       "4  the product has been very good. i had used thi...  Motorola          1  "
      ]
     },
     "execution_count": 17,
     "metadata": {},
     "output_type": "execute_result"
    }
   ],
   "source": [
    "df['title'] = df['title'].str.lower()\n",
    "df['body'] = df['body'].str.lower()\n",
    "df.head()"
   ]
  },
  {
   "cell_type": "code",
   "execution_count": 18,
   "id": "f11ec8d6",
   "metadata": {},
   "outputs": [],
   "source": [
    "# Removing all punctuations\n",
    "def remove_punctuations(text):\n",
    "    return text.translate(str.maketrans('','',string.punctuation))"
   ]
  },
  {
   "cell_type": "code",
   "execution_count": 19,
   "id": "95cb872a",
   "metadata": {},
   "outputs": [
    {
     "data": {
      "text/html": [
       "<div>\n",
       "<style scoped>\n",
       "    .dataframe tbody tr th:only-of-type {\n",
       "        vertical-align: middle;\n",
       "    }\n",
       "\n",
       "    .dataframe tbody tr th {\n",
       "        vertical-align: top;\n",
       "    }\n",
       "\n",
       "    .dataframe thead th {\n",
       "        text-align: right;\n",
       "    }\n",
       "</style>\n",
       "<table border=\"1\" class=\"dataframe\">\n",
       "  <thead>\n",
       "    <tr style=\"text-align: right;\">\n",
       "      <th></th>\n",
       "      <th>asin</th>\n",
       "      <th>rating</th>\n",
       "      <th>title</th>\n",
       "      <th>body</th>\n",
       "      <th>brand</th>\n",
       "      <th>sentiment</th>\n",
       "    </tr>\n",
       "  </thead>\n",
       "  <tbody>\n",
       "    <tr>\n",
       "      <th>0</th>\n",
       "      <td>B0009N5L7K</td>\n",
       "      <td>1</td>\n",
       "      <td>stupid phone</td>\n",
       "      <td>dont buy out of service</td>\n",
       "      <td>Motorola</td>\n",
       "      <td>-1</td>\n",
       "    </tr>\n",
       "    <tr>\n",
       "      <th>1</th>\n",
       "      <td>B0009N5L7K</td>\n",
       "      <td>4</td>\n",
       "      <td>exellent service</td>\n",
       "      <td>i have been with nextel for nearly a year now ...</td>\n",
       "      <td>Motorola</td>\n",
       "      <td>1</td>\n",
       "    </tr>\n",
       "    <tr>\n",
       "      <th>2</th>\n",
       "      <td>B0009N5L7K</td>\n",
       "      <td>5</td>\n",
       "      <td>i love it</td>\n",
       "      <td>i just got it and have to say its easy to use ...</td>\n",
       "      <td>Motorola</td>\n",
       "      <td>1</td>\n",
       "    </tr>\n",
       "    <tr>\n",
       "      <th>3</th>\n",
       "      <td>B0009N5L7K</td>\n",
       "      <td>1</td>\n",
       "      <td>phones locked</td>\n",
       "      <td>1 star because the phones locked so i have to ...</td>\n",
       "      <td>Motorola</td>\n",
       "      <td>-1</td>\n",
       "    </tr>\n",
       "    <tr>\n",
       "      <th>4</th>\n",
       "      <td>B0009N5L7K</td>\n",
       "      <td>5</td>\n",
       "      <td>excellent product</td>\n",
       "      <td>the product has been very good i had used this...</td>\n",
       "      <td>Motorola</td>\n",
       "      <td>1</td>\n",
       "    </tr>\n",
       "  </tbody>\n",
       "</table>\n",
       "</div>"
      ],
      "text/plain": [
       "         asin  rating              title  \\\n",
       "0  B0009N5L7K       1       stupid phone   \n",
       "1  B0009N5L7K       4   exellent service   \n",
       "2  B0009N5L7K       5          i love it   \n",
       "3  B0009N5L7K       1      phones locked   \n",
       "4  B0009N5L7K       5  excellent product   \n",
       "\n",
       "                                                body     brand  sentiment  \n",
       "0                            dont buy out of service  Motorola         -1  \n",
       "1  i have been with nextel for nearly a year now ...  Motorola          1  \n",
       "2  i just got it and have to say its easy to use ...  Motorola          1  \n",
       "3  1 star because the phones locked so i have to ...  Motorola         -1  \n",
       "4  the product has been very good i had used this...  Motorola          1  "
      ]
     },
     "execution_count": 19,
     "metadata": {},
     "output_type": "execute_result"
    }
   ],
   "source": [
    "df['body'] = df['body'].apply(remove_punctuations)\n",
    "df['title'] = df['title'].apply(remove_punctuations)\n",
    "df.head()"
   ]
  },
  {
   "cell_type": "code",
   "execution_count": 20,
   "id": "1d2eeaa4",
   "metadata": {},
   "outputs": [
    {
     "name": "stderr",
     "output_type": "stream",
     "text": [
      "[nltk_data] Downloading package stopwords to\n",
      "[nltk_data]     C:\\Users\\Patience\\AppData\\Roaming\\nltk_data...\n",
      "[nltk_data]   Package stopwords is already up-to-date!\n"
     ]
    }
   ],
   "source": [
    "#Removing stopwords\n",
    "import nltk\n",
    "nltk.download('stopwords')\n",
    "from nltk.corpus import stopwords\n",
    "stop = stopwords.words('english')"
   ]
  },
  {
   "cell_type": "code",
   "execution_count": 21,
   "id": "39332868",
   "metadata": {},
   "outputs": [],
   "source": [
    "def remove_stopwords(text):\n",
    "    r_text = ''\n",
    "    for item in text.split():\n",
    "        if item not in stop:\n",
    "            r_text = r_text + ' ' + item\n",
    "    return r_text.strip()"
   ]
  },
  {
   "cell_type": "code",
   "execution_count": 22,
   "id": "0fe7e73d",
   "metadata": {},
   "outputs": [
    {
     "data": {
      "text/plain": [
       "'dont buy service'"
      ]
     },
     "execution_count": 22,
     "metadata": {},
     "output_type": "execute_result"
    }
   ],
   "source": [
    "remove_stopwords(df.iloc[0,3])"
   ]
  },
  {
   "cell_type": "code",
   "execution_count": 23,
   "id": "244b33ee",
   "metadata": {
    "scrolled": true
   },
   "outputs": [
    {
     "data": {
      "text/html": [
       "<div>\n",
       "<style scoped>\n",
       "    .dataframe tbody tr th:only-of-type {\n",
       "        vertical-align: middle;\n",
       "    }\n",
       "\n",
       "    .dataframe tbody tr th {\n",
       "        vertical-align: top;\n",
       "    }\n",
       "\n",
       "    .dataframe thead th {\n",
       "        text-align: right;\n",
       "    }\n",
       "</style>\n",
       "<table border=\"1\" class=\"dataframe\">\n",
       "  <thead>\n",
       "    <tr style=\"text-align: right;\">\n",
       "      <th></th>\n",
       "      <th>asin</th>\n",
       "      <th>rating</th>\n",
       "      <th>title</th>\n",
       "      <th>body</th>\n",
       "      <th>brand</th>\n",
       "      <th>sentiment</th>\n",
       "    </tr>\n",
       "  </thead>\n",
       "  <tbody>\n",
       "    <tr>\n",
       "      <th>0</th>\n",
       "      <td>B0009N5L7K</td>\n",
       "      <td>1</td>\n",
       "      <td>stupid phone</td>\n",
       "      <td>dont buy service</td>\n",
       "      <td>Motorola</td>\n",
       "      <td>-1</td>\n",
       "    </tr>\n",
       "    <tr>\n",
       "      <th>1</th>\n",
       "      <td>B0009N5L7K</td>\n",
       "      <td>4</td>\n",
       "      <td>exellent service</td>\n",
       "      <td>nextel nearly year started time last year moto...</td>\n",
       "      <td>Motorola</td>\n",
       "      <td>1</td>\n",
       "    </tr>\n",
       "    <tr>\n",
       "      <th>2</th>\n",
       "      <td>B0009N5L7K</td>\n",
       "      <td>5</td>\n",
       "      <td>love</td>\n",
       "      <td>got say easy use hear person talking fine prob...</td>\n",
       "      <td>Motorola</td>\n",
       "      <td>1</td>\n",
       "    </tr>\n",
       "    <tr>\n",
       "      <th>3</th>\n",
       "      <td>B0009N5L7K</td>\n",
       "      <td>1</td>\n",
       "      <td>phones locked</td>\n",
       "      <td>1 star phones locked pay additional fees unlock</td>\n",
       "      <td>Motorola</td>\n",
       "      <td>-1</td>\n",
       "    </tr>\n",
       "    <tr>\n",
       "      <th>4</th>\n",
       "      <td>B0009N5L7K</td>\n",
       "      <td>5</td>\n",
       "      <td>excellent product</td>\n",
       "      <td>product good used cell phone one projects work...</td>\n",
       "      <td>Motorola</td>\n",
       "      <td>1</td>\n",
       "    </tr>\n",
       "  </tbody>\n",
       "</table>\n",
       "</div>"
      ],
      "text/plain": [
       "         asin  rating              title  \\\n",
       "0  B0009N5L7K       1       stupid phone   \n",
       "1  B0009N5L7K       4   exellent service   \n",
       "2  B0009N5L7K       5               love   \n",
       "3  B0009N5L7K       1      phones locked   \n",
       "4  B0009N5L7K       5  excellent product   \n",
       "\n",
       "                                                body     brand  sentiment  \n",
       "0                                   dont buy service  Motorola         -1  \n",
       "1  nextel nearly year started time last year moto...  Motorola          1  \n",
       "2  got say easy use hear person talking fine prob...  Motorola          1  \n",
       "3    1 star phones locked pay additional fees unlock  Motorola         -1  \n",
       "4  product good used cell phone one projects work...  Motorola          1  "
      ]
     },
     "execution_count": 23,
     "metadata": {},
     "output_type": "execute_result"
    }
   ],
   "source": [
    "df['body'] = df['body'].apply(remove_stopwords)\n",
    "df['title'] = df['title'].apply(remove_stopwords)\n",
    "df.head()"
   ]
  },
  {
   "cell_type": "code",
   "execution_count": 24,
   "id": "38307a91",
   "metadata": {},
   "outputs": [
    {
     "data": {
      "text/plain": [
       "<67756x2000 sparse matrix of type '<class 'numpy.float64'>'\n",
       "\twith 1338539 stored elements in Compressed Sparse Row format>"
      ]
     },
     "execution_count": 24,
     "metadata": {},
     "output_type": "execute_result"
    }
   ],
   "source": [
    "#TF-IDF vectorizer\n",
    "vectorizer = TfidfVectorizer(max_features= 2000)\n",
    "transformed_data = vectorizer.fit_transform(df['body'])\n",
    "transformed_data"
   ]
  },
  {
   "cell_type": "code",
   "execution_count": 25,
   "id": "edf889a4",
   "metadata": {},
   "outputs": [],
   "source": [
    "X = transformed_data\n",
    "Y = df['sentiment']"
   ]
  },
  {
   "cell_type": "code",
   "execution_count": 27,
   "id": "4ee08a17",
   "metadata": {},
   "outputs": [
    {
     "data": {
      "text/plain": [
       "( 1    0.685042\n",
       " -1    0.245037\n",
       "  0    0.069921\n",
       " Name: sentiment, dtype: float64,\n",
       "  1    0.685065\n",
       " -1    0.244982\n",
       "  0    0.069953\n",
       " Name: sentiment, dtype: float64)"
      ]
     },
     "execution_count": 27,
     "metadata": {},
     "output_type": "execute_result"
    }
   ],
   "source": [
    "#Splitting data \n",
    "Xtrain, Xtest, Ytrain, Ytest = train_test_split(X, Y, test_size =0.2, stratify = Y, random_state = 12)\n",
    "Ytrain.value_counts(normalize= True), Ytest.value_counts(normalize= True)"
   ]
  },
  {
   "cell_type": "code",
   "execution_count": 28,
   "id": "0673bbdb",
   "metadata": {
    "scrolled": true
   },
   "outputs": [
    {
     "data": {
      "text/html": [
       "<style>#sk-container-id-1 {color: black;background-color: white;}#sk-container-id-1 pre{padding: 0;}#sk-container-id-1 div.sk-toggleable {background-color: white;}#sk-container-id-1 label.sk-toggleable__label {cursor: pointer;display: block;width: 100%;margin-bottom: 0;padding: 0.3em;box-sizing: border-box;text-align: center;}#sk-container-id-1 label.sk-toggleable__label-arrow:before {content: \"▸\";float: left;margin-right: 0.25em;color: #696969;}#sk-container-id-1 label.sk-toggleable__label-arrow:hover:before {color: black;}#sk-container-id-1 div.sk-estimator:hover label.sk-toggleable__label-arrow:before {color: black;}#sk-container-id-1 div.sk-toggleable__content {max-height: 0;max-width: 0;overflow: hidden;text-align: left;background-color: #f0f8ff;}#sk-container-id-1 div.sk-toggleable__content pre {margin: 0.2em;color: black;border-radius: 0.25em;background-color: #f0f8ff;}#sk-container-id-1 input.sk-toggleable__control:checked~div.sk-toggleable__content {max-height: 200px;max-width: 100%;overflow: auto;}#sk-container-id-1 input.sk-toggleable__control:checked~label.sk-toggleable__label-arrow:before {content: \"▾\";}#sk-container-id-1 div.sk-estimator input.sk-toggleable__control:checked~label.sk-toggleable__label {background-color: #d4ebff;}#sk-container-id-1 div.sk-label input.sk-toggleable__control:checked~label.sk-toggleable__label {background-color: #d4ebff;}#sk-container-id-1 input.sk-hidden--visually {border: 0;clip: rect(1px 1px 1px 1px);clip: rect(1px, 1px, 1px, 1px);height: 1px;margin: -1px;overflow: hidden;padding: 0;position: absolute;width: 1px;}#sk-container-id-1 div.sk-estimator {font-family: monospace;background-color: #f0f8ff;border: 1px dotted black;border-radius: 0.25em;box-sizing: border-box;margin-bottom: 0.5em;}#sk-container-id-1 div.sk-estimator:hover {background-color: #d4ebff;}#sk-container-id-1 div.sk-parallel-item::after {content: \"\";width: 100%;border-bottom: 1px solid gray;flex-grow: 1;}#sk-container-id-1 div.sk-label:hover label.sk-toggleable__label {background-color: #d4ebff;}#sk-container-id-1 div.sk-serial::before {content: \"\";position: absolute;border-left: 1px solid gray;box-sizing: border-box;top: 0;bottom: 0;left: 50%;z-index: 0;}#sk-container-id-1 div.sk-serial {display: flex;flex-direction: column;align-items: center;background-color: white;padding-right: 0.2em;padding-left: 0.2em;position: relative;}#sk-container-id-1 div.sk-item {position: relative;z-index: 1;}#sk-container-id-1 div.sk-parallel {display: flex;align-items: stretch;justify-content: center;background-color: white;position: relative;}#sk-container-id-1 div.sk-item::before, #sk-container-id-1 div.sk-parallel-item::before {content: \"\";position: absolute;border-left: 1px solid gray;box-sizing: border-box;top: 0;bottom: 0;left: 50%;z-index: -1;}#sk-container-id-1 div.sk-parallel-item {display: flex;flex-direction: column;z-index: 1;position: relative;background-color: white;}#sk-container-id-1 div.sk-parallel-item:first-child::after {align-self: flex-end;width: 50%;}#sk-container-id-1 div.sk-parallel-item:last-child::after {align-self: flex-start;width: 50%;}#sk-container-id-1 div.sk-parallel-item:only-child::after {width: 0;}#sk-container-id-1 div.sk-dashed-wrapped {border: 1px dashed gray;margin: 0 0.4em 0.5em 0.4em;box-sizing: border-box;padding-bottom: 0.4em;background-color: white;}#sk-container-id-1 div.sk-label label {font-family: monospace;font-weight: bold;display: inline-block;line-height: 1.2em;}#sk-container-id-1 div.sk-label-container {text-align: center;}#sk-container-id-1 div.sk-container {/* jupyter's `normalize.less` sets `[hidden] { display: none; }` but bootstrap.min.css set `[hidden] { display: none !important; }` so we also need the `!important` here to be able to override the default hidden behavior on the sphinx rendered scikit-learn.org. See: https://github.com/scikit-learn/scikit-learn/issues/21755 */display: inline-block !important;position: relative;}#sk-container-id-1 div.sk-text-repr-fallback {display: none;}</style><div id=\"sk-container-id-1\" class=\"sk-top-container\"><div class=\"sk-text-repr-fallback\"><pre>MultinomialNB()</pre><b>In a Jupyter environment, please rerun this cell to show the HTML representation or trust the notebook. <br />On GitHub, the HTML representation is unable to render, please try loading this page with nbviewer.org.</b></div><div class=\"sk-container\" hidden><div class=\"sk-item\"><div class=\"sk-estimator sk-toggleable\"><input class=\"sk-toggleable__control sk-hidden--visually\" id=\"sk-estimator-id-1\" type=\"checkbox\" checked><label for=\"sk-estimator-id-1\" class=\"sk-toggleable__label sk-toggleable__label-arrow\">MultinomialNB</label><div class=\"sk-toggleable__content\"><pre>MultinomialNB()</pre></div></div></div></div></div>"
      ],
      "text/plain": [
       "MultinomialNB()"
      ]
     },
     "execution_count": 28,
     "metadata": {},
     "output_type": "execute_result"
    }
   ],
   "source": [
    "# Build a Classification model to predict sentiment \n",
    "model = MultinomialNB()\n",
    "model.fit(Xtrain, Ytrain)"
   ]
  },
  {
   "cell_type": "code",
   "execution_count": 29,
   "id": "5a3849bb",
   "metadata": {},
   "outputs": [
    {
     "name": "stdout",
     "output_type": "stream",
     "text": [
      "Training Score: 0.8324477898310088\n",
      "Test Score: 0.8321280991735537\n"
     ]
    }
   ],
   "source": [
    "#Accuracy score for train and test data both \n",
    "print('Training Score:', model.score(Xtrain, Ytrain))\n",
    "print('Test Score:', model.score(Xtest, Ytest))"
   ]
  },
  {
   "cell_type": "code",
   "execution_count": null,
   "id": "49b4c63d",
   "metadata": {},
   "outputs": [],
   "source": []
  }
 ],
 "metadata": {
  "kernelspec": {
   "display_name": "Python 3 (ipykernel)",
   "language": "python",
   "name": "python3"
  },
  "language_info": {
   "codemirror_mode": {
    "name": "ipython",
    "version": 3
   },
   "file_extension": ".py",
   "mimetype": "text/x-python",
   "name": "python",
   "nbconvert_exporter": "python",
   "pygments_lexer": "ipython3",
   "version": "3.9.12"
  }
 },
 "nbformat": 4,
 "nbformat_minor": 5
}
