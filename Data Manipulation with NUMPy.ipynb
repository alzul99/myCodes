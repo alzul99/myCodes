{
 "cells": [
  {
   "cell_type": "code",
   "execution_count": null,
   "id": "f9cd27b1",
   "metadata": {},
   "outputs": [],
   "source": [
    "import numpy as np"
   ]
  },
  {
   "cell_type": "code",
   "execution_count": null,
   "id": "705ad72d",
   "metadata": {},
   "outputs": [],
   "source": [
    "np.set_printoptions(suppress = True, linewidth = 100, precision = 2)"
   ]
  },
  {
   "cell_type": "markdown",
   "id": "694c7234",
   "metadata": {},
   "source": [
    "IMPORT DATA"
   ]
  },
  {
   "cell_type": "code",
   "execution_count": null,
   "id": "9e23e0ae",
   "metadata": {},
   "outputs": [],
   "source": [
    "raw_data=np.genfromtxt('E:\\\\DataScience\\\\Phyton\\\\Numpy\\\\loan-data.csv',delimiter = ';', skip_header =1,autostrip=True)\n",
    "raw_data"
   ]
  },
  {
   "cell_type": "markdown",
   "id": "6a4069c7",
   "metadata": {},
   "source": [
    "Missing Value"
   ]
  },
  {
   "cell_type": "code",
   "execution_count": null,
   "id": "d5b69c03",
   "metadata": {},
   "outputs": [],
   "source": [
    "np.isnan(raw_data).sum()"
   ]
  },
  {
   "cell_type": "code",
   "execution_count": null,
   "id": "5b2f98c8",
   "metadata": {},
   "outputs": [],
   "source": [
    "temp_fill = np.nanmax(raw_data)+1\n",
    "temp_mean = np.nanmean(raw_data, axis = 0)"
   ]
  },
  {
   "cell_type": "code",
   "execution_count": null,
   "id": "086e5a8f",
   "metadata": {},
   "outputs": [],
   "source": [
    "temp_mean"
   ]
  },
  {
   "cell_type": "code",
   "execution_count": null,
   "id": "5187a0e7",
   "metadata": {},
   "outputs": [],
   "source": [
    "temp_stats = np.array([np.nanmin(raw_data,axis =0),\n",
    "                  temp_mean,\n",
    "                  np.nanmax(raw_data,axis =0)])\n",
    "temp_stats"
   ]
  },
  {
   "cell_type": "markdown",
   "id": "36d2d31e",
   "metadata": {},
   "source": [
    "Splitting Dataset"
   ]
  },
  {
   "cell_type": "code",
   "execution_count": null,
   "id": "db8d347b",
   "metadata": {},
   "outputs": [],
   "source": [
    "column_strings=np.argwhere(np.isnan(temp_mean)).squeeze()\n",
    "column_strings"
   ]
  },
  {
   "cell_type": "code",
   "execution_count": null,
   "id": "9a95e178",
   "metadata": {},
   "outputs": [],
   "source": [
    "column_numerics=np.argwhere(np.isnan(temp_mean)==False).squeeze()\n",
    "column_numerics"
   ]
  },
  {
   "cell_type": "markdown",
   "id": "8a890061",
   "metadata": {},
   "source": [
    "reimporting data"
   ]
  },
  {
   "cell_type": "code",
   "execution_count": null,
   "id": "4b33c623",
   "metadata": {},
   "outputs": [],
   "source": [
    "loan_data_strings=np.genfromtxt('E:\\\\DataScience\\\\Phyton\\\\Numpy\\\\loan-data.csv',\n",
    "                               delimiter = ';', \n",
    "                               skip_header =1,\n",
    "                               autostrip=True, \n",
    "                               usecols = column_strings,\n",
    "                               dtype = np.str)\n",
    "loan_data_strings"
   ]
  },
  {
   "cell_type": "code",
   "execution_count": null,
   "id": "bfcca890",
   "metadata": {},
   "outputs": [],
   "source": [
    "loan_data_numerics=np.genfromtxt('E:\\\\DataScience\\\\Phyton\\\\Numpy\\\\loan-data.csv',\n",
    "                               delimiter = ';', \n",
    "                               skip_header =1,\n",
    "                               autostrip=True, \n",
    "                               usecols = column_numerics,\n",
    "                                filling_values = temp_fill)\n",
    "loan_data_numerics"
   ]
  },
  {
   "cell_type": "markdown",
   "id": "00a71f97",
   "metadata": {},
   "source": [
    "Loading Header"
   ]
  },
  {
   "cell_type": "code",
   "execution_count": null,
   "id": "8129cca9",
   "metadata": {},
   "outputs": [],
   "source": [
    "header_full = np.genfromtxt('E:\\\\DataScience\\\\Phyton\\\\Numpy\\\\loan-data.csv',\n",
    "                            delimiter = ';', \n",
    "                            skip_footer =raw_data.shape[0],\n",
    "                            dtype = np.str)\n",
    "header_full"
   ]
  },
  {
   "cell_type": "code",
   "execution_count": null,
   "id": "a0904eda",
   "metadata": {},
   "outputs": [],
   "source": [
    "header_strings, header_numerics = header_full[column_strings],header_full[column_numerics] \n",
    "header_strings, header_numerics"
   ]
  },
  {
   "cell_type": "markdown",
   "id": "d06f76d3",
   "metadata": {},
   "source": [
    "CheckPoint"
   ]
  },
  {
   "cell_type": "code",
   "execution_count": null,
   "id": "a510df5e",
   "metadata": {},
   "outputs": [],
   "source": [
    "def checkpoint(filename, checkpoint_header, checkpoint_data):\n",
    "    np.savez(filename, header =checkpoint_header, data =checkpoint_data)\n",
    "    checkpoint_variable = np.load(filename + \".npz\")\n",
    "    return (checkpoint_variable)"
   ]
  },
  {
   "cell_type": "code",
   "execution_count": null,
   "id": "00fa8b39",
   "metadata": {},
   "outputs": [],
   "source": [
    "checkpoint_test = checkpoint(\"checkpoint_test\",header_strings,loan_data_strings)"
   ]
  },
  {
   "cell_type": "code",
   "execution_count": null,
   "id": "d719aff9",
   "metadata": {},
   "outputs": [],
   "source": [
    "checkpoint_test[\"data\"]"
   ]
  },
  {
   "cell_type": "markdown",
   "id": "5993d514",
   "metadata": {},
   "source": [
    "Manipulating Strings"
   ]
  },
  {
   "cell_type": "code",
   "execution_count": null,
   "id": "5f1cec42",
   "metadata": {},
   "outputs": [],
   "source": [
    "header_strings"
   ]
  },
  {
   "cell_type": "code",
   "execution_count": null,
   "id": "e8c9d249",
   "metadata": {},
   "outputs": [],
   "source": [
    "header_strings[0]='issue_date'"
   ]
  },
  {
   "cell_type": "markdown",
   "id": "6c1d2872",
   "metadata": {},
   "source": [
    "Issue Date"
   ]
  },
  {
   "cell_type": "code",
   "execution_count": null,
   "id": "237d3785",
   "metadata": {},
   "outputs": [],
   "source": [
    "loan_data_strings[:,0]"
   ]
  },
  {
   "cell_type": "code",
   "execution_count": null,
   "id": "ee73d96e",
   "metadata": {},
   "outputs": [],
   "source": [
    "np.unique(loan_data_strings[:,0])"
   ]
  },
  {
   "cell_type": "code",
   "execution_count": null,
   "id": "b9adc29c",
   "metadata": {},
   "outputs": [],
   "source": [
    "months = np.array(['0','Jan','Feb','Mar','Apr','May','Jun','Jul','Aug','Sep','Oct','Nov','Dec'])"
   ]
  },
  {
   "cell_type": "code",
   "execution_count": null,
   "id": "8a965d8c",
   "metadata": {},
   "outputs": [],
   "source": [
    "loan_data_strings[:,0]=np.chararray.strip(loan_data_strings[:,0],'-15')"
   ]
  },
  {
   "cell_type": "code",
   "execution_count": null,
   "id": "30ab4425",
   "metadata": {},
   "outputs": [],
   "source": [
    "np.size(months)"
   ]
  },
  {
   "cell_type": "code",
   "execution_count": null,
   "id": "32a6c78a",
   "metadata": {},
   "outputs": [],
   "source": [
    "for i in range(13):\n",
    "    loan_data_strings[:,0]= np.where(loan_data_strings[:,0] == months[i],\n",
    "                                    i,\n",
    "                                    loan_data_strings[:,0])\n",
    "loan_data_strings[:,0]"
   ]
  },
  {
   "cell_type": "code",
   "execution_count": null,
   "id": "ffc1b02f",
   "metadata": {},
   "outputs": [],
   "source": [
    "loan_data_strings[:,0]=np.where(loan_data_strings[:,0]=='',0,loan_data_strings[:,0])"
   ]
  },
  {
   "cell_type": "code",
   "execution_count": null,
   "id": "d6becea3",
   "metadata": {},
   "outputs": [],
   "source": [
    "np.unique(loan_data_strings[:,0])"
   ]
  },
  {
   "cell_type": "code",
   "execution_count": null,
   "id": "f0612bea",
   "metadata": {},
   "outputs": [],
   "source": [
    "loan_data_strings[:,0]"
   ]
  },
  {
   "cell_type": "markdown",
   "id": "1187fcb5",
   "metadata": {},
   "source": [
    "Loan Grade"
   ]
  },
  {
   "cell_type": "code",
   "execution_count": null,
   "id": "78e9daa0",
   "metadata": {},
   "outputs": [],
   "source": [
    "header_strings"
   ]
  },
  {
   "cell_type": "code",
   "execution_count": null,
   "id": "4b552a85",
   "metadata": {},
   "outputs": [],
   "source": [
    "loan_data_strings[:,1]"
   ]
  },
  {
   "cell_type": "code",
   "execution_count": null,
   "id": "f449eb70",
   "metadata": {},
   "outputs": [],
   "source": [
    "np.unique(loan_data_strings[:,1])"
   ]
  },
  {
   "cell_type": "code",
   "execution_count": null,
   "id": "bcea74d0",
   "metadata": {},
   "outputs": [],
   "source": [
    "np.unique(loan_data_strings[:,1]).size"
   ]
  },
  {
   "cell_type": "code",
   "execution_count": null,
   "id": "e9ada0c2",
   "metadata": {},
   "outputs": [],
   "source": [
    "status_bad = np.array(['', 'Charged Off', 'Default', 'Late (31-120 days)'])"
   ]
  },
  {
   "cell_type": "code",
   "execution_count": null,
   "id": "755b9908",
   "metadata": {},
   "outputs": [],
   "source": [
    "loan_data_strings[:,1] = np.where(np.isin(loan_data_strings[:,1],status_bad),0,1)\n",
    "loan_data_strings[:,1]"
   ]
  },
  {
   "cell_type": "code",
   "execution_count": null,
   "id": "d8d92cde",
   "metadata": {},
   "outputs": [],
   "source": [
    "np.unique(loan_data_strings[:,1])"
   ]
  },
  {
   "cell_type": "code",
   "execution_count": null,
   "id": "705033fa",
   "metadata": {},
   "outputs": [],
   "source": [
    "header_strings"
   ]
  },
  {
   "cell_type": "markdown",
   "id": "4f426471",
   "metadata": {},
   "source": [
    "Term"
   ]
  },
  {
   "cell_type": "code",
   "execution_count": null,
   "id": "585cba66",
   "metadata": {},
   "outputs": [],
   "source": [
    "loan_data_strings[:,2]"
   ]
  },
  {
   "cell_type": "code",
   "execution_count": null,
   "id": "52783da9",
   "metadata": {},
   "outputs": [],
   "source": [
    "np.unique(loan_data_strings[:,2])"
   ]
  },
  {
   "cell_type": "code",
   "execution_count": null,
   "id": "fedca5bb",
   "metadata": {},
   "outputs": [],
   "source": [
    "header_strings[2]='term_months'\n",
    "header_strings"
   ]
  },
  {
   "cell_type": "code",
   "execution_count": null,
   "id": "138435cf",
   "metadata": {},
   "outputs": [],
   "source": [
    "loan_data_strings[:,2]= np.chararray.strip(loan_data_strings[:,2], ' months')\n",
    "loan_data_strings[:,2]"
   ]
  },
  {
   "cell_type": "code",
   "execution_count": null,
   "id": "3aec5082",
   "metadata": {},
   "outputs": [],
   "source": [
    "loan_data_strings[:,2] = np.where(loan_data_strings[:,2] == '',\n",
    "                                 60,\n",
    "                                 loan_data_strings[:,2])"
   ]
  },
  {
   "cell_type": "code",
   "execution_count": null,
   "id": "f3e113ac",
   "metadata": {},
   "outputs": [],
   "source": [
    "np.unique(loan_data_strings[:,2])"
   ]
  },
  {
   "cell_type": "markdown",
   "id": "337e6115",
   "metadata": {},
   "source": [
    "Grading"
   ]
  },
  {
   "cell_type": "code",
   "execution_count": null,
   "id": "e8adcb53",
   "metadata": {},
   "outputs": [],
   "source": [
    "header_strings"
   ]
  },
  {
   "cell_type": "code",
   "execution_count": null,
   "id": "a15d54ca",
   "metadata": {},
   "outputs": [],
   "source": [
    "loan_data_strings[:,3:5]"
   ]
  },
  {
   "cell_type": "code",
   "execution_count": null,
   "id": "1bfb6c97",
   "metadata": {},
   "outputs": [],
   "source": [
    "np.unique(loan_data_strings[:,3])"
   ]
  },
  {
   "cell_type": "code",
   "execution_count": null,
   "id": "41dd0c84",
   "metadata": {},
   "outputs": [],
   "source": [
    "np.unique(loan_data_strings[:,4])"
   ]
  },
  {
   "cell_type": "markdown",
   "id": "61879a15",
   "metadata": {},
   "source": [
    "Filling SubGrade"
   ]
  },
  {
   "cell_type": "code",
   "execution_count": null,
   "id": "eacb4e9a",
   "metadata": {},
   "outputs": [],
   "source": [
    "for i in np.unique(loan_data_strings[:,3])[1:]:\n",
    "    loan_data_strings[:,4] = np.where((loan_data_strings[:,4] == ' ') & (loan_data_strings[:,3] == i),\n",
    "                                      i +'5',\n",
    "                                      loan_data_strings[:,4])"
   ]
  },
  {
   "cell_type": "code",
   "execution_count": null,
   "id": "bee671e1",
   "metadata": {},
   "outputs": [],
   "source": [
    "np.unique(loan_data_strings[:,4], return_counts = True, return_index = True)"
   ]
  },
  {
   "cell_type": "code",
   "execution_count": null,
   "id": "94311d06",
   "metadata": {},
   "outputs": [],
   "source": [
    "loan_data_strings[:,4]= np.where(loan_data_strings[:,4] == '',\n",
    "                                'H1',\n",
    "                                loan_data_strings[:,4])"
   ]
  },
  {
   "cell_type": "code",
   "execution_count": null,
   "id": "b283a2f4",
   "metadata": {
    "scrolled": true
   },
   "outputs": [],
   "source": [
    "np.unique(loan_data_strings[:,3])"
   ]
  },
  {
   "cell_type": "markdown",
   "id": "4e0ba051",
   "metadata": {},
   "source": [
    "Deleting Column Grade"
   ]
  },
  {
   "cell_type": "code",
   "execution_count": null,
   "id": "2def7641",
   "metadata": {},
   "outputs": [],
   "source": [
    "loan_data_strings = np.delete(loan_data_strings,3,axis=1)"
   ]
  },
  {
   "cell_type": "code",
   "execution_count": null,
   "id": "642041c5",
   "metadata": {},
   "outputs": [],
   "source": [
    "loan_data_strings[:,3]"
   ]
  },
  {
   "cell_type": "code",
   "execution_count": null,
   "id": "fcf64f25",
   "metadata": {},
   "outputs": [],
   "source": [
    "header_strings = np.delete(header_strings,3)"
   ]
  },
  {
   "cell_type": "code",
   "execution_count": null,
   "id": "e96bd6ae",
   "metadata": {},
   "outputs": [],
   "source": [
    "header_strings"
   ]
  },
  {
   "cell_type": "markdown",
   "id": "d9d8f21f",
   "metadata": {},
   "source": [
    "Converting SubGrade"
   ]
  },
  {
   "cell_type": "code",
   "execution_count": null,
   "id": "9f8fd607",
   "metadata": {},
   "outputs": [],
   "source": [
    "np.unique(loan_data_strings[:,3]).shape"
   ]
  },
  {
   "cell_type": "code",
   "execution_count": null,
   "id": "bb067757",
   "metadata": {},
   "outputs": [],
   "source": [
    "keys = list(np.unique(loan_data_strings[:,3]))\n",
    "values = list(range(1,np.unique(loan_data_strings[:,3]).shape[0]+1))\n",
    "dict_subgrade = dict(zip(keys,values))\n",
    "dict_subgrade"
   ]
  },
  {
   "cell_type": "code",
   "execution_count": null,
   "id": "3394af5d",
   "metadata": {},
   "outputs": [],
   "source": [
    "for i in list(np.unique(loan_data_strings[:,3])):\n",
    "    loan_data_strings[:,3] = np.where(loan_data_strings[:,3] == i,\n",
    "                                    dict_subgrade[i],\n",
    "                                    loan_data_strings[:,3])"
   ]
  },
  {
   "cell_type": "markdown",
   "id": "291b73da",
   "metadata": {},
   "source": [
    "Verification"
   ]
  },
  {
   "cell_type": "code",
   "execution_count": null,
   "id": "538b3172",
   "metadata": {},
   "outputs": [],
   "source": [
    "header_strings"
   ]
  },
  {
   "cell_type": "code",
   "execution_count": null,
   "id": "c4b78284",
   "metadata": {},
   "outputs": [],
   "source": [
    "loan_data_strings[:,4]"
   ]
  },
  {
   "cell_type": "code",
   "execution_count": null,
   "id": "561ffd51",
   "metadata": {},
   "outputs": [],
   "source": [
    "np.unique(loan_data_strings[:,4])"
   ]
  },
  {
   "cell_type": "code",
   "execution_count": null,
   "id": "3a8f1ae9",
   "metadata": {},
   "outputs": [],
   "source": [
    "loan_data_strings[:,4]=np.where((loan_data_strings[:,4] =='') | (loan_data_strings[:,4] == 'Not Verified'),0,1)"
   ]
  },
  {
   "cell_type": "code",
   "execution_count": null,
   "id": "12dda13e",
   "metadata": {},
   "outputs": [],
   "source": [
    "np.unique(loan_data_strings[:,4])"
   ]
  },
  {
   "cell_type": "markdown",
   "id": "786ab65d",
   "metadata": {},
   "source": [
    "URL"
   ]
  },
  {
   "cell_type": "code",
   "execution_count": null,
   "id": "0146a26e",
   "metadata": {},
   "outputs": [],
   "source": [
    "loan_data_strings[:,5]"
   ]
  },
  {
   "cell_type": "code",
   "execution_count": null,
   "id": "c4309d61",
   "metadata": {},
   "outputs": [],
   "source": [
    "loan_data_strings[:,5] = np.chararray.strip(loan_data_strings[:,5],\n",
    "                                            'https://www.lendingclub.com/browse/loanDetail.action?loan_id=')"
   ]
  },
  {
   "cell_type": "code",
   "execution_count": null,
   "id": "699e2fd8",
   "metadata": {},
   "outputs": [],
   "source": [
    "loan_data_strings[:,5]"
   ]
  },
  {
   "cell_type": "code",
   "execution_count": null,
   "id": "aa6f0c41",
   "metadata": {},
   "outputs": [],
   "source": [
    "header_full"
   ]
  },
  {
   "cell_type": "code",
   "execution_count": null,
   "id": "88513a67",
   "metadata": {},
   "outputs": [],
   "source": [
    "loan_data_numerics[:,0]"
   ]
  },
  {
   "cell_type": "code",
   "execution_count": null,
   "id": "bde50aeb",
   "metadata": {},
   "outputs": [],
   "source": [
    "loan_data_strings[:,5].astype(dtype= np.int32)"
   ]
  },
  {
   "cell_type": "code",
   "execution_count": null,
   "id": "4c21248b",
   "metadata": {},
   "outputs": [],
   "source": [
    "loan_data_numerics[:,0].astype(dtype= np.int32)"
   ]
  },
  {
   "cell_type": "code",
   "execution_count": null,
   "id": "3f266adc",
   "metadata": {},
   "outputs": [],
   "source": [
    "np.array_equal(loan_data_strings[:,5].astype(dtype= np.int32),loan_data_numerics[:,0].astype(dtype= np.int32))"
   ]
  },
  {
   "cell_type": "code",
   "execution_count": null,
   "id": "0b6cde1d",
   "metadata": {},
   "outputs": [],
   "source": [
    "loan_data_strings = np.delete(loan_data_strings, 5, axis=1)"
   ]
  },
  {
   "cell_type": "code",
   "execution_count": null,
   "id": "349263b6",
   "metadata": {},
   "outputs": [],
   "source": [
    "loan_data_strings"
   ]
  },
  {
   "cell_type": "code",
   "execution_count": null,
   "id": "1b3b7390",
   "metadata": {},
   "outputs": [],
   "source": [
    "header_strings = np.delete(header_strings, 5)"
   ]
  },
  {
   "cell_type": "code",
   "execution_count": null,
   "id": "1ead3395",
   "metadata": {},
   "outputs": [],
   "source": [
    "header_strings"
   ]
  },
  {
   "cell_type": "markdown",
   "id": "8074915e",
   "metadata": {},
   "source": [
    "STATE ADDRESSES"
   ]
  },
  {
   "cell_type": "code",
   "execution_count": null,
   "id": "ce8e3015",
   "metadata": {},
   "outputs": [],
   "source": [
    "loan_data_strings[:,5]"
   ]
  },
  {
   "cell_type": "code",
   "execution_count": null,
   "id": "86f26c46",
   "metadata": {},
   "outputs": [],
   "source": [
    "np.unique(loan_data_strings[:,5], return_counts = True)"
   ]
  },
  {
   "cell_type": "code",
   "execution_count": null,
   "id": "2d43b2ec",
   "metadata": {},
   "outputs": [],
   "source": [
    "states_names, states_count = np.unique(loan_data_strings[:,5], return_counts = True)\n",
    "states_names, states_count"
   ]
  },
  {
   "cell_type": "code",
   "execution_count": null,
   "id": "2dba3214",
   "metadata": {},
   "outputs": [],
   "source": [
    "states_count_sorted = np.argsort(-states_count)"
   ]
  },
  {
   "cell_type": "code",
   "execution_count": null,
   "id": "8bc69da7",
   "metadata": {},
   "outputs": [],
   "source": [
    "states_names[states_count_sorted], states_count[states_count_sorted]"
   ]
  },
  {
   "cell_type": "code",
   "execution_count": null,
   "id": "db62a6f7",
   "metadata": {},
   "outputs": [],
   "source": [
    "loan_data_strings[:,5] = np.where(loan_data_strings[:,5]=='',0,loan_data_strings[:,5])"
   ]
  },
  {
   "cell_type": "code",
   "execution_count": null,
   "id": "a8f26192",
   "metadata": {},
   "outputs": [],
   "source": [
    "np.unique(loan_data_strings[:,5])"
   ]
  },
  {
   "cell_type": "code",
   "execution_count": null,
   "id": "f4138cc7",
   "metadata": {},
   "outputs": [],
   "source": [
    "states_west = np.array(['WA', 'OR','CA','NV','ID','MT', 'WY','UT','CO', 'AZ','NM','HI','AK'])\n",
    "states_south = np.array(['TX','OK','AR','LA','MS','AL','TN','KY','FL','GA','SC','NC','VA','WV','MD','DE','DC'])\n",
    "states_midwest = np.array(['ND','SD','NE','KS','MN','IA','MO','WI','IL','IN','MI','OH'])\n",
    "states_east = np.array(['PA','NY','NJ','CT','MA','VT','NH','ME','RI'])"
   ]
  },
  {
   "cell_type": "code",
   "execution_count": null,
   "id": "01c58c71",
   "metadata": {},
   "outputs": [],
   "source": [
    "loan_data_strings[:,5] = np.where(np.isin(loan_data_strings[:,5],states_west),1,loan_data_strings[:,5])\n",
    "loan_data_strings[:,5] = np.where(np.isin(loan_data_strings[:,5],states_south),2,loan_data_strings[:,5])\n",
    "loan_data_strings[:,5] = np.where(np.isin(loan_data_strings[:,5],states_midwest),3,loan_data_strings[:,5])\n",
    "loan_data_strings[:,5] = np.where(np.isin(loan_data_strings[:,5],states_east),4,loan_data_strings[:,5])"
   ]
  },
  {
   "cell_type": "code",
   "execution_count": null,
   "id": "84d181c4",
   "metadata": {},
   "outputs": [],
   "source": [
    "np.unique(loan_data_strings[:,5])"
   ]
  },
  {
   "cell_type": "markdown",
   "id": "85a9cf6b",
   "metadata": {},
   "source": [
    "##Converting Strings to Numericals"
   ]
  },
  {
   "cell_type": "code",
   "execution_count": null,
   "id": "f8532255",
   "metadata": {},
   "outputs": [],
   "source": [
    "loan_data_strings"
   ]
  },
  {
   "cell_type": "code",
   "execution_count": null,
   "id": "0293bf53",
   "metadata": {},
   "outputs": [],
   "source": [
    "loan_data_strings = loan_data_strings.astype(dtype=np.int)"
   ]
  },
  {
   "cell_type": "code",
   "execution_count": null,
   "id": "bf43ce53",
   "metadata": {},
   "outputs": [],
   "source": [
    "loan_data_strings"
   ]
  },
  {
   "cell_type": "markdown",
   "id": "fad7707c",
   "metadata": {},
   "source": [
    "CheckPoint Strings"
   ]
  },
  {
   "cell_type": "code",
   "execution_count": null,
   "id": "492b9584",
   "metadata": {},
   "outputs": [],
   "source": [
    "Checkpoint_strings = checkpoint(\"checkpoint_strings\", header_strings, loan_data_strings)"
   ]
  },
  {
   "cell_type": "code",
   "execution_count": null,
   "id": "26c82801",
   "metadata": {},
   "outputs": [],
   "source": [
    "Checkpoint_strings['header']"
   ]
  },
  {
   "cell_type": "code",
   "execution_count": null,
   "id": "2b4b5ab5",
   "metadata": {},
   "outputs": [],
   "source": [
    "Checkpoint_strings['data']"
   ]
  },
  {
   "cell_type": "code",
   "execution_count": null,
   "id": "9dad2578",
   "metadata": {},
   "outputs": [],
   "source": [
    "np.array_equal(Checkpoint_strings['data'], loan_data_strings)"
   ]
  },
  {
   "cell_type": "markdown",
   "id": "c42e5374",
   "metadata": {},
   "source": [
    "Numeric Data Manipulation"
   ]
  },
  {
   "cell_type": "code",
   "execution_count": null,
   "id": "35e591b4",
   "metadata": {},
   "outputs": [],
   "source": [
    "header_numerics"
   ]
  },
  {
   "cell_type": "code",
   "execution_count": null,
   "id": "1615350d",
   "metadata": {},
   "outputs": [],
   "source": [
    "loan_data_numerics"
   ]
  },
  {
   "cell_type": "code",
   "execution_count": null,
   "id": "7418c04e",
   "metadata": {},
   "outputs": [],
   "source": [
    "np.isnan(loan_data_numerics).sum()"
   ]
  },
  {
   "cell_type": "markdown",
   "id": "f04bc90e",
   "metadata": {},
   "source": [
    "ID"
   ]
  },
  {
   "cell_type": "code",
   "execution_count": null,
   "id": "8b3afe3a",
   "metadata": {},
   "outputs": [],
   "source": [
    "temp_fill"
   ]
  },
  {
   "cell_type": "code",
   "execution_count": null,
   "id": "c8dffdb8",
   "metadata": {},
   "outputs": [],
   "source": [
    "np.isin(loan_data_numerics[:,0],temp_fill).sum()"
   ]
  },
  {
   "cell_type": "code",
   "execution_count": null,
   "id": "14b937fa",
   "metadata": {},
   "outputs": [],
   "source": [
    "loan_data_numerics[:,0].astype(np.int)"
   ]
  },
  {
   "cell_type": "code",
   "execution_count": null,
   "id": "ff49c141",
   "metadata": {},
   "outputs": [],
   "source": [
    "loan_data_numerics[:,0] = loan_data_numerics[:,0].astype(dtype=np.int)\n",
    "loan_data_numerics"
   ]
  },
  {
   "cell_type": "markdown",
   "id": "1fc8f1f7",
   "metadata": {},
   "source": [
    "Temporary Stats"
   ]
  },
  {
   "cell_type": "code",
   "execution_count": null,
   "id": "ecd255e8",
   "metadata": {},
   "outputs": [],
   "source": [
    "temp_stats"
   ]
  },
  {
   "cell_type": "code",
   "execution_count": null,
   "id": "03f7b48a",
   "metadata": {},
   "outputs": [],
   "source": [
    "temp_stats[:,column_numerics]"
   ]
  },
  {
   "cell_type": "code",
   "execution_count": null,
   "id": "e8a12573",
   "metadata": {},
   "outputs": [],
   "source": [
    "header_numerics"
   ]
  },
  {
   "cell_type": "markdown",
   "id": "b1d5eab3",
   "metadata": {},
   "source": [
    "Substituting Funded Amount, Min Value"
   ]
  },
  {
   "cell_type": "code",
   "execution_count": null,
   "id": "eedc0794",
   "metadata": {},
   "outputs": [],
   "source": [
    "np.isin(loan_data_numerics[:,2],temp_fill).sum()"
   ]
  },
  {
   "cell_type": "code",
   "execution_count": null,
   "id": "174d4665",
   "metadata": {},
   "outputs": [],
   "source": [
    "np.argwhere(np.isin(loan_data_numerics[:,2],temp_fill))"
   ]
  },
  {
   "cell_type": "code",
   "execution_count": null,
   "id": "2204b23c",
   "metadata": {},
   "outputs": [],
   "source": [
    "loan_data_numerics[:,2]= np.where(loan_data_numerics[:,2] == temp_fill,\n",
    "                                 temp_stats[0,column_numerics[2]],\n",
    "                                 loan_data_numerics[:,2])"
   ]
  },
  {
   "cell_type": "code",
   "execution_count": null,
   "id": "a71e686d",
   "metadata": {},
   "outputs": [],
   "source": [
    "np.isin(loan_data_numerics[:,2],temp_fill).sum()"
   ]
  },
  {
   "cell_type": "code",
   "execution_count": null,
   "id": "7429f8b8",
   "metadata": {},
   "outputs": [],
   "source": [
    "header_numerics"
   ]
  },
  {
   "cell_type": "markdown",
   "id": "b6b7b5ab",
   "metadata": {},
   "source": [
    "'loan_amnt', 'int_rate', 'installment', 'total_pymnt' Max Value"
   ]
  },
  {
   "cell_type": "code",
   "execution_count": null,
   "id": "63f117e7",
   "metadata": {},
   "outputs": [],
   "source": [
    "for i in [1,3,4,5]:\n",
    "    loan_data_numerics[:,i]= np.where(loan_data_numerics[:,i] == temp_fill,\n",
    "                                 temp_stats[0,column_numerics[i]],\n",
    "                                 loan_data_numerics[:,i])"
   ]
  },
  {
   "cell_type": "code",
   "execution_count": null,
   "id": "166d2afc",
   "metadata": {},
   "outputs": [],
   "source": [
    "np.isin(loan_data_numerics,temp_fill).sum()"
   ]
  },
  {
   "cell_type": "markdown",
   "id": "5c401ed6",
   "metadata": {},
   "source": [
    "USD-Euro Conversion"
   ]
  },
  {
   "cell_type": "code",
   "execution_count": null,
   "id": "0d4dde62",
   "metadata": {},
   "outputs": [],
   "source": [
    "np.genfromtxt(\"E:\\\\DataScience\\\\Phyton\\\\Numpy\\\\EUR-USD.CSV\", delimiter =',', autostrip= True)"
   ]
  },
  {
   "cell_type": "code",
   "execution_count": null,
   "id": "f9b338de",
   "metadata": {},
   "outputs": [],
   "source": [
    "np.genfromtxt(\"E:\\\\DataScience\\\\Phyton\\\\Numpy\\\\EUR-USD.CSV\", delimiter =',', autostrip= True, dtype=np.str)"
   ]
  },
  {
   "cell_type": "code",
   "execution_count": null,
   "id": "5d4321c0",
   "metadata": {},
   "outputs": [],
   "source": [
    "Eur_Usd = np.genfromtxt(\"E:\\\\DataScience\\\\Phyton\\\\Numpy\\\\EUR-USD.CSV\", delimiter =',', autostrip= True, skip_header=1,usecols=3)\n",
    "Eur_Usd"
   ]
  },
  {
   "cell_type": "code",
   "execution_count": null,
   "id": "d8f5ca94",
   "metadata": {},
   "outputs": [],
   "source": [
    "Eur_Usd.shape"
   ]
  },
  {
   "cell_type": "code",
   "execution_count": null,
   "id": "a4f95283",
   "metadata": {},
   "outputs": [],
   "source": [
    "loan_data_strings[:,0]"
   ]
  },
  {
   "cell_type": "code",
   "execution_count": null,
   "id": "b6b1b791",
   "metadata": {},
   "outputs": [],
   "source": [
    "exchange_rate = loan_data_strings[:,0]\n",
    "\n",
    "for i in range(1,13):\n",
    "    exchange_rate = np.where(exchange_rate == i,\n",
    "                            Eur_Usd[i-1],\n",
    "                            exchange_rate)\n",
    "exchange_rate = np.where(exchange_rate == 0,\n",
    "                         np.mean(Eur_Usd),\n",
    "                         exchange_rate)"
   ]
  },
  {
   "cell_type": "code",
   "execution_count": null,
   "id": "e293ff62",
   "metadata": {},
   "outputs": [],
   "source": [
    "exchange_rate"
   ]
  },
  {
   "cell_type": "code",
   "execution_count": null,
   "id": "6866d04b",
   "metadata": {},
   "outputs": [],
   "source": [
    "exchange_rate = np.reshape(exchange_rate,(10000,1))"
   ]
  },
  {
   "cell_type": "code",
   "execution_count": null,
   "id": "94dca41c",
   "metadata": {},
   "outputs": [],
   "source": [
    "loan_data_numerics=np.hstack((loan_data_numerics,exchange_rate))"
   ]
  },
  {
   "cell_type": "code",
   "execution_count": null,
   "id": "615bc5ca",
   "metadata": {},
   "outputs": [],
   "source": [
    "loan_data_numerics"
   ]
  },
  {
   "cell_type": "code",
   "execution_count": null,
   "id": "467c03c0",
   "metadata": {},
   "outputs": [],
   "source": [
    "header_numerics = np.concatenate((header_numerics, np.array(['exchange_rate'])))\n",
    "header_numerics"
   ]
  },
  {
   "cell_type": "markdown",
   "id": "7500db22",
   "metadata": {},
   "source": [
    "Converting Values : USD to Euro"
   ]
  },
  {
   "cell_type": "code",
   "execution_count": null,
   "id": "ff4f23b2",
   "metadata": {},
   "outputs": [],
   "source": [
    "column_dollars = np.array([1,2,4,5])\n",
    "column_dollars"
   ]
  },
  {
   "cell_type": "code",
   "execution_count": null,
   "id": "291f27a1",
   "metadata": {},
   "outputs": [],
   "source": [
    "for i in column_dollars:\n",
    "    loan_data_numerics = np.hstack((loan_data_numerics,np.reshape(loan_data_numerics[:,i]/loan_data_numerics[:,6],(10000,1))))"
   ]
  },
  {
   "cell_type": "code",
   "execution_count": null,
   "id": "d52df49f",
   "metadata": {},
   "outputs": [],
   "source": [
    "loan_data_numerics.shape"
   ]
  },
  {
   "cell_type": "markdown",
   "id": "d490b5b7",
   "metadata": {},
   "source": [
    "Header Additional"
   ]
  },
  {
   "cell_type": "code",
   "execution_count": null,
   "id": "cc70a707",
   "metadata": {},
   "outputs": [],
   "source": [
    "header_add = np.array([column_name + '_Eur' for column_name in header_numerics[column_dollars]])"
   ]
  },
  {
   "cell_type": "code",
   "execution_count": null,
   "id": "13f3ca95",
   "metadata": {},
   "outputs": [],
   "source": [
    "header_add"
   ]
  },
  {
   "cell_type": "code",
   "execution_count": null,
   "id": "a69227dd",
   "metadata": {},
   "outputs": [],
   "source": [
    "header_numerics = np.concatenate((header_numerics,header_add))\n",
    "header_numerics"
   ]
  },
  {
   "cell_type": "code",
   "execution_count": null,
   "id": "94d1c537",
   "metadata": {},
   "outputs": [],
   "source": [
    "column_index_order = [0,1,7,2,8,3,4,9,5,10,6]"
   ]
  },
  {
   "cell_type": "code",
   "execution_count": null,
   "id": "ee5d1f2d",
   "metadata": {},
   "outputs": [],
   "source": [
    "header_numerics = header_numerics[column_index_order]\n",
    "header_numerics"
   ]
  },
  {
   "cell_type": "code",
   "execution_count": null,
   "id": "92e6e1ef",
   "metadata": {},
   "outputs": [],
   "source": [
    "loan_data_numerics=loan_data_numerics[:,column_index_order]"
   ]
  },
  {
   "cell_type": "code",
   "execution_count": null,
   "id": "3869b3f8",
   "metadata": {},
   "outputs": [],
   "source": [
    "loan_data_numerics.shape"
   ]
  },
  {
   "cell_type": "markdown",
   "id": "4c372c9d",
   "metadata": {},
   "source": [
    "Interest Rate: converting to decimals"
   ]
  },
  {
   "cell_type": "code",
   "execution_count": null,
   "id": "2cc80e4c",
   "metadata": {},
   "outputs": [],
   "source": [
    "loan_data_numerics[:,5]=loan_data_numerics[:,5]/100"
   ]
  },
  {
   "cell_type": "code",
   "execution_count": null,
   "id": "47f4d6dc",
   "metadata": {},
   "outputs": [],
   "source": [
    "loan_data_numerics[:,5]"
   ]
  },
  {
   "cell_type": "markdown",
   "id": "8a23f28a",
   "metadata": {},
   "source": [
    "CheckPoint 2: numeric"
   ]
  },
  {
   "cell_type": "code",
   "execution_count": null,
   "id": "6eef31c0",
   "metadata": {},
   "outputs": [],
   "source": [
    "Checkpoint_numerics = checkpoint(\"checkpoint_numerics\", header_numerics, loan_data_numerics)"
   ]
  },
  {
   "cell_type": "code",
   "execution_count": null,
   "id": "740a45d0",
   "metadata": {},
   "outputs": [],
   "source": [
    "Checkpoint_numerics['header']"
   ]
  },
  {
   "cell_type": "markdown",
   "id": "f83be925",
   "metadata": {},
   "source": [
    "Creating Complete Dataset"
   ]
  },
  {
   "cell_type": "code",
   "execution_count": null,
   "id": "cf982b74",
   "metadata": {},
   "outputs": [],
   "source": [
    "Checkpoint_numerics['header'].shape"
   ]
  },
  {
   "cell_type": "code",
   "execution_count": null,
   "id": "ee99a761",
   "metadata": {},
   "outputs": [],
   "source": [
    "Checkpoint_strings['header'].shape"
   ]
  },
  {
   "cell_type": "code",
   "execution_count": null,
   "id": "6b08c79e",
   "metadata": {},
   "outputs": [],
   "source": [
    "Checkpoint_numerics['data'].shape"
   ]
  },
  {
   "cell_type": "code",
   "execution_count": null,
   "id": "1e6699fd",
   "metadata": {},
   "outputs": [],
   "source": [
    "Checkpoint_strings['data'].shape"
   ]
  },
  {
   "cell_type": "code",
   "execution_count": null,
   "id": "f84b3527",
   "metadata": {},
   "outputs": [],
   "source": [
    "loan_data = np.hstack((Checkpoint_numerics['data'],Checkpoint_strings['data']))"
   ]
  },
  {
   "cell_type": "code",
   "execution_count": null,
   "id": "d0ca5672",
   "metadata": {},
   "outputs": [],
   "source": [
    "loan_data.shape"
   ]
  },
  {
   "cell_type": "code",
   "execution_count": null,
   "id": "d89e8606",
   "metadata": {},
   "outputs": [],
   "source": [
    "loan_header = np.concatenate((Checkpoint_numerics['header'],Checkpoint_strings['header']))\n",
    "loan_header"
   ]
  },
  {
   "cell_type": "code",
   "execution_count": null,
   "id": "ca80970f",
   "metadata": {},
   "outputs": [],
   "source": [
    "loan_header.shape"
   ]
  },
  {
   "cell_type": "markdown",
   "id": "cb1b1dd6",
   "metadata": {},
   "source": [
    "Rearranging"
   ]
  },
  {
   "cell_type": "code",
   "execution_count": null,
   "id": "9b90fc9c",
   "metadata": {},
   "outputs": [],
   "source": [
    "np.sort(loan_data[:,0])"
   ]
  },
  {
   "cell_type": "code",
   "execution_count": null,
   "id": "3a88d771",
   "metadata": {},
   "outputs": [],
   "source": [
    "np.sort(loan_data[:,0])"
   ]
  },
  {
   "cell_type": "code",
   "execution_count": null,
   "id": "2fc7e5db",
   "metadata": {},
   "outputs": [],
   "source": [
    "loan_data = loan_data[np.argsort(loan_data[:,0])]"
   ]
  },
  {
   "cell_type": "code",
   "execution_count": null,
   "id": "78da4e2a",
   "metadata": {},
   "outputs": [],
   "source": [
    "loan_data"
   ]
  },
  {
   "cell_type": "markdown",
   "id": "09c757dc",
   "metadata": {},
   "source": [
    "Combining All Data"
   ]
  },
  {
   "cell_type": "code",
   "execution_count": null,
   "id": "7ce9985e",
   "metadata": {},
   "outputs": [],
   "source": [
    "loan_data_preprocessed = np.vstack((np.reshape(loan_header,(1,17)),loan_data))"
   ]
  },
  {
   "cell_type": "code",
   "execution_count": null,
   "id": "ca63c776",
   "metadata": {},
   "outputs": [],
   "source": [
    "loan_data_preprocessed"
   ]
  },
  {
   "cell_type": "markdown",
   "id": "eaff1300",
   "metadata": {},
   "source": [
    "Saving Dataset"
   ]
  },
  {
   "cell_type": "code",
   "execution_count": null,
   "id": "62ee7637",
   "metadata": {},
   "outputs": [],
   "source": [
    "np.savetxt('E:\\\\DataScience\\\\Phyton\\\\Numpy\\\\loan_data_preprocessed.csv',\n",
    "           loan_data_preprocessed,\n",
    "           fmt = '%s',\n",
    "           delimiter =',')"
   ]
  },
  {
   "cell_type": "code",
   "execution_count": null,
   "id": "dd3bf10e",
   "metadata": {},
   "outputs": [],
   "source": []
  }
 ],
 "metadata": {
  "kernelspec": {
   "display_name": "Python 3 (ipykernel)",
   "language": "python",
   "name": "python3"
  },
  "language_info": {
   "codemirror_mode": {
    "name": "ipython",
    "version": 3
   },
   "file_extension": ".py",
   "mimetype": "text/x-python",
   "name": "python",
   "nbconvert_exporter": "python",
   "pygments_lexer": "ipython3",
   "version": "3.9.12"
  }
 },
 "nbformat": 4,
 "nbformat_minor": 5
}
