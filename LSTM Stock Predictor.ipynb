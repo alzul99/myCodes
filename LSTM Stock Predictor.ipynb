{
 "cells": [
  {
   "cell_type": "code",
   "execution_count": 1,
   "id": "7f9c770a",
   "metadata": {},
   "outputs": [
    {
     "name": "stderr",
     "output_type": "stream",
     "text": [
      "C:\\Users\\Acer-Sc\\anaconda3\\ANA\\lib\\site-packages\\scipy\\__init__.py:146: UserWarning: A NumPy version >=1.16.5 and <1.23.0 is required for this version of SciPy (detected version 1.23.3\n",
      "  warnings.warn(f\"A NumPy version >={np_minversion} and <{np_maxversion}\"\n"
     ]
    }
   ],
   "source": [
    "import numpy as np\n",
    "import matplotlib.pyplot as plt\n",
    "import pandas as pd\n",
    "from sklearn.preprocessing import MinMaxScaler"
   ]
  },
  {
   "cell_type": "markdown",
   "id": "a58edcab",
   "metadata": {},
   "source": [
    "### Importing Libraries"
   ]
  },
  {
   "cell_type": "code",
   "execution_count": 2,
   "id": "8dd77937",
   "metadata": {},
   "outputs": [
    {
     "data": {
      "text/html": [
       "<div>\n",
       "<style scoped>\n",
       "    .dataframe tbody tr th:only-of-type {\n",
       "        vertical-align: middle;\n",
       "    }\n",
       "\n",
       "    .dataframe tbody tr th {\n",
       "        vertical-align: top;\n",
       "    }\n",
       "\n",
       "    .dataframe thead th {\n",
       "        text-align: right;\n",
       "    }\n",
       "</style>\n",
       "<table border=\"1\" class=\"dataframe\">\n",
       "  <thead>\n",
       "    <tr style=\"text-align: right;\">\n",
       "      <th></th>\n",
       "      <th>Date</th>\n",
       "      <th>Open</th>\n",
       "      <th>High</th>\n",
       "      <th>Low</th>\n",
       "      <th>Close</th>\n",
       "      <th>Volume</th>\n",
       "    </tr>\n",
       "  </thead>\n",
       "  <tbody>\n",
       "    <tr>\n",
       "      <th>0</th>\n",
       "      <td>1/3/2012</td>\n",
       "      <td>325.25</td>\n",
       "      <td>332.83</td>\n",
       "      <td>324.97</td>\n",
       "      <td>663.59</td>\n",
       "      <td>7,380,500</td>\n",
       "    </tr>\n",
       "    <tr>\n",
       "      <th>1</th>\n",
       "      <td>1/4/2012</td>\n",
       "      <td>331.27</td>\n",
       "      <td>333.87</td>\n",
       "      <td>329.08</td>\n",
       "      <td>666.45</td>\n",
       "      <td>5,749,400</td>\n",
       "    </tr>\n",
       "    <tr>\n",
       "      <th>2</th>\n",
       "      <td>1/5/2012</td>\n",
       "      <td>329.83</td>\n",
       "      <td>330.75</td>\n",
       "      <td>326.89</td>\n",
       "      <td>657.21</td>\n",
       "      <td>6,590,300</td>\n",
       "    </tr>\n",
       "    <tr>\n",
       "      <th>3</th>\n",
       "      <td>1/6/2012</td>\n",
       "      <td>328.34</td>\n",
       "      <td>328.77</td>\n",
       "      <td>323.68</td>\n",
       "      <td>648.24</td>\n",
       "      <td>5,405,900</td>\n",
       "    </tr>\n",
       "    <tr>\n",
       "      <th>4</th>\n",
       "      <td>1/9/2012</td>\n",
       "      <td>322.04</td>\n",
       "      <td>322.29</td>\n",
       "      <td>309.46</td>\n",
       "      <td>620.76</td>\n",
       "      <td>11,688,800</td>\n",
       "    </tr>\n",
       "    <tr>\n",
       "      <th>...</th>\n",
       "      <td>...</td>\n",
       "      <td>...</td>\n",
       "      <td>...</td>\n",
       "      <td>...</td>\n",
       "      <td>...</td>\n",
       "      <td>...</td>\n",
       "    </tr>\n",
       "    <tr>\n",
       "      <th>1253</th>\n",
       "      <td>12/23/2016</td>\n",
       "      <td>790.90</td>\n",
       "      <td>792.74</td>\n",
       "      <td>787.28</td>\n",
       "      <td>789.91</td>\n",
       "      <td>623,400</td>\n",
       "    </tr>\n",
       "    <tr>\n",
       "      <th>1254</th>\n",
       "      <td>12/27/2016</td>\n",
       "      <td>790.68</td>\n",
       "      <td>797.86</td>\n",
       "      <td>787.66</td>\n",
       "      <td>791.55</td>\n",
       "      <td>789,100</td>\n",
       "    </tr>\n",
       "    <tr>\n",
       "      <th>1255</th>\n",
       "      <td>12/28/2016</td>\n",
       "      <td>793.70</td>\n",
       "      <td>794.23</td>\n",
       "      <td>783.20</td>\n",
       "      <td>785.05</td>\n",
       "      <td>1,153,800</td>\n",
       "    </tr>\n",
       "    <tr>\n",
       "      <th>1256</th>\n",
       "      <td>12/29/2016</td>\n",
       "      <td>783.33</td>\n",
       "      <td>785.93</td>\n",
       "      <td>778.92</td>\n",
       "      <td>782.79</td>\n",
       "      <td>744,300</td>\n",
       "    </tr>\n",
       "    <tr>\n",
       "      <th>1257</th>\n",
       "      <td>12/30/2016</td>\n",
       "      <td>782.75</td>\n",
       "      <td>782.78</td>\n",
       "      <td>770.41</td>\n",
       "      <td>771.82</td>\n",
       "      <td>1,770,000</td>\n",
       "    </tr>\n",
       "  </tbody>\n",
       "</table>\n",
       "<p>1258 rows × 6 columns</p>\n",
       "</div>"
      ],
      "text/plain": [
       "            Date    Open    High     Low   Close      Volume\n",
       "0       1/3/2012  325.25  332.83  324.97  663.59   7,380,500\n",
       "1       1/4/2012  331.27  333.87  329.08  666.45   5,749,400\n",
       "2       1/5/2012  329.83  330.75  326.89  657.21   6,590,300\n",
       "3       1/6/2012  328.34  328.77  323.68  648.24   5,405,900\n",
       "4       1/9/2012  322.04  322.29  309.46  620.76  11,688,800\n",
       "...          ...     ...     ...     ...     ...         ...\n",
       "1253  12/23/2016  790.90  792.74  787.28  789.91     623,400\n",
       "1254  12/27/2016  790.68  797.86  787.66  791.55     789,100\n",
       "1255  12/28/2016  793.70  794.23  783.20  785.05   1,153,800\n",
       "1256  12/29/2016  783.33  785.93  778.92  782.79     744,300\n",
       "1257  12/30/2016  782.75  782.78  770.41  771.82   1,770,000\n",
       "\n",
       "[1258 rows x 6 columns]"
      ]
     },
     "execution_count": 2,
     "metadata": {},
     "output_type": "execute_result"
    }
   ],
   "source": [
    "df= pd.read_csv('C:\\\\Users\\\\Acer-Sc\\\\Downloads\\\\Google_Stock_Price_Train.csv')\n",
    "df"
   ]
  },
  {
   "cell_type": "code",
   "execution_count": 3,
   "id": "d024ac3c",
   "metadata": {},
   "outputs": [],
   "source": [
    "df_train=df.iloc[:, 1:2].values"
   ]
  },
  {
   "cell_type": "markdown",
   "id": "433ddc03",
   "metadata": {},
   "source": [
    "### Scaling"
   ]
  },
  {
   "cell_type": "code",
   "execution_count": 4,
   "id": "52b53084",
   "metadata": {},
   "outputs": [],
   "source": [
    "sc = MinMaxScaler(feature_range = (0, 1))\n",
    "df_train_scaled = sc.fit_transform(df_train)"
   ]
  },
  {
   "cell_type": "code",
   "execution_count": 5,
   "id": "6b3812b6",
   "metadata": {
    "scrolled": true
   },
   "outputs": [
    {
     "data": {
      "text/plain": [
       "array([[0.08581368],\n",
       "       [0.09701243],\n",
       "       [0.09433366],\n",
       "       ...,\n",
       "       [0.95725128],\n",
       "       [0.93796041],\n",
       "       [0.93688146]])"
      ]
     },
     "execution_count": 5,
     "metadata": {},
     "output_type": "execute_result"
    }
   ],
   "source": [
    "df_train_scaled"
   ]
  },
  {
   "cell_type": "code",
   "execution_count": 6,
   "id": "60ddaa95",
   "metadata": {},
   "outputs": [
    {
     "data": {
      "text/plain": [
       "1258"
      ]
     },
     "execution_count": 6,
     "metadata": {},
     "output_type": "execute_result"
    }
   ],
   "source": [
    "len(df_train_scaled)"
   ]
  },
  {
   "cell_type": "markdown",
   "id": "457d5b3b",
   "metadata": {},
   "source": [
    "### Preparing data chunks"
   ]
  },
  {
   "cell_type": "code",
   "execution_count": 7,
   "id": "6f04d607",
   "metadata": {},
   "outputs": [],
   "source": [
    "X_train = []\n",
    "y_train = []\n",
    "k = 40"
   ]
  },
  {
   "cell_type": "code",
   "execution_count": 8,
   "id": "b9cebd71",
   "metadata": {},
   "outputs": [],
   "source": [
    "for i in range(k, len(df_train_scaled)):\n",
    "    X_train.append(df_train_scaled[i-k:i, 0])\n",
    "    y_train.append(df_train_scaled[i, 0])\n",
    "X_train, y_train = np.array(X_train), np.array(y_train)"
   ]
  },
  {
   "cell_type": "code",
   "execution_count": 9,
   "id": "77877307",
   "metadata": {},
   "outputs": [
    {
     "data": {
      "text/plain": [
       "(1218, 40)"
      ]
     },
     "execution_count": 9,
     "metadata": {},
     "output_type": "execute_result"
    }
   ],
   "source": [
    "X_train.shape"
   ]
  },
  {
   "cell_type": "code",
   "execution_count": 10,
   "id": "43dcfb39",
   "metadata": {},
   "outputs": [
    {
     "data": {
      "text/plain": [
       "(1218,)"
      ]
     },
     "execution_count": 10,
     "metadata": {},
     "output_type": "execute_result"
    }
   ],
   "source": [
    "y_train.shape"
   ]
  },
  {
   "cell_type": "markdown",
   "id": "b12ed3d4",
   "metadata": {},
   "source": [
    "### Reshaping data for LSTM NN"
   ]
  },
  {
   "cell_type": "code",
   "execution_count": 11,
   "id": "078ea6e3",
   "metadata": {},
   "outputs": [],
   "source": [
    "X_train = np.reshape(X_train, (X_train.shape[0], X_train.shape[1], 1))"
   ]
  },
  {
   "cell_type": "markdown",
   "id": "e58eb885",
   "metadata": {},
   "source": [
    "### Building RNN"
   ]
  },
  {
   "cell_type": "code",
   "execution_count": 12,
   "id": "903b3e07",
   "metadata": {},
   "outputs": [],
   "source": [
    "from keras.models import Sequential\n",
    "from keras.layers import Dense\n",
    "from keras.layers import LSTM\n",
    "from keras.layers import Dropout"
   ]
  },
  {
   "cell_type": "code",
   "execution_count": 13,
   "id": "adca9a45",
   "metadata": {},
   "outputs": [],
   "source": [
    "stock_predictor = Sequential()"
   ]
  },
  {
   "cell_type": "code",
   "execution_count": 14,
   "id": "687197c3",
   "metadata": {},
   "outputs": [],
   "source": [
    "stock_predictor.add(LSTM(units = 64, return_sequences = True, input_shape = (X_train.shape[1], 1)))\n",
    "stock_predictor.add(Dropout(0.2))\n",
    "stock_predictor.add(LSTM(units = 64, return_sequences = True))\n",
    "stock_predictor.add(Dropout(0.2))\n",
    "stock_predictor.add(LSTM(units = 64, return_sequences = True))\n",
    "stock_predictor.add(Dropout(0.2))\n",
    "stock_predictor.add(LSTM(units = 64, return_sequences = True))\n",
    "stock_predictor.add(Dropout(0.2))\n",
    "stock_predictor.add(LSTM(units = 32))\n",
    "stock_predictor.add(Dropout(0.2))\n",
    "stock_predictor.add(Dense(units = 1))"
   ]
  },
  {
   "cell_type": "markdown",
   "id": "8ea86489",
   "metadata": {},
   "source": [
    "### Compiling LSTM"
   ]
  },
  {
   "cell_type": "code",
   "execution_count": 15,
   "id": "85b11a3c",
   "metadata": {},
   "outputs": [],
   "source": [
    "stock_predictor.compile(optimizer = 'adam', loss = 'mean_squared_error')"
   ]
  },
  {
   "cell_type": "markdown",
   "id": "2af750aa",
   "metadata": {},
   "source": [
    "### RNN Training"
   ]
  },
  {
   "cell_type": "code",
   "execution_count": 16,
   "id": "998f99fd",
   "metadata": {},
   "outputs": [
    {
     "name": "stdout",
     "output_type": "stream",
     "text": [
      "Epoch 1/75\n",
      "39/39 - 16s - loss: 0.0349 - 16s/epoch - 419ms/step\n",
      "Epoch 2/75\n",
      "39/39 - 3s - loss: 0.0097 - 3s/epoch - 80ms/step\n",
      "Epoch 3/75\n",
      "39/39 - 3s - loss: 0.0096 - 3s/epoch - 81ms/step\n",
      "Epoch 4/75\n",
      "39/39 - 3s - loss: 0.0073 - 3s/epoch - 85ms/step\n",
      "Epoch 5/75\n",
      "39/39 - 3s - loss: 0.0066 - 3s/epoch - 87ms/step\n",
      "Epoch 6/75\n",
      "39/39 - 4s - loss: 0.0065 - 4s/epoch - 95ms/step\n",
      "Epoch 7/75\n",
      "39/39 - 4s - loss: 0.0055 - 4s/epoch - 94ms/step\n",
      "Epoch 8/75\n",
      "39/39 - 4s - loss: 0.0054 - 4s/epoch - 102ms/step\n",
      "Epoch 9/75\n",
      "39/39 - 4s - loss: 0.0055 - 4s/epoch - 95ms/step\n",
      "Epoch 10/75\n",
      "39/39 - 4s - loss: 0.0058 - 4s/epoch - 94ms/step\n",
      "Epoch 11/75\n",
      "39/39 - 4s - loss: 0.0068 - 4s/epoch - 93ms/step\n",
      "Epoch 12/75\n",
      "39/39 - 4s - loss: 0.0061 - 4s/epoch - 95ms/step\n",
      "Epoch 13/75\n",
      "39/39 - 4s - loss: 0.0051 - 4s/epoch - 98ms/step\n",
      "Epoch 14/75\n",
      "39/39 - 4s - loss: 0.0050 - 4s/epoch - 99ms/step\n",
      "Epoch 15/75\n",
      "39/39 - 4s - loss: 0.0046 - 4s/epoch - 93ms/step\n",
      "Epoch 16/75\n",
      "39/39 - 4s - loss: 0.0048 - 4s/epoch - 93ms/step\n",
      "Epoch 17/75\n",
      "39/39 - 4s - loss: 0.0049 - 4s/epoch - 97ms/step\n",
      "Epoch 18/75\n",
      "39/39 - 4s - loss: 0.0051 - 4s/epoch - 95ms/step\n",
      "Epoch 19/75\n",
      "39/39 - 4s - loss: 0.0042 - 4s/epoch - 93ms/step\n",
      "Epoch 20/75\n",
      "39/39 - 4s - loss: 0.0042 - 4s/epoch - 92ms/step\n",
      "Epoch 21/75\n",
      "39/39 - 4s - loss: 0.0041 - 4s/epoch - 93ms/step\n",
      "Epoch 22/75\n",
      "39/39 - 4s - loss: 0.0038 - 4s/epoch - 92ms/step\n",
      "Epoch 23/75\n",
      "39/39 - 4s - loss: 0.0039 - 4s/epoch - 96ms/step\n",
      "Epoch 24/75\n",
      "39/39 - 4s - loss: 0.0041 - 4s/epoch - 93ms/step\n",
      "Epoch 25/75\n",
      "39/39 - 4s - loss: 0.0041 - 4s/epoch - 90ms/step\n",
      "Epoch 26/75\n",
      "39/39 - 4s - loss: 0.0043 - 4s/epoch - 97ms/step\n",
      "Epoch 27/75\n",
      "39/39 - 4s - loss: 0.0037 - 4s/epoch - 93ms/step\n",
      "Epoch 28/75\n",
      "39/39 - 4s - loss: 0.0036 - 4s/epoch - 95ms/step\n",
      "Epoch 29/75\n",
      "39/39 - 4s - loss: 0.0036 - 4s/epoch - 95ms/step\n",
      "Epoch 30/75\n",
      "39/39 - 4s - loss: 0.0043 - 4s/epoch - 94ms/step\n",
      "Epoch 31/75\n",
      "39/39 - 4s - loss: 0.0035 - 4s/epoch - 92ms/step\n",
      "Epoch 32/75\n",
      "39/39 - 4s - loss: 0.0039 - 4s/epoch - 94ms/step\n",
      "Epoch 33/75\n",
      "39/39 - 4s - loss: 0.0038 - 4s/epoch - 95ms/step\n",
      "Epoch 34/75\n",
      "39/39 - 4s - loss: 0.0040 - 4s/epoch - 105ms/step\n",
      "Epoch 35/75\n",
      "39/39 - 4s - loss: 0.0034 - 4s/epoch - 103ms/step\n",
      "Epoch 36/75\n",
      "39/39 - 4s - loss: 0.0036 - 4s/epoch - 95ms/step\n",
      "Epoch 37/75\n",
      "39/39 - 4s - loss: 0.0034 - 4s/epoch - 94ms/step\n",
      "Epoch 38/75\n",
      "39/39 - 4s - loss: 0.0031 - 4s/epoch - 94ms/step\n",
      "Epoch 39/75\n",
      "39/39 - 4s - loss: 0.0030 - 4s/epoch - 93ms/step\n",
      "Epoch 40/75\n",
      "39/39 - 4s - loss: 0.0030 - 4s/epoch - 95ms/step\n",
      "Epoch 41/75\n",
      "39/39 - 4s - loss: 0.0033 - 4s/epoch - 97ms/step\n",
      "Epoch 42/75\n",
      "39/39 - 4s - loss: 0.0059 - 4s/epoch - 96ms/step\n",
      "Epoch 43/75\n",
      "39/39 - 4s - loss: 0.0031 - 4s/epoch - 98ms/step\n",
      "Epoch 44/75\n",
      "39/39 - 4s - loss: 0.0027 - 4s/epoch - 93ms/step\n",
      "Epoch 45/75\n",
      "39/39 - 4s - loss: 0.0030 - 4s/epoch - 93ms/step\n",
      "Epoch 46/75\n",
      "39/39 - 4s - loss: 0.0032 - 4s/epoch - 93ms/step\n",
      "Epoch 47/75\n",
      "39/39 - 4s - loss: 0.0030 - 4s/epoch - 95ms/step\n",
      "Epoch 48/75\n",
      "39/39 - 4s - loss: 0.0028 - 4s/epoch - 94ms/step\n",
      "Epoch 49/75\n",
      "39/39 - 4s - loss: 0.0032 - 4s/epoch - 96ms/step\n",
      "Epoch 50/75\n",
      "39/39 - 4s - loss: 0.0031 - 4s/epoch - 99ms/step\n",
      "Epoch 51/75\n",
      "39/39 - 4s - loss: 0.0026 - 4s/epoch - 92ms/step\n",
      "Epoch 52/75\n",
      "39/39 - 4s - loss: 0.0029 - 4s/epoch - 95ms/step\n",
      "Epoch 53/75\n",
      "39/39 - 4s - loss: 0.0024 - 4s/epoch - 97ms/step\n",
      "Epoch 54/75\n",
      "39/39 - 4s - loss: 0.0026 - 4s/epoch - 95ms/step\n",
      "Epoch 55/75\n",
      "39/39 - 4s - loss: 0.0025 - 4s/epoch - 98ms/step\n",
      "Epoch 56/75\n",
      "39/39 - 4s - loss: 0.0027 - 4s/epoch - 95ms/step\n",
      "Epoch 57/75\n",
      "39/39 - 4s - loss: 0.0026 - 4s/epoch - 101ms/step\n",
      "Epoch 58/75\n",
      "39/39 - 4s - loss: 0.0030 - 4s/epoch - 97ms/step\n",
      "Epoch 59/75\n",
      "39/39 - 4s - loss: 0.0027 - 4s/epoch - 91ms/step\n",
      "Epoch 60/75\n",
      "39/39 - 4s - loss: 0.0025 - 4s/epoch - 95ms/step\n",
      "Epoch 61/75\n",
      "39/39 - 4s - loss: 0.0031 - 4s/epoch - 94ms/step\n",
      "Epoch 62/75\n",
      "39/39 - 4s - loss: 0.0021 - 4s/epoch - 97ms/step\n",
      "Epoch 63/75\n",
      "39/39 - 4s - loss: 0.0030 - 4s/epoch - 96ms/step\n",
      "Epoch 64/75\n",
      "39/39 - 4s - loss: 0.0026 - 4s/epoch - 97ms/step\n",
      "Epoch 65/75\n",
      "39/39 - 4s - loss: 0.0021 - 4s/epoch - 94ms/step\n",
      "Epoch 66/75\n",
      "39/39 - 4s - loss: 0.0020 - 4s/epoch - 94ms/step\n",
      "Epoch 67/75\n",
      "39/39 - 4s - loss: 0.0023 - 4s/epoch - 95ms/step\n",
      "Epoch 68/75\n",
      "39/39 - 4s - loss: 0.0021 - 4s/epoch - 93ms/step\n",
      "Epoch 69/75\n",
      "39/39 - 4s - loss: 0.0022 - 4s/epoch - 91ms/step\n",
      "Epoch 70/75\n",
      "39/39 - 4s - loss: 0.0021 - 4s/epoch - 93ms/step\n",
      "Epoch 71/75\n",
      "39/39 - 4s - loss: 0.0022 - 4s/epoch - 96ms/step\n",
      "Epoch 72/75\n",
      "39/39 - 4s - loss: 0.0021 - 4s/epoch - 93ms/step\n",
      "Epoch 73/75\n",
      "39/39 - 4s - loss: 0.0021 - 4s/epoch - 90ms/step\n",
      "Epoch 74/75\n",
      "39/39 - 4s - loss: 0.0023 - 4s/epoch - 91ms/step\n",
      "Epoch 75/75\n",
      "39/39 - 3s - loss: 0.0019 - 3s/epoch - 89ms/step\n"
     ]
    },
    {
     "data": {
      "text/plain": [
       "<keras.callbacks.History at 0x15f3d147e80>"
      ]
     },
     "execution_count": 16,
     "metadata": {},
     "output_type": "execute_result"
    }
   ],
   "source": [
    "stock_predictor.fit(X_train, y_train, epochs = 75, batch_size = 32, verbose=2)"
   ]
  },
  {
   "cell_type": "markdown",
   "id": "77b1b455",
   "metadata": {},
   "source": [
    "### Predictions"
   ]
  },
  {
   "cell_type": "code",
   "execution_count": 17,
   "id": "a629c07a",
   "metadata": {},
   "outputs": [
    {
     "data": {
      "text/html": [
       "<div>\n",
       "<style scoped>\n",
       "    .dataframe tbody tr th:only-of-type {\n",
       "        vertical-align: middle;\n",
       "    }\n",
       "\n",
       "    .dataframe tbody tr th {\n",
       "        vertical-align: top;\n",
       "    }\n",
       "\n",
       "    .dataframe thead th {\n",
       "        text-align: right;\n",
       "    }\n",
       "</style>\n",
       "<table border=\"1\" class=\"dataframe\">\n",
       "  <thead>\n",
       "    <tr style=\"text-align: right;\">\n",
       "      <th></th>\n",
       "      <th>Date</th>\n",
       "      <th>Open</th>\n",
       "      <th>High</th>\n",
       "      <th>Low</th>\n",
       "      <th>Close</th>\n",
       "      <th>Volume</th>\n",
       "    </tr>\n",
       "  </thead>\n",
       "  <tbody>\n",
       "    <tr>\n",
       "      <th>0</th>\n",
       "      <td>1/3/2017</td>\n",
       "      <td>778.81</td>\n",
       "      <td>789.63</td>\n",
       "      <td>775.80</td>\n",
       "      <td>786.14</td>\n",
       "      <td>1,657,300</td>\n",
       "    </tr>\n",
       "    <tr>\n",
       "      <th>1</th>\n",
       "      <td>1/4/2017</td>\n",
       "      <td>788.36</td>\n",
       "      <td>791.34</td>\n",
       "      <td>783.16</td>\n",
       "      <td>786.90</td>\n",
       "      <td>1,073,000</td>\n",
       "    </tr>\n",
       "    <tr>\n",
       "      <th>2</th>\n",
       "      <td>1/5/2017</td>\n",
       "      <td>786.08</td>\n",
       "      <td>794.48</td>\n",
       "      <td>785.02</td>\n",
       "      <td>794.02</td>\n",
       "      <td>1,335,200</td>\n",
       "    </tr>\n",
       "    <tr>\n",
       "      <th>3</th>\n",
       "      <td>1/6/2017</td>\n",
       "      <td>795.26</td>\n",
       "      <td>807.90</td>\n",
       "      <td>792.20</td>\n",
       "      <td>806.15</td>\n",
       "      <td>1,640,200</td>\n",
       "    </tr>\n",
       "    <tr>\n",
       "      <th>4</th>\n",
       "      <td>1/9/2017</td>\n",
       "      <td>806.40</td>\n",
       "      <td>809.97</td>\n",
       "      <td>802.83</td>\n",
       "      <td>806.65</td>\n",
       "      <td>1,272,400</td>\n",
       "    </tr>\n",
       "    <tr>\n",
       "      <th>5</th>\n",
       "      <td>1/10/2017</td>\n",
       "      <td>807.86</td>\n",
       "      <td>809.13</td>\n",
       "      <td>803.51</td>\n",
       "      <td>804.79</td>\n",
       "      <td>1,176,800</td>\n",
       "    </tr>\n",
       "    <tr>\n",
       "      <th>6</th>\n",
       "      <td>1/11/2017</td>\n",
       "      <td>805.00</td>\n",
       "      <td>808.15</td>\n",
       "      <td>801.37</td>\n",
       "      <td>807.91</td>\n",
       "      <td>1,065,900</td>\n",
       "    </tr>\n",
       "    <tr>\n",
       "      <th>7</th>\n",
       "      <td>1/12/2017</td>\n",
       "      <td>807.14</td>\n",
       "      <td>807.39</td>\n",
       "      <td>799.17</td>\n",
       "      <td>806.36</td>\n",
       "      <td>1,353,100</td>\n",
       "    </tr>\n",
       "    <tr>\n",
       "      <th>8</th>\n",
       "      <td>1/13/2017</td>\n",
       "      <td>807.48</td>\n",
       "      <td>811.22</td>\n",
       "      <td>806.69</td>\n",
       "      <td>807.88</td>\n",
       "      <td>1,099,200</td>\n",
       "    </tr>\n",
       "    <tr>\n",
       "      <th>9</th>\n",
       "      <td>1/17/2017</td>\n",
       "      <td>807.08</td>\n",
       "      <td>807.14</td>\n",
       "      <td>800.37</td>\n",
       "      <td>804.61</td>\n",
       "      <td>1,362,100</td>\n",
       "    </tr>\n",
       "    <tr>\n",
       "      <th>10</th>\n",
       "      <td>1/18/2017</td>\n",
       "      <td>805.81</td>\n",
       "      <td>806.21</td>\n",
       "      <td>800.99</td>\n",
       "      <td>806.07</td>\n",
       "      <td>1,294,400</td>\n",
       "    </tr>\n",
       "    <tr>\n",
       "      <th>11</th>\n",
       "      <td>1/19/2017</td>\n",
       "      <td>805.12</td>\n",
       "      <td>809.48</td>\n",
       "      <td>801.80</td>\n",
       "      <td>802.17</td>\n",
       "      <td>919,300</td>\n",
       "    </tr>\n",
       "    <tr>\n",
       "      <th>12</th>\n",
       "      <td>1/20/2017</td>\n",
       "      <td>806.91</td>\n",
       "      <td>806.91</td>\n",
       "      <td>801.69</td>\n",
       "      <td>805.02</td>\n",
       "      <td>1,670,000</td>\n",
       "    </tr>\n",
       "    <tr>\n",
       "      <th>13</th>\n",
       "      <td>1/23/2017</td>\n",
       "      <td>807.25</td>\n",
       "      <td>820.87</td>\n",
       "      <td>803.74</td>\n",
       "      <td>819.31</td>\n",
       "      <td>1,963,600</td>\n",
       "    </tr>\n",
       "    <tr>\n",
       "      <th>14</th>\n",
       "      <td>1/24/2017</td>\n",
       "      <td>822.30</td>\n",
       "      <td>825.90</td>\n",
       "      <td>817.82</td>\n",
       "      <td>823.87</td>\n",
       "      <td>1,474,000</td>\n",
       "    </tr>\n",
       "    <tr>\n",
       "      <th>15</th>\n",
       "      <td>1/25/2017</td>\n",
       "      <td>829.62</td>\n",
       "      <td>835.77</td>\n",
       "      <td>825.06</td>\n",
       "      <td>835.67</td>\n",
       "      <td>1,494,500</td>\n",
       "    </tr>\n",
       "    <tr>\n",
       "      <th>16</th>\n",
       "      <td>1/26/2017</td>\n",
       "      <td>837.81</td>\n",
       "      <td>838.00</td>\n",
       "      <td>827.01</td>\n",
       "      <td>832.15</td>\n",
       "      <td>2,973,900</td>\n",
       "    </tr>\n",
       "    <tr>\n",
       "      <th>17</th>\n",
       "      <td>1/27/2017</td>\n",
       "      <td>834.71</td>\n",
       "      <td>841.95</td>\n",
       "      <td>820.44</td>\n",
       "      <td>823.31</td>\n",
       "      <td>2,965,800</td>\n",
       "    </tr>\n",
       "    <tr>\n",
       "      <th>18</th>\n",
       "      <td>1/30/2017</td>\n",
       "      <td>814.66</td>\n",
       "      <td>815.84</td>\n",
       "      <td>799.80</td>\n",
       "      <td>802.32</td>\n",
       "      <td>3,246,600</td>\n",
       "    </tr>\n",
       "    <tr>\n",
       "      <th>19</th>\n",
       "      <td>1/31/2017</td>\n",
       "      <td>796.86</td>\n",
       "      <td>801.25</td>\n",
       "      <td>790.52</td>\n",
       "      <td>796.79</td>\n",
       "      <td>2,160,600</td>\n",
       "    </tr>\n",
       "  </tbody>\n",
       "</table>\n",
       "</div>"
      ],
      "text/plain": [
       "         Date    Open    High     Low   Close     Volume\n",
       "0    1/3/2017  778.81  789.63  775.80  786.14  1,657,300\n",
       "1    1/4/2017  788.36  791.34  783.16  786.90  1,073,000\n",
       "2    1/5/2017  786.08  794.48  785.02  794.02  1,335,200\n",
       "3    1/6/2017  795.26  807.90  792.20  806.15  1,640,200\n",
       "4    1/9/2017  806.40  809.97  802.83  806.65  1,272,400\n",
       "5   1/10/2017  807.86  809.13  803.51  804.79  1,176,800\n",
       "6   1/11/2017  805.00  808.15  801.37  807.91  1,065,900\n",
       "7   1/12/2017  807.14  807.39  799.17  806.36  1,353,100\n",
       "8   1/13/2017  807.48  811.22  806.69  807.88  1,099,200\n",
       "9   1/17/2017  807.08  807.14  800.37  804.61  1,362,100\n",
       "10  1/18/2017  805.81  806.21  800.99  806.07  1,294,400\n",
       "11  1/19/2017  805.12  809.48  801.80  802.17    919,300\n",
       "12  1/20/2017  806.91  806.91  801.69  805.02  1,670,000\n",
       "13  1/23/2017  807.25  820.87  803.74  819.31  1,963,600\n",
       "14  1/24/2017  822.30  825.90  817.82  823.87  1,474,000\n",
       "15  1/25/2017  829.62  835.77  825.06  835.67  1,494,500\n",
       "16  1/26/2017  837.81  838.00  827.01  832.15  2,973,900\n",
       "17  1/27/2017  834.71  841.95  820.44  823.31  2,965,800\n",
       "18  1/30/2017  814.66  815.84  799.80  802.32  3,246,600\n",
       "19  1/31/2017  796.86  801.25  790.52  796.79  2,160,600"
      ]
     },
     "execution_count": 17,
     "metadata": {},
     "output_type": "execute_result"
    }
   ],
   "source": [
    "df_test = pd.read_csv('C:\\\\Users\\\\Acer-Sc\\\\Downloads\\\\Google_Stock_Price_Test.csv')\n",
    "df_test"
   ]
  },
  {
   "cell_type": "code",
   "execution_count": 18,
   "id": "e2ff6984",
   "metadata": {},
   "outputs": [],
   "source": [
    "real_price = df_test.iloc[:, 1:2].values"
   ]
  },
  {
   "cell_type": "markdown",
   "id": "3478f684",
   "metadata": {},
   "source": [
    "### RNN Predictions"
   ]
  },
  {
   "cell_type": "code",
   "execution_count": 19,
   "id": "647958cb",
   "metadata": {},
   "outputs": [
    {
     "data": {
      "text/plain": [
       "1253    790.90\n",
       "1254    790.68\n",
       "1255    793.70\n",
       "1256    783.33\n",
       "1257    782.75\n",
       "0       778.81\n",
       "1       788.36\n",
       "2       786.08\n",
       "3       795.26\n",
       "4       806.40\n",
       "5       807.86\n",
       "6       805.00\n",
       "7       807.14\n",
       "8       807.48\n",
       "9       807.08\n",
       "10      805.81\n",
       "11      805.12\n",
       "12      806.91\n",
       "13      807.25\n",
       "14      822.30\n",
       "15      829.62\n",
       "16      837.81\n",
       "17      834.71\n",
       "18      814.66\n",
       "19      796.86\n",
       "Name: Open, dtype: float64"
      ]
     },
     "execution_count": 19,
     "metadata": {},
     "output_type": "execute_result"
    }
   ],
   "source": [
    "df_total = pd.concat((df['Open'], df_test['Open']), axis = 0)\n",
    "df_total.tail(25)"
   ]
  },
  {
   "cell_type": "markdown",
   "id": "10b911e1",
   "metadata": {},
   "source": [
    "### Getting the last k values"
   ]
  },
  {
   "cell_type": "code",
   "execution_count": 20,
   "id": "a7c463b2",
   "metadata": {},
   "outputs": [],
   "source": [
    "z = len(df_total) - len(df_test) - k"
   ]
  },
  {
   "cell_type": "code",
   "execution_count": 21,
   "id": "448d59a2",
   "metadata": {},
   "outputs": [
    {
     "name": "stderr",
     "output_type": "stream",
     "text": [
      "C:\\Users\\Acer-Sc\\AppData\\Local\\Temp\\ipykernel_11220\\4118253444.py:1: FutureWarning: The behavior of `series[i:j]` with an integer-dtype index is deprecated. In a future version, this will be treated as *label-based* indexing, consistent with e.g. `series[i]` lookups. To retain the old behavior, use `series.iloc[i:j]`. To get the future behavior, use `series.loc[i:j]`.\n",
      "  test_input = df_total[z:].values\n"
     ]
    }
   ],
   "source": [
    "test_input = df_total[z:].values"
   ]
  },
  {
   "cell_type": "markdown",
   "id": "8c42b83a",
   "metadata": {},
   "source": [
    "### Scaling test input"
   ]
  },
  {
   "cell_type": "code",
   "execution_count": 23,
   "id": "6dcc2633",
   "metadata": {},
   "outputs": [],
   "source": [
    "test_input = test_input.reshape(-1,1)\n",
    "test_input = sc.transform(test_input)"
   ]
  },
  {
   "cell_type": "code",
   "execution_count": 24,
   "id": "9d73ebc0",
   "metadata": {},
   "outputs": [
    {
     "data": {
      "text/plain": [
       "60"
      ]
     },
     "execution_count": 24,
     "metadata": {},
     "output_type": "execute_result"
    }
   ],
   "source": [
    "len(test_input)"
   ]
  },
  {
   "cell_type": "markdown",
   "id": "603a5e1d",
   "metadata": {},
   "source": [
    "### Preparing test input for feeding to RNN for prediction"
   ]
  },
  {
   "cell_type": "code",
   "execution_count": 25,
   "id": "4f5ec3a6",
   "metadata": {},
   "outputs": [],
   "source": [
    "X_test= []\n",
    "for i in range(k, len(test_input)):\n",
    "    X_test.append(test_input[i-k:i, 0])\n",
    "X_test = np.array(X_test)"
   ]
  },
  {
   "cell_type": "code",
   "execution_count": 26,
   "id": "d38bbe17",
   "metadata": {},
   "outputs": [
    {
     "data": {
      "text/plain": [
       "(20, 40)"
      ]
     },
     "execution_count": 26,
     "metadata": {},
     "output_type": "execute_result"
    }
   ],
   "source": [
    "X_test.shape"
   ]
  },
  {
   "cell_type": "code",
   "execution_count": 27,
   "id": "f861e311",
   "metadata": {},
   "outputs": [],
   "source": [
    "X_test = np.reshape(X_test, (X_test.shape[0], X_test.shape[1], 1))"
   ]
  },
  {
   "cell_type": "markdown",
   "id": "b5c63991",
   "metadata": {},
   "source": [
    "### RNN predictions"
   ]
  },
  {
   "cell_type": "code",
   "execution_count": 28,
   "id": "995cf55d",
   "metadata": {},
   "outputs": [
    {
     "name": "stdout",
     "output_type": "stream",
     "text": [
      "1/1 [==============================] - 2s 2s/step\n"
     ]
    }
   ],
   "source": [
    "pred_price = stock_predictor.predict(X_test)"
   ]
  },
  {
   "cell_type": "code",
   "execution_count": 29,
   "id": "6015ca22",
   "metadata": {},
   "outputs": [
    {
     "data": {
      "text/plain": [
       "(20, 1)"
      ]
     },
     "execution_count": 29,
     "metadata": {},
     "output_type": "execute_result"
    }
   ],
   "source": [
    "pred_price.shape"
   ]
  },
  {
   "cell_type": "markdown",
   "id": "4ed7f1aa",
   "metadata": {},
   "source": [
    "### Inverse scaling predicted price"
   ]
  },
  {
   "cell_type": "code",
   "execution_count": 30,
   "id": "0d3f1bbe",
   "metadata": {},
   "outputs": [],
   "source": [
    "pred_price = sc.inverse_transform(pred_price)"
   ]
  },
  {
   "cell_type": "markdown",
   "id": "46339f14",
   "metadata": {},
   "source": [
    "### Visualising Results"
   ]
  },
  {
   "cell_type": "code",
   "execution_count": 33,
   "id": "02cc3c97",
   "metadata": {},
   "outputs": [
    {
     "data": {
      "image/png": "[encoded data removed]",
      "text/plain": [
       "<Figure size 720x504 with 1 Axes>"
      ]
     },
     "metadata": {
      "needs_background": "light"
     },
     "output_type": "display_data"
    }
   ],
   "source": [
    "plt.figure (figsize = (10,7))\n",
    "plt.plot(real_price, color = 'red', label = 'Real Price')\n",
    "plt.plot(pred_price, color = 'blue', label = 'Predicted  Price')\n",
    "plt.title('Price Prediction')\n",
    "plt.xlabel('Time')\n",
    "plt.ylabel(' Price')\n",
    "plt.legend()\n",
    "plt.show()"
   ]
  },
  {
   "cell_type": "code",
   "execution_count": null,
   "id": "9f8a89fc",
   "metadata": {},
   "outputs": [],
   "source": []
  }
 ],
 "metadata": {
  "kernelspec": {
   "display_name": "Python 3 (ipykernel)",
   "language": "python",
   "name": "python3"
  },
  "language_info": {
   "codemirror_mode": {
    "name": "ipython",
    "version": 3
   },
   "file_extension": ".py",
   "mimetype": "text/x-python",
   "name": "python",
   "nbconvert_exporter": "python",
   "pygments_lexer": "ipython3",
   "version": "3.9.12"
  }
 },
 "nbformat": 4,
 "nbformat_minor": 5
}
